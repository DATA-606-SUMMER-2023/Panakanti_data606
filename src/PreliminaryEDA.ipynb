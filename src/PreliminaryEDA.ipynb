{
  "nbformat": 4,
  "nbformat_minor": 0,
  "metadata": {
    "colab": {
      "provenance": []
    },
    "kernelspec": {
      "name": "python3",
      "display_name": "Python 3"
    },
    "language_info": {
      "name": "python"
    }
  },
  "cells": [
    {
      "cell_type": "markdown",
      "source": [
        "# **Title:** Predicting Bail status and Bail amount charged\n",
        "\n",
        "\n",
        "**Author:** Snigdha Panakanti\n",
        "\n",
        "**Term:** Summer 2023"
      ],
      "metadata": {
        "id": "hC8qEYyYEWOz"
      }
    },
    {
      "cell_type": "markdown",
      "source": [
        "Importing required Libraries:"
      ],
      "metadata": {
        "id": "yqij7Q52EOE-"
      }
    },
    {
      "cell_type": "code",
      "execution_count": 1,
      "metadata": {
        "id": "ciYPlOLcq715"
      },
      "outputs": [],
      "source": [
        "import pandas as pd\n",
        "import numpy as np\n",
        "import matplotlib.pyplot as plt\n",
        "import seaborn as sns\n",
        "import matplotlib.ticker as ticker"
      ]
    },
    {
      "cell_type": "markdown",
      "source": [
        "Loading the dataset:"
      ],
      "metadata": {
        "id": "rrhdJSl0rGjM"
      }
    },
    {
      "cell_type": "code",
      "source": [
        "df = pd.read_csv('/content/PretrialReleaseDataExtractWeb.csv')"
      ],
      "metadata": {
        "id": "VioxXNMyrDY-"
      },
      "execution_count": 2,
      "outputs": []
    },
    {
      "cell_type": "code",
      "source": [
        "df.head()"
      ],
      "metadata": {
        "id": "ryPI9FM3rJaK",
        "colab": {
          "base_uri": "https://localhost:8080/",
          "height": 438
        },
        "outputId": "0d4b77f3-f95e-4f03-d3cc-763061250158"
      },
      "execution_count": 3,
      "outputs": [
        {
          "output_type": "execute_result",
          "data": {
            "text/plain": [
              "                                    Internal_Case_ID   Gender     Race  \\\n",
              "0  0x866BC1A9D02C2D5D8C5E012A1263CBCB186AAD4EC432...   Female    White   \n",
              "1  0x19CE12EEBB600591525A623342A703545C8217AECBED...     Male    Black   \n",
              "2  0xF7CC1FA4C28B406C23DB333B96623EE4B85C447CA524...     Male  Unknown   \n",
              "3  0x6D65E9BD03FE9F08760481FD325804F8F74FF2C874E1...  Unknown  Unknown   \n",
              "4  0xB9F29E48ABC1069053C191061BB6B3B0792DBCD96FD1...     Male    White   \n",
              "\n",
              "      Ethnicity  Age_at_Crime  Age_at_Arrest               Court_Name  \\\n",
              "0       Unknown          32.0            0.0    Queens Criminal Court   \n",
              "1  Non Hispanic          38.0           38.0  New York Criminal Court   \n",
              "2       Unknown          31.0           31.0      Syracuse City Court   \n",
              "3       Unknown          28.0           28.0          Rome City Court   \n",
              "4  Non Hispanic          36.0           36.0  New York Criminal Court   \n",
              "\n",
              "   Court_ORI County_Name     District  ... prior_misd_cnt pend_vfo  \\\n",
              "0  NY040033J      Queens  District 11  ...            0.0      0.0   \n",
              "1  NY030033J    New York   District 1  ...            0.0      0.0   \n",
              "2  NY033011J    Onondaga   District 5  ...            NaN      NaN   \n",
              "3  NY032011J      Oneida   District 5  ...            NaN      NaN   \n",
              "4  NY030033J    New York   District 1  ...           10.0      0.0   \n",
              "\n",
              "  pend_nonvfo pend_misd supervision     rearrest rearrest_date  \\\n",
              "0         0.0       0.0         0.0    No Arrest           NaN   \n",
              "1         0.0       0.0         0.0    No Arrest           NaN   \n",
              "2         NaN       NaN         NaN          NaN           NaN   \n",
              "3         NaN       NaN         NaN          NaN           NaN   \n",
              "4         1.0       1.0         0.0  Misdemeanor      1/1/2020   \n",
              "\n",
              "  rearrest_firearm rearrest_date_firearm arr_cycle_id  \n",
              "0              0.0                   NaN          NaN  \n",
              "1              0.0                   NaN     325544.0  \n",
              "2              NaN                   NaN          NaN  \n",
              "3              NaN                   NaN          NaN  \n",
              "4              0.0                   NaN     355075.0  \n",
              "\n",
              "[5 rows x 108 columns]"
            ],
            "text/html": [
              "\n",
              "  <div id=\"df-418d7224-5343-48a9-8c47-f45ae75dc851\">\n",
              "    <div class=\"colab-df-container\">\n",
              "      <div>\n",
              "<style scoped>\n",
              "    .dataframe tbody tr th:only-of-type {\n",
              "        vertical-align: middle;\n",
              "    }\n",
              "\n",
              "    .dataframe tbody tr th {\n",
              "        vertical-align: top;\n",
              "    }\n",
              "\n",
              "    .dataframe thead th {\n",
              "        text-align: right;\n",
              "    }\n",
              "</style>\n",
              "<table border=\"1\" class=\"dataframe\">\n",
              "  <thead>\n",
              "    <tr style=\"text-align: right;\">\n",
              "      <th></th>\n",
              "      <th>Internal_Case_ID</th>\n",
              "      <th>Gender</th>\n",
              "      <th>Race</th>\n",
              "      <th>Ethnicity</th>\n",
              "      <th>Age_at_Crime</th>\n",
              "      <th>Age_at_Arrest</th>\n",
              "      <th>Court_Name</th>\n",
              "      <th>Court_ORI</th>\n",
              "      <th>County_Name</th>\n",
              "      <th>District</th>\n",
              "      <th>...</th>\n",
              "      <th>prior_misd_cnt</th>\n",
              "      <th>pend_vfo</th>\n",
              "      <th>pend_nonvfo</th>\n",
              "      <th>pend_misd</th>\n",
              "      <th>supervision</th>\n",
              "      <th>rearrest</th>\n",
              "      <th>rearrest_date</th>\n",
              "      <th>rearrest_firearm</th>\n",
              "      <th>rearrest_date_firearm</th>\n",
              "      <th>arr_cycle_id</th>\n",
              "    </tr>\n",
              "  </thead>\n",
              "  <tbody>\n",
              "    <tr>\n",
              "      <th>0</th>\n",
              "      <td>0x866BC1A9D02C2D5D8C5E012A1263CBCB186AAD4EC432...</td>\n",
              "      <td>Female</td>\n",
              "      <td>White</td>\n",
              "      <td>Unknown</td>\n",
              "      <td>32.0</td>\n",
              "      <td>0.0</td>\n",
              "      <td>Queens Criminal Court</td>\n",
              "      <td>NY040033J</td>\n",
              "      <td>Queens</td>\n",
              "      <td>District 11</td>\n",
              "      <td>...</td>\n",
              "      <td>0.0</td>\n",
              "      <td>0.0</td>\n",
              "      <td>0.0</td>\n",
              "      <td>0.0</td>\n",
              "      <td>0.0</td>\n",
              "      <td>No Arrest</td>\n",
              "      <td>NaN</td>\n",
              "      <td>0.0</td>\n",
              "      <td>NaN</td>\n",
              "      <td>NaN</td>\n",
              "    </tr>\n",
              "    <tr>\n",
              "      <th>1</th>\n",
              "      <td>0x19CE12EEBB600591525A623342A703545C8217AECBED...</td>\n",
              "      <td>Male</td>\n",
              "      <td>Black</td>\n",
              "      <td>Non Hispanic</td>\n",
              "      <td>38.0</td>\n",
              "      <td>38.0</td>\n",
              "      <td>New York Criminal Court</td>\n",
              "      <td>NY030033J</td>\n",
              "      <td>New York</td>\n",
              "      <td>District 1</td>\n",
              "      <td>...</td>\n",
              "      <td>0.0</td>\n",
              "      <td>0.0</td>\n",
              "      <td>0.0</td>\n",
              "      <td>0.0</td>\n",
              "      <td>0.0</td>\n",
              "      <td>No Arrest</td>\n",
              "      <td>NaN</td>\n",
              "      <td>0.0</td>\n",
              "      <td>NaN</td>\n",
              "      <td>325544.0</td>\n",
              "    </tr>\n",
              "    <tr>\n",
              "      <th>2</th>\n",
              "      <td>0xF7CC1FA4C28B406C23DB333B96623EE4B85C447CA524...</td>\n",
              "      <td>Male</td>\n",
              "      <td>Unknown</td>\n",
              "      <td>Unknown</td>\n",
              "      <td>31.0</td>\n",
              "      <td>31.0</td>\n",
              "      <td>Syracuse City Court</td>\n",
              "      <td>NY033011J</td>\n",
              "      <td>Onondaga</td>\n",
              "      <td>District 5</td>\n",
              "      <td>...</td>\n",
              "      <td>NaN</td>\n",
              "      <td>NaN</td>\n",
              "      <td>NaN</td>\n",
              "      <td>NaN</td>\n",
              "      <td>NaN</td>\n",
              "      <td>NaN</td>\n",
              "      <td>NaN</td>\n",
              "      <td>NaN</td>\n",
              "      <td>NaN</td>\n",
              "      <td>NaN</td>\n",
              "    </tr>\n",
              "    <tr>\n",
              "      <th>3</th>\n",
              "      <td>0x6D65E9BD03FE9F08760481FD325804F8F74FF2C874E1...</td>\n",
              "      <td>Unknown</td>\n",
              "      <td>Unknown</td>\n",
              "      <td>Unknown</td>\n",
              "      <td>28.0</td>\n",
              "      <td>28.0</td>\n",
              "      <td>Rome City Court</td>\n",
              "      <td>NY032011J</td>\n",
              "      <td>Oneida</td>\n",
              "      <td>District 5</td>\n",
              "      <td>...</td>\n",
              "      <td>NaN</td>\n",
              "      <td>NaN</td>\n",
              "      <td>NaN</td>\n",
              "      <td>NaN</td>\n",
              "      <td>NaN</td>\n",
              "      <td>NaN</td>\n",
              "      <td>NaN</td>\n",
              "      <td>NaN</td>\n",
              "      <td>NaN</td>\n",
              "      <td>NaN</td>\n",
              "    </tr>\n",
              "    <tr>\n",
              "      <th>4</th>\n",
              "      <td>0xB9F29E48ABC1069053C191061BB6B3B0792DBCD96FD1...</td>\n",
              "      <td>Male</td>\n",
              "      <td>White</td>\n",
              "      <td>Non Hispanic</td>\n",
              "      <td>36.0</td>\n",
              "      <td>36.0</td>\n",
              "      <td>New York Criminal Court</td>\n",
              "      <td>NY030033J</td>\n",
              "      <td>New York</td>\n",
              "      <td>District 1</td>\n",
              "      <td>...</td>\n",
              "      <td>10.0</td>\n",
              "      <td>0.0</td>\n",
              "      <td>1.0</td>\n",
              "      <td>1.0</td>\n",
              "      <td>0.0</td>\n",
              "      <td>Misdemeanor</td>\n",
              "      <td>1/1/2020</td>\n",
              "      <td>0.0</td>\n",
              "      <td>NaN</td>\n",
              "      <td>355075.0</td>\n",
              "    </tr>\n",
              "  </tbody>\n",
              "</table>\n",
              "<p>5 rows × 108 columns</p>\n",
              "</div>\n",
              "      <button class=\"colab-df-convert\" onclick=\"convertToInteractive('df-418d7224-5343-48a9-8c47-f45ae75dc851')\"\n",
              "              title=\"Convert this dataframe to an interactive table.\"\n",
              "              style=\"display:none;\">\n",
              "        \n",
              "  <svg xmlns=\"http://www.w3.org/2000/svg\" height=\"24px\"viewBox=\"0 0 24 24\"\n",
              "       width=\"24px\">\n",
              "    <path d=\"M0 0h24v24H0V0z\" fill=\"none\"/>\n",
              "    <path d=\"M18.56 5.44l.94 2.06.94-2.06 2.06-.94-2.06-.94-.94-2.06-.94 2.06-2.06.94zm-11 1L8.5 8.5l.94-2.06 2.06-.94-2.06-.94L8.5 2.5l-.94 2.06-2.06.94zm10 10l.94 2.06.94-2.06 2.06-.94-2.06-.94-.94-2.06-.94 2.06-2.06.94z\"/><path d=\"M17.41 7.96l-1.37-1.37c-.4-.4-.92-.59-1.43-.59-.52 0-1.04.2-1.43.59L10.3 9.45l-7.72 7.72c-.78.78-.78 2.05 0 2.83L4 21.41c.39.39.9.59 1.41.59.51 0 1.02-.2 1.41-.59l7.78-7.78 2.81-2.81c.8-.78.8-2.07 0-2.86zM5.41 20L4 18.59l7.72-7.72 1.47 1.35L5.41 20z\"/>\n",
              "  </svg>\n",
              "      </button>\n",
              "      \n",
              "  <style>\n",
              "    .colab-df-container {\n",
              "      display:flex;\n",
              "      flex-wrap:wrap;\n",
              "      gap: 12px;\n",
              "    }\n",
              "\n",
              "    .colab-df-convert {\n",
              "      background-color: #E8F0FE;\n",
              "      border: none;\n",
              "      border-radius: 50%;\n",
              "      cursor: pointer;\n",
              "      display: none;\n",
              "      fill: #1967D2;\n",
              "      height: 32px;\n",
              "      padding: 0 0 0 0;\n",
              "      width: 32px;\n",
              "    }\n",
              "\n",
              "    .colab-df-convert:hover {\n",
              "      background-color: #E2EBFA;\n",
              "      box-shadow: 0px 1px 2px rgba(60, 64, 67, 0.3), 0px 1px 3px 1px rgba(60, 64, 67, 0.15);\n",
              "      fill: #174EA6;\n",
              "    }\n",
              "\n",
              "    [theme=dark] .colab-df-convert {\n",
              "      background-color: #3B4455;\n",
              "      fill: #D2E3FC;\n",
              "    }\n",
              "\n",
              "    [theme=dark] .colab-df-convert:hover {\n",
              "      background-color: #434B5C;\n",
              "      box-shadow: 0px 1px 3px 1px rgba(0, 0, 0, 0.15);\n",
              "      filter: drop-shadow(0px 1px 2px rgba(0, 0, 0, 0.3));\n",
              "      fill: #FFFFFF;\n",
              "    }\n",
              "  </style>\n",
              "\n",
              "      <script>\n",
              "        const buttonEl =\n",
              "          document.querySelector('#df-418d7224-5343-48a9-8c47-f45ae75dc851 button.colab-df-convert');\n",
              "        buttonEl.style.display =\n",
              "          google.colab.kernel.accessAllowed ? 'block' : 'none';\n",
              "\n",
              "        async function convertToInteractive(key) {\n",
              "          const element = document.querySelector('#df-418d7224-5343-48a9-8c47-f45ae75dc851');\n",
              "          const dataTable =\n",
              "            await google.colab.kernel.invokeFunction('convertToInteractive',\n",
              "                                                     [key], {});\n",
              "          if (!dataTable) return;\n",
              "\n",
              "          const docLinkHtml = 'Like what you see? Visit the ' +\n",
              "            '<a target=\"_blank\" href=https://colab.research.google.com/notebooks/data_table.ipynb>data table notebook</a>'\n",
              "            + ' to learn more about interactive tables.';\n",
              "          element.innerHTML = '';\n",
              "          dataTable['output_type'] = 'display_data';\n",
              "          await google.colab.output.renderOutput(dataTable, element);\n",
              "          const docLink = document.createElement('div');\n",
              "          docLink.innerHTML = docLinkHtml;\n",
              "          element.appendChild(docLink);\n",
              "        }\n",
              "      </script>\n",
              "    </div>\n",
              "  </div>\n",
              "  "
            ]
          },
          "metadata": {},
          "execution_count": 3
        }
      ]
    },
    {
      "cell_type": "code",
      "source": [
        "df.shape"
      ],
      "metadata": {
        "id": "l_rZ1CfNrWLI",
        "colab": {
          "base_uri": "https://localhost:8080/"
        },
        "outputId": "402d6f72-12d1-4b06-e315-6da3b1523596"
      },
      "execution_count": 4,
      "outputs": [
        {
          "output_type": "execute_result",
          "data": {
            "text/plain": [
              "(284098, 108)"
            ]
          },
          "metadata": {},
          "execution_count": 4
        }
      ]
    },
    {
      "cell_type": "code",
      "source": [
        "df.info()"
      ],
      "metadata": {
        "id": "JPHaVQeCrtcU",
        "colab": {
          "base_uri": "https://localhost:8080/"
        },
        "outputId": "bae763a2-32ac-4b3b-b2bf-1baa52ab8326"
      },
      "execution_count": 5,
      "outputs": [
        {
          "output_type": "stream",
          "name": "stdout",
          "text": [
            "<class 'pandas.core.frame.DataFrame'>\n",
            "RangeIndex: 284098 entries, 0 to 284097\n",
            "Columns: 108 entries, Internal_Case_ID to arr_cycle_id\n",
            "dtypes: float64(20), object(88)\n",
            "memory usage: 234.1+ MB\n"
          ]
        }
      ]
    },
    {
      "cell_type": "code",
      "source": [
        "df.describe()"
      ],
      "metadata": {
        "id": "EsZzNSpnrwMe",
        "colab": {
          "base_uri": "https://localhost:8080/",
          "height": 364
        },
        "outputId": "ab3614de-90b3-412f-f512-7edafb5d9c02"
      },
      "execution_count": 6,
      "outputs": [
        {
          "output_type": "execute_result",
          "data": {
            "text/plain": [
              "        Age_at_Crime  Age_at_Arrest  App_Count_Arraign_to_Dispo_Released  \\\n",
              "count  284096.000000  284096.000000                        284096.000000   \n",
              "mean       35.193185      34.948334                             3.161713   \n",
              "std        11.876270      12.336724                             3.006000   \n",
              "min         0.000000       0.000000                            -2.000000   \n",
              "25%        26.000000      26.000000                             1.000000   \n",
              "50%        33.000000      33.000000                             2.000000   \n",
              "75%        42.000000      42.000000                             4.000000   \n",
              "max        93.000000      93.000000                            61.000000   \n",
              "\n",
              "       App_Count_Arraign_to_Dispo_Detained  App_Count_Arraign_to_Dispo_Total  \\\n",
              "count                        284096.000000                     284096.000000   \n",
              "mean                              0.612353                          3.774066   \n",
              "std                               1.703410                          3.221497   \n",
              "min                               0.000000                          0.000000   \n",
              "25%                               0.000000                          2.000000   \n",
              "50%                               0.000000                          3.000000   \n",
              "75%                               0.000000                          5.000000   \n",
              "max                              61.000000                         72.000000   \n",
              "\n",
              "          Num_of_ROW  Days_Arraign_Remand_First_Released  \\\n",
              "count  284096.000000                         6659.000000   \n",
              "mean        0.069160                           37.961406   \n",
              "std         0.326338                           66.781975   \n",
              "min         0.000000                            1.000000   \n",
              "25%         0.000000                            5.000000   \n",
              "50%         0.000000                            7.000000   \n",
              "75%         0.000000                           38.000000   \n",
              "max         8.000000                          586.000000   \n",
              "\n",
              "       Known_Days_in_Custody  Days_Arraign_Bail_Set_to_First_Posted  \\\n",
              "count          284096.000000                           12314.000000   \n",
              "mean               11.815302                              14.441936   \n",
              "std                52.189276                              38.888718   \n",
              "min                 0.000000                               1.000000   \n",
              "25%                 0.000000                               1.000000   \n",
              "50%                 0.000000                               2.000000   \n",
              "75%                 0.000000                               8.000000   \n",
              "max             12161.000000                             543.000000   \n",
              "\n",
              "       Days_Arraign_Bail_Set_to_First_Release  Days_Arraign_to_Dispo  \\\n",
              "count                            35968.000000          224316.000000   \n",
              "mean                                41.888679             114.048877   \n",
              "std                                 73.820571             119.521512   \n",
              "min                                  1.000000               0.000000   \n",
              "25%                                  3.000000               8.000000   \n",
              "50%                                  7.000000              84.000000   \n",
              "75%                                 46.000000             178.000000   \n",
              "max                                583.000000             611.000000   \n",
              "\n",
              "       prior_vfo_cnt  prior_nonvfo_cnt  prior_misd_cnt       pend_vfo  \\\n",
              "count  239984.000000     239984.000000   239984.000000  239984.000000   \n",
              "mean        0.201926          0.478294        1.972682       0.083039   \n",
              "std         0.485111          0.959980        3.110412       0.275942   \n",
              "min         0.000000          0.000000        0.000000       0.000000   \n",
              "25%         0.000000          0.000000        0.000000       0.000000   \n",
              "50%         0.000000          0.000000        0.000000       0.000000   \n",
              "75%         0.000000          1.000000        3.000000       0.000000   \n",
              "max         2.000000          4.000000       10.000000       1.000000   \n",
              "\n",
              "         pend_nonvfo      pend_misd    supervision  rearrest_firearm  \\\n",
              "count  239984.000000  239984.000000  239984.000000     239984.000000   \n",
              "mean        0.178116       0.237474       0.091464          0.007317   \n",
              "std         0.382611       0.425536       0.288269          0.085227   \n",
              "min         0.000000       0.000000       0.000000          0.000000   \n",
              "25%         0.000000       0.000000       0.000000          0.000000   \n",
              "50%         0.000000       0.000000       0.000000          0.000000   \n",
              "75%         0.000000       0.000000       0.000000          0.000000   \n",
              "max         1.000000       1.000000       1.000000          1.000000   \n",
              "\n",
              "        arr_cycle_id  \n",
              "count  235933.000000  \n",
              "mean   351409.914255  \n",
              "std     68352.132232  \n",
              "min    235934.000000  \n",
              "25%    291760.000000  \n",
              "50%    350281.000000  \n",
              "75%    410404.000000  \n",
              "max    471866.000000  "
            ],
            "text/html": [
              "\n",
              "  <div id=\"df-ca4e6644-de98-4ca6-ac0d-ac3ab15c614b\">\n",
              "    <div class=\"colab-df-container\">\n",
              "      <div>\n",
              "<style scoped>\n",
              "    .dataframe tbody tr th:only-of-type {\n",
              "        vertical-align: middle;\n",
              "    }\n",
              "\n",
              "    .dataframe tbody tr th {\n",
              "        vertical-align: top;\n",
              "    }\n",
              "\n",
              "    .dataframe thead th {\n",
              "        text-align: right;\n",
              "    }\n",
              "</style>\n",
              "<table border=\"1\" class=\"dataframe\">\n",
              "  <thead>\n",
              "    <tr style=\"text-align: right;\">\n",
              "      <th></th>\n",
              "      <th>Age_at_Crime</th>\n",
              "      <th>Age_at_Arrest</th>\n",
              "      <th>App_Count_Arraign_to_Dispo_Released</th>\n",
              "      <th>App_Count_Arraign_to_Dispo_Detained</th>\n",
              "      <th>App_Count_Arraign_to_Dispo_Total</th>\n",
              "      <th>Num_of_ROW</th>\n",
              "      <th>Days_Arraign_Remand_First_Released</th>\n",
              "      <th>Known_Days_in_Custody</th>\n",
              "      <th>Days_Arraign_Bail_Set_to_First_Posted</th>\n",
              "      <th>Days_Arraign_Bail_Set_to_First_Release</th>\n",
              "      <th>Days_Arraign_to_Dispo</th>\n",
              "      <th>prior_vfo_cnt</th>\n",
              "      <th>prior_nonvfo_cnt</th>\n",
              "      <th>prior_misd_cnt</th>\n",
              "      <th>pend_vfo</th>\n",
              "      <th>pend_nonvfo</th>\n",
              "      <th>pend_misd</th>\n",
              "      <th>supervision</th>\n",
              "      <th>rearrest_firearm</th>\n",
              "      <th>arr_cycle_id</th>\n",
              "    </tr>\n",
              "  </thead>\n",
              "  <tbody>\n",
              "    <tr>\n",
              "      <th>count</th>\n",
              "      <td>284096.000000</td>\n",
              "      <td>284096.000000</td>\n",
              "      <td>284096.000000</td>\n",
              "      <td>284096.000000</td>\n",
              "      <td>284096.000000</td>\n",
              "      <td>284096.000000</td>\n",
              "      <td>6659.000000</td>\n",
              "      <td>284096.000000</td>\n",
              "      <td>12314.000000</td>\n",
              "      <td>35968.000000</td>\n",
              "      <td>224316.000000</td>\n",
              "      <td>239984.000000</td>\n",
              "      <td>239984.000000</td>\n",
              "      <td>239984.000000</td>\n",
              "      <td>239984.000000</td>\n",
              "      <td>239984.000000</td>\n",
              "      <td>239984.000000</td>\n",
              "      <td>239984.000000</td>\n",
              "      <td>239984.000000</td>\n",
              "      <td>235933.000000</td>\n",
              "    </tr>\n",
              "    <tr>\n",
              "      <th>mean</th>\n",
              "      <td>35.193185</td>\n",
              "      <td>34.948334</td>\n",
              "      <td>3.161713</td>\n",
              "      <td>0.612353</td>\n",
              "      <td>3.774066</td>\n",
              "      <td>0.069160</td>\n",
              "      <td>37.961406</td>\n",
              "      <td>11.815302</td>\n",
              "      <td>14.441936</td>\n",
              "      <td>41.888679</td>\n",
              "      <td>114.048877</td>\n",
              "      <td>0.201926</td>\n",
              "      <td>0.478294</td>\n",
              "      <td>1.972682</td>\n",
              "      <td>0.083039</td>\n",
              "      <td>0.178116</td>\n",
              "      <td>0.237474</td>\n",
              "      <td>0.091464</td>\n",
              "      <td>0.007317</td>\n",
              "      <td>351409.914255</td>\n",
              "    </tr>\n",
              "    <tr>\n",
              "      <th>std</th>\n",
              "      <td>11.876270</td>\n",
              "      <td>12.336724</td>\n",
              "      <td>3.006000</td>\n",
              "      <td>1.703410</td>\n",
              "      <td>3.221497</td>\n",
              "      <td>0.326338</td>\n",
              "      <td>66.781975</td>\n",
              "      <td>52.189276</td>\n",
              "      <td>38.888718</td>\n",
              "      <td>73.820571</td>\n",
              "      <td>119.521512</td>\n",
              "      <td>0.485111</td>\n",
              "      <td>0.959980</td>\n",
              "      <td>3.110412</td>\n",
              "      <td>0.275942</td>\n",
              "      <td>0.382611</td>\n",
              "      <td>0.425536</td>\n",
              "      <td>0.288269</td>\n",
              "      <td>0.085227</td>\n",
              "      <td>68352.132232</td>\n",
              "    </tr>\n",
              "    <tr>\n",
              "      <th>min</th>\n",
              "      <td>0.000000</td>\n",
              "      <td>0.000000</td>\n",
              "      <td>-2.000000</td>\n",
              "      <td>0.000000</td>\n",
              "      <td>0.000000</td>\n",
              "      <td>0.000000</td>\n",
              "      <td>1.000000</td>\n",
              "      <td>0.000000</td>\n",
              "      <td>1.000000</td>\n",
              "      <td>1.000000</td>\n",
              "      <td>0.000000</td>\n",
              "      <td>0.000000</td>\n",
              "      <td>0.000000</td>\n",
              "      <td>0.000000</td>\n",
              "      <td>0.000000</td>\n",
              "      <td>0.000000</td>\n",
              "      <td>0.000000</td>\n",
              "      <td>0.000000</td>\n",
              "      <td>0.000000</td>\n",
              "      <td>235934.000000</td>\n",
              "    </tr>\n",
              "    <tr>\n",
              "      <th>25%</th>\n",
              "      <td>26.000000</td>\n",
              "      <td>26.000000</td>\n",
              "      <td>1.000000</td>\n",
              "      <td>0.000000</td>\n",
              "      <td>2.000000</td>\n",
              "      <td>0.000000</td>\n",
              "      <td>5.000000</td>\n",
              "      <td>0.000000</td>\n",
              "      <td>1.000000</td>\n",
              "      <td>3.000000</td>\n",
              "      <td>8.000000</td>\n",
              "      <td>0.000000</td>\n",
              "      <td>0.000000</td>\n",
              "      <td>0.000000</td>\n",
              "      <td>0.000000</td>\n",
              "      <td>0.000000</td>\n",
              "      <td>0.000000</td>\n",
              "      <td>0.000000</td>\n",
              "      <td>0.000000</td>\n",
              "      <td>291760.000000</td>\n",
              "    </tr>\n",
              "    <tr>\n",
              "      <th>50%</th>\n",
              "      <td>33.000000</td>\n",
              "      <td>33.000000</td>\n",
              "      <td>2.000000</td>\n",
              "      <td>0.000000</td>\n",
              "      <td>3.000000</td>\n",
              "      <td>0.000000</td>\n",
              "      <td>7.000000</td>\n",
              "      <td>0.000000</td>\n",
              "      <td>2.000000</td>\n",
              "      <td>7.000000</td>\n",
              "      <td>84.000000</td>\n",
              "      <td>0.000000</td>\n",
              "      <td>0.000000</td>\n",
              "      <td>0.000000</td>\n",
              "      <td>0.000000</td>\n",
              "      <td>0.000000</td>\n",
              "      <td>0.000000</td>\n",
              "      <td>0.000000</td>\n",
              "      <td>0.000000</td>\n",
              "      <td>350281.000000</td>\n",
              "    </tr>\n",
              "    <tr>\n",
              "      <th>75%</th>\n",
              "      <td>42.000000</td>\n",
              "      <td>42.000000</td>\n",
              "      <td>4.000000</td>\n",
              "      <td>0.000000</td>\n",
              "      <td>5.000000</td>\n",
              "      <td>0.000000</td>\n",
              "      <td>38.000000</td>\n",
              "      <td>0.000000</td>\n",
              "      <td>8.000000</td>\n",
              "      <td>46.000000</td>\n",
              "      <td>178.000000</td>\n",
              "      <td>0.000000</td>\n",
              "      <td>1.000000</td>\n",
              "      <td>3.000000</td>\n",
              "      <td>0.000000</td>\n",
              "      <td>0.000000</td>\n",
              "      <td>0.000000</td>\n",
              "      <td>0.000000</td>\n",
              "      <td>0.000000</td>\n",
              "      <td>410404.000000</td>\n",
              "    </tr>\n",
              "    <tr>\n",
              "      <th>max</th>\n",
              "      <td>93.000000</td>\n",
              "      <td>93.000000</td>\n",
              "      <td>61.000000</td>\n",
              "      <td>61.000000</td>\n",
              "      <td>72.000000</td>\n",
              "      <td>8.000000</td>\n",
              "      <td>586.000000</td>\n",
              "      <td>12161.000000</td>\n",
              "      <td>543.000000</td>\n",
              "      <td>583.000000</td>\n",
              "      <td>611.000000</td>\n",
              "      <td>2.000000</td>\n",
              "      <td>4.000000</td>\n",
              "      <td>10.000000</td>\n",
              "      <td>1.000000</td>\n",
              "      <td>1.000000</td>\n",
              "      <td>1.000000</td>\n",
              "      <td>1.000000</td>\n",
              "      <td>1.000000</td>\n",
              "      <td>471866.000000</td>\n",
              "    </tr>\n",
              "  </tbody>\n",
              "</table>\n",
              "</div>\n",
              "      <button class=\"colab-df-convert\" onclick=\"convertToInteractive('df-ca4e6644-de98-4ca6-ac0d-ac3ab15c614b')\"\n",
              "              title=\"Convert this dataframe to an interactive table.\"\n",
              "              style=\"display:none;\">\n",
              "        \n",
              "  <svg xmlns=\"http://www.w3.org/2000/svg\" height=\"24px\"viewBox=\"0 0 24 24\"\n",
              "       width=\"24px\">\n",
              "    <path d=\"M0 0h24v24H0V0z\" fill=\"none\"/>\n",
              "    <path d=\"M18.56 5.44l.94 2.06.94-2.06 2.06-.94-2.06-.94-.94-2.06-.94 2.06-2.06.94zm-11 1L8.5 8.5l.94-2.06 2.06-.94-2.06-.94L8.5 2.5l-.94 2.06-2.06.94zm10 10l.94 2.06.94-2.06 2.06-.94-2.06-.94-.94-2.06-.94 2.06-2.06.94z\"/><path d=\"M17.41 7.96l-1.37-1.37c-.4-.4-.92-.59-1.43-.59-.52 0-1.04.2-1.43.59L10.3 9.45l-7.72 7.72c-.78.78-.78 2.05 0 2.83L4 21.41c.39.39.9.59 1.41.59.51 0 1.02-.2 1.41-.59l7.78-7.78 2.81-2.81c.8-.78.8-2.07 0-2.86zM5.41 20L4 18.59l7.72-7.72 1.47 1.35L5.41 20z\"/>\n",
              "  </svg>\n",
              "      </button>\n",
              "      \n",
              "  <style>\n",
              "    .colab-df-container {\n",
              "      display:flex;\n",
              "      flex-wrap:wrap;\n",
              "      gap: 12px;\n",
              "    }\n",
              "\n",
              "    .colab-df-convert {\n",
              "      background-color: #E8F0FE;\n",
              "      border: none;\n",
              "      border-radius: 50%;\n",
              "      cursor: pointer;\n",
              "      display: none;\n",
              "      fill: #1967D2;\n",
              "      height: 32px;\n",
              "      padding: 0 0 0 0;\n",
              "      width: 32px;\n",
              "    }\n",
              "\n",
              "    .colab-df-convert:hover {\n",
              "      background-color: #E2EBFA;\n",
              "      box-shadow: 0px 1px 2px rgba(60, 64, 67, 0.3), 0px 1px 3px 1px rgba(60, 64, 67, 0.15);\n",
              "      fill: #174EA6;\n",
              "    }\n",
              "\n",
              "    [theme=dark] .colab-df-convert {\n",
              "      background-color: #3B4455;\n",
              "      fill: #D2E3FC;\n",
              "    }\n",
              "\n",
              "    [theme=dark] .colab-df-convert:hover {\n",
              "      background-color: #434B5C;\n",
              "      box-shadow: 0px 1px 3px 1px rgba(0, 0, 0, 0.15);\n",
              "      filter: drop-shadow(0px 1px 2px rgba(0, 0, 0, 0.3));\n",
              "      fill: #FFFFFF;\n",
              "    }\n",
              "  </style>\n",
              "\n",
              "      <script>\n",
              "        const buttonEl =\n",
              "          document.querySelector('#df-ca4e6644-de98-4ca6-ac0d-ac3ab15c614b button.colab-df-convert');\n",
              "        buttonEl.style.display =\n",
              "          google.colab.kernel.accessAllowed ? 'block' : 'none';\n",
              "\n",
              "        async function convertToInteractive(key) {\n",
              "          const element = document.querySelector('#df-ca4e6644-de98-4ca6-ac0d-ac3ab15c614b');\n",
              "          const dataTable =\n",
              "            await google.colab.kernel.invokeFunction('convertToInteractive',\n",
              "                                                     [key], {});\n",
              "          if (!dataTable) return;\n",
              "\n",
              "          const docLinkHtml = 'Like what you see? Visit the ' +\n",
              "            '<a target=\"_blank\" href=https://colab.research.google.com/notebooks/data_table.ipynb>data table notebook</a>'\n",
              "            + ' to learn more about interactive tables.';\n",
              "          element.innerHTML = '';\n",
              "          dataTable['output_type'] = 'display_data';\n",
              "          await google.colab.output.renderOutput(dataTable, element);\n",
              "          const docLink = document.createElement('div');\n",
              "          docLink.innerHTML = docLinkHtml;\n",
              "          element.appendChild(docLink);\n",
              "        }\n",
              "      </script>\n",
              "    </div>\n",
              "  </div>\n",
              "  "
            ]
          },
          "metadata": {},
          "execution_count": 6
        }
      ]
    },
    {
      "cell_type": "code",
      "source": [
        "df.isnull().sum()"
      ],
      "metadata": {
        "id": "nbH_i-JWsDRN",
        "colab": {
          "base_uri": "https://localhost:8080/"
        },
        "outputId": "226c4cfc-bf0f-4aea-befb-fc3a0123e55c"
      },
      "execution_count": 7,
      "outputs": [
        {
          "output_type": "execute_result",
          "data": {
            "text/plain": [
              "Internal_Case_ID              2\n",
              "Gender                        2\n",
              "Race                          2\n",
              "Ethnicity                     2\n",
              "Age_at_Crime                  2\n",
              "                          ...  \n",
              "rearrest                  44114\n",
              "rearrest_date            236147\n",
              "rearrest_firearm          44114\n",
              "rearrest_date_firearm    282342\n",
              "arr_cycle_id              48165\n",
              "Length: 108, dtype: int64"
            ]
          },
          "metadata": {},
          "execution_count": 7
        }
      ]
    },
    {
      "cell_type": "code",
      "source": [
        "for col in df.columns:\n",
        "    print(col)"
      ],
      "metadata": {
        "id": "mXIE_CJmsGM2",
        "colab": {
          "base_uri": "https://localhost:8080/"
        },
        "outputId": "4e3d0e55-c361-45be-e858-25873a02a297"
      },
      "execution_count": 8,
      "outputs": [
        {
          "output_type": "stream",
          "name": "stdout",
          "text": [
            "Internal_Case_ID\n",
            "Gender\n",
            "Race\n",
            "Ethnicity\n",
            "Age_at_Crime\n",
            "Age_at_Arrest\n",
            "Court_Name\n",
            "Court_ORI\n",
            "County_Name\n",
            "District\n",
            "Region\n",
            "Court_Type\n",
            "Judge_Name\n",
            "Offense_Date\n",
            "Arrest_Date\n",
            "Arrest_Type\n",
            "Top_Arrest_Law\n",
            "Top_Arrest_Article_Section\n",
            "Top_Arrest_Attempt_Indicator\n",
            "Top_Charge_at_Arrest\n",
            "Top_Charge_Severity_at_Arrest\n",
            "Top_Charge_Weight_at_Arrest\n",
            "Top_Charge_at_Arrest_Violent_Felony_Ind\n",
            "Case_Type\n",
            "First_Arraign_Date\n",
            "Top_Arraign_Law\n",
            "Top_Arraign_Article_Section\n",
            "Top_Arraign_Attempt_Indicator\n",
            "Top_Charge_at_Arraign\n",
            "Top_Severity_at_Arraign\n",
            "Top_Charge_Weight_at_Arraign\n",
            "Top_Charge_at_Arraign_Violent_Felony_Ind\n",
            "Arraign Charge Category\n",
            "Representation_Type\n",
            "App_Count_Arraign_to_Dispo_Released\n",
            "App_Count_Arraign_to_Dispo_Detained\n",
            "App_Count_Arraign_to_Dispo_Total\n",
            "Def_Attended_Sched_Pretrials\n",
            "Remanded_to_Jail_at_Arraign\n",
            "ROR_at_Arraign\n",
            "Bail_Set_and_Posted_at_Arraign\n",
            "Bail_Set_and_Not_Posted_at_Arraign\n",
            "NMR_at_Arraign\n",
            "Release Decision at Arraign\n",
            "Representation_at_Securing_Order\n",
            "Pretrial_Supervision_at_Arraign\n",
            "Contact_Pretrial_Service_Agency\n",
            "Electronic_Monitoring\n",
            "Travel_Restrictions\n",
            "Passport_Surrender\n",
            "No_Firearms_or_Weapons\n",
            "Maintain_Employment\n",
            "Maintain_Housing\n",
            "Maintain_School\n",
            "Placement_in_Mandatory_Program\n",
            "Removal_to_Hospital\n",
            "Obey_Order_of_Protection\n",
            "Obey_Court_Conditions-Family_Offense\n",
            "Other_NMR\n",
            "Order_of_Protection\n",
            "First_Bail_Set_Cash\n",
            "First_Bail_Set_Credit\n",
            "First_Insurance_Company_Bail_Bond\n",
            "First_Secured_Surety_Bond\n",
            "First_Secured_App_Bond\n",
            "First_Unsecured_Surety_Bond\n",
            "First_Unsecured_App_Bond\n",
            "First_Partially_Secured_Surety_Bond\n",
            "Partially_Secured_Surety_Bond_Perc\n",
            "First_Partially_Secured_App_Bond\n",
            "Partially_Secured_App_Bond_Perc\n",
            "Bail_Made_Indicator\n",
            "Warrant_Ordered_btw_Arraign_and_Dispo\n",
            "DAT_WO_WS_Prior_to_Arraign\n",
            "First_Bench_Warrant_Date\n",
            "Non_Stayed_WO\n",
            "Num_of_Stayed_WO\n",
            "Num_of_ROW\n",
            "Docket_Status\n",
            "Disposition_Type\n",
            "Disposition_Detail\n",
            "Dismissal_Reason\n",
            "Disposition_Date\n",
            "Most_Severe_Sentence\n",
            "Top_Conviction_Law\n",
            "Top_Conviction_Article_Section\n",
            "Top_Conviction_Attempt_Indicator\n",
            "Top_Charge_at_Conviction\n",
            "Top_Charge_Severity_at_Conviction\n",
            "Top_Charge_Weight_at_Conviction\n",
            "Top_Charge_at_Conviction_Violent_Felony_Ind\n",
            "Days_Arraign_Remand_First_Released\n",
            "Known_Days_in_Custody\n",
            "Days_Arraign_Bail_Set_to_First_Posted\n",
            "Days_Arraign_Bail_Set_to_First_Release\n",
            "Days_Arraign_to_Dispo\n",
            "prior_vfo_cnt\n",
            "prior_nonvfo_cnt\n",
            "prior_misd_cnt\n",
            "pend_vfo\n",
            "pend_nonvfo\n",
            "pend_misd\n",
            "supervision\n",
            "rearrest\n",
            "rearrest_date\n",
            "rearrest_firearm\n",
            "rearrest_date_firearm\n",
            "arr_cycle_id\n"
          ]
        }
      ]
    },
    {
      "cell_type": "markdown",
      "source": [
        "As we can see, there are 108 columns in the dataset. Let's check if they all are valid for the analysis.\n",
        "\n",
        "According to the documentation provided on the website: https://www.nycourts.gov/legacypdfs/court-research/PretrialReleaseDataDictionaryWeb.pdf, all the columns seem to be important.\n",
        "\n",
        "So, as given in the documentation, let's divide the required columns in the dataset into a sub-dataset and clean the dataset easy to explore further."
      ],
      "metadata": {
        "id": "v2uQU-OesOJa"
      }
    },
    {
      "cell_type": "markdown",
      "source": [
        "For predicting the bail decision:"
      ],
      "metadata": {
        "id": "fURQDaVItG7D"
      }
    },
    {
      "cell_type": "code",
      "source": [
        "req_col1 = ['Gender', 'Age_at_Crime', 'Race','Ethnicity','Offense_Date', 'Arraign Charge Category', 'Representation_Type','Release Decision at Arraign','County_Name']"
      ],
      "metadata": {
        "id": "zIj-hOuts_XW"
      },
      "execution_count": 9,
      "outputs": []
    },
    {
      "cell_type": "code",
      "source": [
        "bail_status = df.filter(req_col1)"
      ],
      "metadata": {
        "id": "ZYavvFCdxrdq"
      },
      "execution_count": 10,
      "outputs": []
    },
    {
      "cell_type": "code",
      "source": [
        "bail_status.head()"
      ],
      "metadata": {
        "id": "hC7GkiaKyaA0",
        "colab": {
          "base_uri": "https://localhost:8080/",
          "height": 319
        },
        "outputId": "dc4208c3-d6b4-415b-96da-045d0c6a4fc1"
      },
      "execution_count": 11,
      "outputs": [
        {
          "output_type": "execute_result",
          "data": {
            "text/plain": [
              "    Gender  Age_at_Crime     Race     Ethnicity Offense_Date  \\\n",
              "0   Female          32.0    White       Unknown          NaN   \n",
              "1     Male          38.0    Black  Non Hispanic    11/1/2019   \n",
              "2     Male          31.0  Unknown       Unknown     4/1/2017   \n",
              "3  Unknown          28.0  Unknown       Unknown     4/1/2017   \n",
              "4     Male          36.0    White  Non Hispanic     1/1/2020   \n",
              "\n",
              "  Arraign Charge Category     Representation_Type Release Decision at Arraign  \\\n",
              "0       Criminal Contempt               Legal Aid                         ROR   \n",
              "1                 Assault         Public Defender                         ROR   \n",
              "2    Unlicensed Operation  18B (Assigned Counsel)                         ROR   \n",
              "3    Unlicensed Operation         Public Defender         Disposed at arraign   \n",
              "4                 Larceny               Legal Aid         Nonmonetary release   \n",
              "\n",
              "  County_Name  \n",
              "0      Queens  \n",
              "1    New York  \n",
              "2    Onondaga  \n",
              "3      Oneida  \n",
              "4    New York  "
            ],
            "text/html": [
              "\n",
              "  <div id=\"df-4ca1408d-db0b-46eb-83f1-8230f87b71c0\">\n",
              "    <div class=\"colab-df-container\">\n",
              "      <div>\n",
              "<style scoped>\n",
              "    .dataframe tbody tr th:only-of-type {\n",
              "        vertical-align: middle;\n",
              "    }\n",
              "\n",
              "    .dataframe tbody tr th {\n",
              "        vertical-align: top;\n",
              "    }\n",
              "\n",
              "    .dataframe thead th {\n",
              "        text-align: right;\n",
              "    }\n",
              "</style>\n",
              "<table border=\"1\" class=\"dataframe\">\n",
              "  <thead>\n",
              "    <tr style=\"text-align: right;\">\n",
              "      <th></th>\n",
              "      <th>Gender</th>\n",
              "      <th>Age_at_Crime</th>\n",
              "      <th>Race</th>\n",
              "      <th>Ethnicity</th>\n",
              "      <th>Offense_Date</th>\n",
              "      <th>Arraign Charge Category</th>\n",
              "      <th>Representation_Type</th>\n",
              "      <th>Release Decision at Arraign</th>\n",
              "      <th>County_Name</th>\n",
              "    </tr>\n",
              "  </thead>\n",
              "  <tbody>\n",
              "    <tr>\n",
              "      <th>0</th>\n",
              "      <td>Female</td>\n",
              "      <td>32.0</td>\n",
              "      <td>White</td>\n",
              "      <td>Unknown</td>\n",
              "      <td>NaN</td>\n",
              "      <td>Criminal Contempt</td>\n",
              "      <td>Legal Aid</td>\n",
              "      <td>ROR</td>\n",
              "      <td>Queens</td>\n",
              "    </tr>\n",
              "    <tr>\n",
              "      <th>1</th>\n",
              "      <td>Male</td>\n",
              "      <td>38.0</td>\n",
              "      <td>Black</td>\n",
              "      <td>Non Hispanic</td>\n",
              "      <td>11/1/2019</td>\n",
              "      <td>Assault</td>\n",
              "      <td>Public Defender</td>\n",
              "      <td>ROR</td>\n",
              "      <td>New York</td>\n",
              "    </tr>\n",
              "    <tr>\n",
              "      <th>2</th>\n",
              "      <td>Male</td>\n",
              "      <td>31.0</td>\n",
              "      <td>Unknown</td>\n",
              "      <td>Unknown</td>\n",
              "      <td>4/1/2017</td>\n",
              "      <td>Unlicensed Operation</td>\n",
              "      <td>18B (Assigned Counsel)</td>\n",
              "      <td>ROR</td>\n",
              "      <td>Onondaga</td>\n",
              "    </tr>\n",
              "    <tr>\n",
              "      <th>3</th>\n",
              "      <td>Unknown</td>\n",
              "      <td>28.0</td>\n",
              "      <td>Unknown</td>\n",
              "      <td>Unknown</td>\n",
              "      <td>4/1/2017</td>\n",
              "      <td>Unlicensed Operation</td>\n",
              "      <td>Public Defender</td>\n",
              "      <td>Disposed at arraign</td>\n",
              "      <td>Oneida</td>\n",
              "    </tr>\n",
              "    <tr>\n",
              "      <th>4</th>\n",
              "      <td>Male</td>\n",
              "      <td>36.0</td>\n",
              "      <td>White</td>\n",
              "      <td>Non Hispanic</td>\n",
              "      <td>1/1/2020</td>\n",
              "      <td>Larceny</td>\n",
              "      <td>Legal Aid</td>\n",
              "      <td>Nonmonetary release</td>\n",
              "      <td>New York</td>\n",
              "    </tr>\n",
              "  </tbody>\n",
              "</table>\n",
              "</div>\n",
              "      <button class=\"colab-df-convert\" onclick=\"convertToInteractive('df-4ca1408d-db0b-46eb-83f1-8230f87b71c0')\"\n",
              "              title=\"Convert this dataframe to an interactive table.\"\n",
              "              style=\"display:none;\">\n",
              "        \n",
              "  <svg xmlns=\"http://www.w3.org/2000/svg\" height=\"24px\"viewBox=\"0 0 24 24\"\n",
              "       width=\"24px\">\n",
              "    <path d=\"M0 0h24v24H0V0z\" fill=\"none\"/>\n",
              "    <path d=\"M18.56 5.44l.94 2.06.94-2.06 2.06-.94-2.06-.94-.94-2.06-.94 2.06-2.06.94zm-11 1L8.5 8.5l.94-2.06 2.06-.94-2.06-.94L8.5 2.5l-.94 2.06-2.06.94zm10 10l.94 2.06.94-2.06 2.06-.94-2.06-.94-.94-2.06-.94 2.06-2.06.94z\"/><path d=\"M17.41 7.96l-1.37-1.37c-.4-.4-.92-.59-1.43-.59-.52 0-1.04.2-1.43.59L10.3 9.45l-7.72 7.72c-.78.78-.78 2.05 0 2.83L4 21.41c.39.39.9.59 1.41.59.51 0 1.02-.2 1.41-.59l7.78-7.78 2.81-2.81c.8-.78.8-2.07 0-2.86zM5.41 20L4 18.59l7.72-7.72 1.47 1.35L5.41 20z\"/>\n",
              "  </svg>\n",
              "      </button>\n",
              "      \n",
              "  <style>\n",
              "    .colab-df-container {\n",
              "      display:flex;\n",
              "      flex-wrap:wrap;\n",
              "      gap: 12px;\n",
              "    }\n",
              "\n",
              "    .colab-df-convert {\n",
              "      background-color: #E8F0FE;\n",
              "      border: none;\n",
              "      border-radius: 50%;\n",
              "      cursor: pointer;\n",
              "      display: none;\n",
              "      fill: #1967D2;\n",
              "      height: 32px;\n",
              "      padding: 0 0 0 0;\n",
              "      width: 32px;\n",
              "    }\n",
              "\n",
              "    .colab-df-convert:hover {\n",
              "      background-color: #E2EBFA;\n",
              "      box-shadow: 0px 1px 2px rgba(60, 64, 67, 0.3), 0px 1px 3px 1px rgba(60, 64, 67, 0.15);\n",
              "      fill: #174EA6;\n",
              "    }\n",
              "\n",
              "    [theme=dark] .colab-df-convert {\n",
              "      background-color: #3B4455;\n",
              "      fill: #D2E3FC;\n",
              "    }\n",
              "\n",
              "    [theme=dark] .colab-df-convert:hover {\n",
              "      background-color: #434B5C;\n",
              "      box-shadow: 0px 1px 3px 1px rgba(0, 0, 0, 0.15);\n",
              "      filter: drop-shadow(0px 1px 2px rgba(0, 0, 0, 0.3));\n",
              "      fill: #FFFFFF;\n",
              "    }\n",
              "  </style>\n",
              "\n",
              "      <script>\n",
              "        const buttonEl =\n",
              "          document.querySelector('#df-4ca1408d-db0b-46eb-83f1-8230f87b71c0 button.colab-df-convert');\n",
              "        buttonEl.style.display =\n",
              "          google.colab.kernel.accessAllowed ? 'block' : 'none';\n",
              "\n",
              "        async function convertToInteractive(key) {\n",
              "          const element = document.querySelector('#df-4ca1408d-db0b-46eb-83f1-8230f87b71c0');\n",
              "          const dataTable =\n",
              "            await google.colab.kernel.invokeFunction('convertToInteractive',\n",
              "                                                     [key], {});\n",
              "          if (!dataTable) return;\n",
              "\n",
              "          const docLinkHtml = 'Like what you see? Visit the ' +\n",
              "            '<a target=\"_blank\" href=https://colab.research.google.com/notebooks/data_table.ipynb>data table notebook</a>'\n",
              "            + ' to learn more about interactive tables.';\n",
              "          element.innerHTML = '';\n",
              "          dataTable['output_type'] = 'display_data';\n",
              "          await google.colab.output.renderOutput(dataTable, element);\n",
              "          const docLink = document.createElement('div');\n",
              "          docLink.innerHTML = docLinkHtml;\n",
              "          element.appendChild(docLink);\n",
              "        }\n",
              "      </script>\n",
              "    </div>\n",
              "  </div>\n",
              "  "
            ]
          },
          "metadata": {},
          "execution_count": 11
        }
      ]
    },
    {
      "cell_type": "code",
      "source": [
        "bail_status.isnull().sum()"
      ],
      "metadata": {
        "id": "iDM5ifdKyeX4",
        "colab": {
          "base_uri": "https://localhost:8080/"
        },
        "outputId": "d7521ba1-bed7-4455-ecec-117a1fe5a5b4"
      },
      "execution_count": 12,
      "outputs": [
        {
          "output_type": "execute_result",
          "data": {
            "text/plain": [
              "Gender                             2\n",
              "Age_at_Crime                       2\n",
              "Race                               2\n",
              "Ethnicity                          2\n",
              "Offense_Date                    1409\n",
              "Arraign Charge Category            2\n",
              "Representation_Type            16814\n",
              "Release Decision at Arraign        2\n",
              "County_Name                        2\n",
              "dtype: int64"
            ]
          },
          "metadata": {},
          "execution_count": 12
        }
      ]
    },
    {
      "cell_type": "code",
      "source": [
        "bail_status.info()"
      ],
      "metadata": {
        "id": "PTgiBJq51MN2",
        "colab": {
          "base_uri": "https://localhost:8080/"
        },
        "outputId": "b1aab30d-0e38-4108-8151-b166c56cd83b"
      },
      "execution_count": 13,
      "outputs": [
        {
          "output_type": "stream",
          "name": "stdout",
          "text": [
            "<class 'pandas.core.frame.DataFrame'>\n",
            "RangeIndex: 284098 entries, 0 to 284097\n",
            "Data columns (total 9 columns):\n",
            " #   Column                       Non-Null Count   Dtype  \n",
            "---  ------                       --------------   -----  \n",
            " 0   Gender                       284096 non-null  object \n",
            " 1   Age_at_Crime                 284096 non-null  float64\n",
            " 2   Race                         284096 non-null  object \n",
            " 3   Ethnicity                    284096 non-null  object \n",
            " 4   Offense_Date                 282689 non-null  object \n",
            " 5   Arraign Charge Category      284096 non-null  object \n",
            " 6   Representation_Type          267284 non-null  object \n",
            " 7   Release Decision at Arraign  284096 non-null  object \n",
            " 8   County_Name                  284096 non-null  object \n",
            "dtypes: float64(1), object(8)\n",
            "memory usage: 19.5+ MB\n"
          ]
        }
      ]
    },
    {
      "cell_type": "code",
      "source": [
        "bail_status['Offense_Date']= pd.to_datetime(bail_status['Offense_Date'])\n",
        "bail_status['Offense_Date'].replace(np.nan, bail_status['Offense_Date'].mode().iloc[0],inplace=True)"
      ],
      "metadata": {
        "id": "iPjSdu9L2Fer"
      },
      "execution_count": 14,
      "outputs": []
    },
    {
      "cell_type": "code",
      "source": [
        "bail_status['Age_at_Crime'].fillna(int(bail_status['Age_at_Crime'].mode()), inplace=True)"
      ],
      "metadata": {
        "id": "OgJlWBhD13UU"
      },
      "execution_count": 15,
      "outputs": []
    },
    {
      "cell_type": "code",
      "source": [
        "bail_status['Representation_Type'].fillna(bail_status['Representation_Type'].mode().iloc[0], inplace=True)"
      ],
      "metadata": {
        "id": "sZvuuy7027Ei"
      },
      "execution_count": 16,
      "outputs": []
    },
    {
      "cell_type": "code",
      "source": [
        "bail_status = bail_status.dropna()"
      ],
      "metadata": {
        "id": "aLSmLuLh292q"
      },
      "execution_count": 17,
      "outputs": []
    },
    {
      "cell_type": "code",
      "source": [
        "bail_status.isnull().sum()"
      ],
      "metadata": {
        "id": "RfD1ZNlm3GCH",
        "colab": {
          "base_uri": "https://localhost:8080/"
        },
        "outputId": "14dc5713-14e9-4029-a081-43b6650b4088"
      },
      "execution_count": 18,
      "outputs": [
        {
          "output_type": "execute_result",
          "data": {
            "text/plain": [
              "Gender                         0\n",
              "Age_at_Crime                   0\n",
              "Race                           0\n",
              "Ethnicity                      0\n",
              "Offense_Date                   0\n",
              "Arraign Charge Category        0\n",
              "Representation_Type            0\n",
              "Release Decision at Arraign    0\n",
              "County_Name                    0\n",
              "dtype: int64"
            ]
          },
          "metadata": {},
          "execution_count": 18
        }
      ]
    },
    {
      "cell_type": "markdown",
      "source": [
        "Converting the categorical values to numerical data based on each column as it will be needed to provide inputs to Machine Learning models."
      ],
      "metadata": {
        "id": "aPziyHRALsN7"
      }
    },
    {
      "cell_type": "code",
      "source": [
        "bail_status.loc[bail_status['Age_at_Crime'] <= 20, 'age_group'] = 0\n",
        "bail_status.loc[bail_status['Age_at_Crime'].between(21,35), 'age_group'] = 1\n",
        "bail_status.loc[bail_status['Age_at_Crime'].between(36,50), 'age_group'] = 2\n",
        "bail_status.loc[bail_status['Age_at_Crime'] >= 50, 'age_group'] = 3"
      ],
      "metadata": {
        "id": "zRWZ8TyZ3O2Y"
      },
      "execution_count": 19,
      "outputs": []
    },
    {
      "cell_type": "code",
      "source": [
        "bail_status['offense_year'] = pd.to_datetime(bail_status['Offense_Date']).dt.strftime('%Y')"
      ],
      "metadata": {
        "id": "r2PK9F0MFu_3"
      },
      "execution_count": 20,
      "outputs": []
    },
    {
      "cell_type": "code",
      "source": [
        "bail_status['offense_year'] = bail_status['offense_year'].astype(float)"
      ],
      "metadata": {
        "id": "saPq5GJFME1K"
      },
      "execution_count": 21,
      "outputs": []
    },
    {
      "cell_type": "code",
      "source": [
        "bail_status.loc[bail_status['offense_year'] <= 2010, 'offense_timeperiod'] = '0'\n",
        "bail_status.loc[bail_status['offense_year'].between(2010,2019), 'offense_timeperiod'] = '1'\n",
        "bail_status.loc[bail_status['offense_year'] == 2020, 'offense_timeperiod'] = '3'\n",
        "bail_status.loc[bail_status['offense_year'] > 2020, 'offense_timeperiod'] = '4'"
      ],
      "metadata": {
        "id": "gwUlNeBJMMwU"
      },
      "execution_count": 22,
      "outputs": []
    },
    {
      "cell_type": "code",
      "source": [
        "bail_status.loc[bail_status['Release Decision at Arraign'] == 'Bail-set', 'Bail_status'] = 1\n",
        "bail_status.loc[bail_status['Release Decision at Arraign'] == 'Disposed at arraign', 'Bail_status'] = 0\n",
        "bail_status.loc[bail_status['Release Decision at Arraign'] == 'ROR', 'Bail_status'] = 1\n",
        "bail_status.loc[bail_status['Release Decision at Arraign'] == 'Nonmonetary release', 'Bail_status'] = 0\n",
        "bail_status.loc[bail_status['Release Decision at Arraign'] == 'Remanded', 'Bail_status'] = 0\n",
        "bail_status.loc[bail_status['Release Decision at Arraign'] == 'Unknown', 'Bail_status'] = 0"
      ],
      "metadata": {
        "id": "Rmku257oMXq9"
      },
      "execution_count": 23,
      "outputs": []
    },
    {
      "cell_type": "code",
      "source": [
        "bail_status.head()"
      ],
      "metadata": {
        "id": "SEJE3pteMZ7Z",
        "colab": {
          "base_uri": "https://localhost:8080/"
        },
        "outputId": "d7892d6c-71be-4009-bf86-a94e53d7b9bf"
      },
      "execution_count": 24,
      "outputs": [
        {
          "output_type": "execute_result",
          "data": {
            "text/plain": [
              "    Gender  Age_at_Crime     Race     Ethnicity Offense_Date  \\\n",
              "0   Female          32.0    White       Unknown   2020-01-01   \n",
              "1     Male          38.0    Black  Non Hispanic   2019-11-01   \n",
              "2     Male          31.0  Unknown       Unknown   2017-04-01   \n",
              "3  Unknown          28.0  Unknown       Unknown   2017-04-01   \n",
              "4     Male          36.0    White  Non Hispanic   2020-01-01   \n",
              "\n",
              "  Arraign Charge Category     Representation_Type Release Decision at Arraign  \\\n",
              "0       Criminal Contempt               Legal Aid                         ROR   \n",
              "1                 Assault         Public Defender                         ROR   \n",
              "2    Unlicensed Operation  18B (Assigned Counsel)                         ROR   \n",
              "3    Unlicensed Operation         Public Defender         Disposed at arraign   \n",
              "4                 Larceny               Legal Aid         Nonmonetary release   \n",
              "\n",
              "  County_Name  age_group  offense_year offense_timeperiod  Bail_status  \n",
              "0      Queens        1.0        2020.0                  3          1.0  \n",
              "1    New York        2.0        2019.0                  1          1.0  \n",
              "2    Onondaga        1.0        2017.0                  1          1.0  \n",
              "3      Oneida        1.0        2017.0                  1          0.0  \n",
              "4    New York        2.0        2020.0                  3          0.0  "
            ],
            "text/html": [
              "\n",
              "  <div id=\"df-7397988b-a492-4726-9541-d84200f566ff\">\n",
              "    <div class=\"colab-df-container\">\n",
              "      <div>\n",
              "<style scoped>\n",
              "    .dataframe tbody tr th:only-of-type {\n",
              "        vertical-align: middle;\n",
              "    }\n",
              "\n",
              "    .dataframe tbody tr th {\n",
              "        vertical-align: top;\n",
              "    }\n",
              "\n",
              "    .dataframe thead th {\n",
              "        text-align: right;\n",
              "    }\n",
              "</style>\n",
              "<table border=\"1\" class=\"dataframe\">\n",
              "  <thead>\n",
              "    <tr style=\"text-align: right;\">\n",
              "      <th></th>\n",
              "      <th>Gender</th>\n",
              "      <th>Age_at_Crime</th>\n",
              "      <th>Race</th>\n",
              "      <th>Ethnicity</th>\n",
              "      <th>Offense_Date</th>\n",
              "      <th>Arraign Charge Category</th>\n",
              "      <th>Representation_Type</th>\n",
              "      <th>Release Decision at Arraign</th>\n",
              "      <th>County_Name</th>\n",
              "      <th>age_group</th>\n",
              "      <th>offense_year</th>\n",
              "      <th>offense_timeperiod</th>\n",
              "      <th>Bail_status</th>\n",
              "    </tr>\n",
              "  </thead>\n",
              "  <tbody>\n",
              "    <tr>\n",
              "      <th>0</th>\n",
              "      <td>Female</td>\n",
              "      <td>32.0</td>\n",
              "      <td>White</td>\n",
              "      <td>Unknown</td>\n",
              "      <td>2020-01-01</td>\n",
              "      <td>Criminal Contempt</td>\n",
              "      <td>Legal Aid</td>\n",
              "      <td>ROR</td>\n",
              "      <td>Queens</td>\n",
              "      <td>1.0</td>\n",
              "      <td>2020.0</td>\n",
              "      <td>3</td>\n",
              "      <td>1.0</td>\n",
              "    </tr>\n",
              "    <tr>\n",
              "      <th>1</th>\n",
              "      <td>Male</td>\n",
              "      <td>38.0</td>\n",
              "      <td>Black</td>\n",
              "      <td>Non Hispanic</td>\n",
              "      <td>2019-11-01</td>\n",
              "      <td>Assault</td>\n",
              "      <td>Public Defender</td>\n",
              "      <td>ROR</td>\n",
              "      <td>New York</td>\n",
              "      <td>2.0</td>\n",
              "      <td>2019.0</td>\n",
              "      <td>1</td>\n",
              "      <td>1.0</td>\n",
              "    </tr>\n",
              "    <tr>\n",
              "      <th>2</th>\n",
              "      <td>Male</td>\n",
              "      <td>31.0</td>\n",
              "      <td>Unknown</td>\n",
              "      <td>Unknown</td>\n",
              "      <td>2017-04-01</td>\n",
              "      <td>Unlicensed Operation</td>\n",
              "      <td>18B (Assigned Counsel)</td>\n",
              "      <td>ROR</td>\n",
              "      <td>Onondaga</td>\n",
              "      <td>1.0</td>\n",
              "      <td>2017.0</td>\n",
              "      <td>1</td>\n",
              "      <td>1.0</td>\n",
              "    </tr>\n",
              "    <tr>\n",
              "      <th>3</th>\n",
              "      <td>Unknown</td>\n",
              "      <td>28.0</td>\n",
              "      <td>Unknown</td>\n",
              "      <td>Unknown</td>\n",
              "      <td>2017-04-01</td>\n",
              "      <td>Unlicensed Operation</td>\n",
              "      <td>Public Defender</td>\n",
              "      <td>Disposed at arraign</td>\n",
              "      <td>Oneida</td>\n",
              "      <td>1.0</td>\n",
              "      <td>2017.0</td>\n",
              "      <td>1</td>\n",
              "      <td>0.0</td>\n",
              "    </tr>\n",
              "    <tr>\n",
              "      <th>4</th>\n",
              "      <td>Male</td>\n",
              "      <td>36.0</td>\n",
              "      <td>White</td>\n",
              "      <td>Non Hispanic</td>\n",
              "      <td>2020-01-01</td>\n",
              "      <td>Larceny</td>\n",
              "      <td>Legal Aid</td>\n",
              "      <td>Nonmonetary release</td>\n",
              "      <td>New York</td>\n",
              "      <td>2.0</td>\n",
              "      <td>2020.0</td>\n",
              "      <td>3</td>\n",
              "      <td>0.0</td>\n",
              "    </tr>\n",
              "  </tbody>\n",
              "</table>\n",
              "</div>\n",
              "      <button class=\"colab-df-convert\" onclick=\"convertToInteractive('df-7397988b-a492-4726-9541-d84200f566ff')\"\n",
              "              title=\"Convert this dataframe to an interactive table.\"\n",
              "              style=\"display:none;\">\n",
              "        \n",
              "  <svg xmlns=\"http://www.w3.org/2000/svg\" height=\"24px\"viewBox=\"0 0 24 24\"\n",
              "       width=\"24px\">\n",
              "    <path d=\"M0 0h24v24H0V0z\" fill=\"none\"/>\n",
              "    <path d=\"M18.56 5.44l.94 2.06.94-2.06 2.06-.94-2.06-.94-.94-2.06-.94 2.06-2.06.94zm-11 1L8.5 8.5l.94-2.06 2.06-.94-2.06-.94L8.5 2.5l-.94 2.06-2.06.94zm10 10l.94 2.06.94-2.06 2.06-.94-2.06-.94-.94-2.06-.94 2.06-2.06.94z\"/><path d=\"M17.41 7.96l-1.37-1.37c-.4-.4-.92-.59-1.43-.59-.52 0-1.04.2-1.43.59L10.3 9.45l-7.72 7.72c-.78.78-.78 2.05 0 2.83L4 21.41c.39.39.9.59 1.41.59.51 0 1.02-.2 1.41-.59l7.78-7.78 2.81-2.81c.8-.78.8-2.07 0-2.86zM5.41 20L4 18.59l7.72-7.72 1.47 1.35L5.41 20z\"/>\n",
              "  </svg>\n",
              "      </button>\n",
              "      \n",
              "  <style>\n",
              "    .colab-df-container {\n",
              "      display:flex;\n",
              "      flex-wrap:wrap;\n",
              "      gap: 12px;\n",
              "    }\n",
              "\n",
              "    .colab-df-convert {\n",
              "      background-color: #E8F0FE;\n",
              "      border: none;\n",
              "      border-radius: 50%;\n",
              "      cursor: pointer;\n",
              "      display: none;\n",
              "      fill: #1967D2;\n",
              "      height: 32px;\n",
              "      padding: 0 0 0 0;\n",
              "      width: 32px;\n",
              "    }\n",
              "\n",
              "    .colab-df-convert:hover {\n",
              "      background-color: #E2EBFA;\n",
              "      box-shadow: 0px 1px 2px rgba(60, 64, 67, 0.3), 0px 1px 3px 1px rgba(60, 64, 67, 0.15);\n",
              "      fill: #174EA6;\n",
              "    }\n",
              "\n",
              "    [theme=dark] .colab-df-convert {\n",
              "      background-color: #3B4455;\n",
              "      fill: #D2E3FC;\n",
              "    }\n",
              "\n",
              "    [theme=dark] .colab-df-convert:hover {\n",
              "      background-color: #434B5C;\n",
              "      box-shadow: 0px 1px 3px 1px rgba(0, 0, 0, 0.15);\n",
              "      filter: drop-shadow(0px 1px 2px rgba(0, 0, 0, 0.3));\n",
              "      fill: #FFFFFF;\n",
              "    }\n",
              "  </style>\n",
              "\n",
              "      <script>\n",
              "        const buttonEl =\n",
              "          document.querySelector('#df-7397988b-a492-4726-9541-d84200f566ff button.colab-df-convert');\n",
              "        buttonEl.style.display =\n",
              "          google.colab.kernel.accessAllowed ? 'block' : 'none';\n",
              "\n",
              "        async function convertToInteractive(key) {\n",
              "          const element = document.querySelector('#df-7397988b-a492-4726-9541-d84200f566ff');\n",
              "          const dataTable =\n",
              "            await google.colab.kernel.invokeFunction('convertToInteractive',\n",
              "                                                     [key], {});\n",
              "          if (!dataTable) return;\n",
              "\n",
              "          const docLinkHtml = 'Like what you see? Visit the ' +\n",
              "            '<a target=\"_blank\" href=https://colab.research.google.com/notebooks/data_table.ipynb>data table notebook</a>'\n",
              "            + ' to learn more about interactive tables.';\n",
              "          element.innerHTML = '';\n",
              "          dataTable['output_type'] = 'display_data';\n",
              "          await google.colab.output.renderOutput(dataTable, element);\n",
              "          const docLink = document.createElement('div');\n",
              "          docLink.innerHTML = docLinkHtml;\n",
              "          element.appendChild(docLink);\n",
              "        }\n",
              "      </script>\n",
              "    </div>\n",
              "  </div>\n",
              "  "
            ]
          },
          "metadata": {},
          "execution_count": 24
        }
      ]
    },
    {
      "cell_type": "code",
      "source": [
        "# Visualizing the age distribution at crime\n",
        "sns.set_theme(style=\"darkgrid\")\n",
        "plt.figure(figsize=(10,4))\n",
        "ax = sns.countplot(x=\"Age_at_Crime\", data=bail_status)\n",
        "ax.xaxis.set_major_locator(ticker.MultipleLocator(5))"
      ],
      "metadata": {
        "id": "m_O3AJynbThq",
        "colab": {
          "base_uri": "https://localhost:8080/"
        },
        "outputId": "9eda2862-6de5-4236-af4d-e9427879570c"
      },
      "execution_count": 25,
      "outputs": [
        {
          "output_type": "display_data",
          "data": {
            "text/plain": [
              "<Figure size 1000x400 with 1 Axes>"
            ],
            "image/png": "[encoded data removed]"
          },
          "metadata": {}
        }
      ]
    },
    {
      "cell_type": "code",
      "source": [
        "plt.figure(figsize=(8,4))\n",
        "sns.histplot(data=bail_status, x='Age_at_Crime', bins=20)\n",
        "plt.xlabel('Age at Crime')\n",
        "plt.ylabel('Count')\n",
        "plt.title('Age Distribution at Crime')\n",
        "plt.show()"
      ],
      "metadata": {
        "id": "hj5oRlRUdUtW"
      },
      "execution_count": null,
      "outputs": []
    },
    {
      "cell_type": "code",
      "source": [
        "# Creating a stacked bar plot to compare the counts of release decisions at arraign based on gender and race\n",
        "cross_table = pd.crosstab(bail_status['Gender'], bail_status['Release Decision at Arraign'], normalize='index')\n",
        "cross_table.plot(kind='bar', stacked=True, figsize=(10, 6))\n",
        "plt.xlabel('Gender')\n",
        "plt.ylabel('Proportion')\n",
        "plt.title('Proportion of Release Decisions by Gender')\n",
        "plt.legend(title='Release Decision', bbox_to_anchor=(1.3, 1), loc='upper right')\n",
        "plt.show()"
      ],
      "metadata": {
        "id": "U4Skw-R7eHz2"
      },
      "execution_count": null,
      "outputs": []
    },
    {
      "cell_type": "markdown",
      "source": [
        "Used Encoding to convert Categorical to Numerical Values"
      ],
      "metadata": {
        "id": "KyfjW40OMn4B"
      }
    },
    {
      "cell_type": "code",
      "source": [
        "!pip install category_encoders\n",
        "from category_encoders import LeaveOneOutEncoder\n",
        "use_col = ['Gender','Race','Ethnicity', 'Age_at_Crime','Arraign Charge Category', 'offense_timeperiod','Representation_Type','County_Name']\n",
        "\n",
        "enc = LeaveOneOutEncoder(cols = ['Gender','Race','Ethnicity', 'Age_at_Crime','Arraign Charge Category', 'offense_timeperiod','Representation_Type','County_Name'])"
      ],
      "metadata": {
        "id": "J2PZxG4iMe7E"
      },
      "execution_count": null,
      "outputs": []
    },
    {
      "cell_type": "code",
      "source": [
        "labels = bail_status['Bail_status'].copy()\n",
        "final_bail_status = enc.fit_transform(bail_status,labels)"
      ],
      "metadata": {
        "id": "wqPihHxVMs-N"
      },
      "execution_count": null,
      "outputs": []
    },
    {
      "cell_type": "code",
      "source": [
        "final_bail_status.head()"
      ],
      "metadata": {
        "id": "1w2Pe2VWPBBC"
      },
      "execution_count": null,
      "outputs": []
    },
    {
      "cell_type": "code",
      "source": [
        "final_bail_status = final_bail_status.drop(columns = ['Offense_Date','age_group','offense_year','Release Decision at Arraign'])"
      ],
      "metadata": {
        "id": "qq-Xc8OrP-vh"
      },
      "execution_count": null,
      "outputs": []
    },
    {
      "cell_type": "code",
      "source": [
        "final_bail_status.head()"
      ],
      "metadata": {
        "id": "lgyUV_gjQ0Vs"
      },
      "execution_count": null,
      "outputs": []
    },
    {
      "cell_type": "code",
      "source": [
        "sns.countplot(x='Bail_status',data = final_bail_status)\n",
        "plt.title('Bail_set distribution')\n",
        "position = (1,0)\n",
        "labels = (\"Bail Set\", \" Bail Not Set\")\n",
        "plt.xticks(position,labels)\n",
        "plt.show()"
      ],
      "metadata": {
        "id": "nPyxXfQqQ2hv"
      },
      "execution_count": null,
      "outputs": []
    },
    {
      "cell_type": "code",
      "source": [
        "#Heatmap of the correlation of features\n",
        "plt.figure(figsize=(8,8))\n",
        "sns.heatmap(final_bail_status.corr(), annot=True);"
      ],
      "metadata": {
        "id": "c5aglkvPQ_83"
      },
      "execution_count": null,
      "outputs": []
    },
    {
      "cell_type": "code",
      "source": [],
      "metadata": {
        "id": "7Gd86se-roPP"
      },
      "execution_count": null,
      "outputs": []
    },
    {
      "cell_type": "markdown",
      "source": [
        "To estimate bail amount:"
      ],
      "metadata": {
        "id": "hZPXGHnUoFDf"
      }
    },
    {
      "cell_type": "code",
      "source": [
        "remove_col = ['Court_Name','County_Name', 'District', 'Region', 'Court_Type',\n",
        "          'Warrant_Ordered_btw_Arraign_and_Dispo', 'DAT_WO_WS_Prior_to_Arraign',\n",
        "          'First_Bench_Warrant_Date', 'Non_Stayed_WO', 'Num_of_Stayed_WO', 'Num_of_ROW',\n",
        "          'Docket_Status', 'Disposition_Type', 'Disposition_Detail', 'Dismissal_Reason',\n",
        "          'Disposition_Date', 'Most_Severe_Sentence', 'Top_Conviction_Law', 'Top_Conviction_Article_Section',\n",
        "          'Top_Conviction_Attempt_Indicator', 'Top_Charge_at_Conviction', 'Top_Charge_Severity_at_Conviction',\n",
        "          'Top_Charge_Weight_at_Conviction', 'Top_Charge_at_Conviction_Violent_Felony_Ind',\n",
        "          'Days_Arraign_Remand_First_Released', 'Known_Days_in_Custody', 'Days_Arraign_Bail_Set_to_First_Posted',\n",
        "          'Days_Arraign_Bail_Set_to_First_Release', 'Days_Arraign_to_Dispo', 'prior_vfo_cnt',\n",
        "          'prior_nonvfo_cnt', 'prior_misd_cnt', 'pend_vfo', 'pend_nonvfo', 'pend_misd', 'supervision',\n",
        "          'rearrest', 'rearrest_date', 'rearrest_firearm', 'rearrest_date_firearm', 'arr_cycle_id','Partially_Secured_App_Bond_Perc', 'Bail_Made_Indicator',\n",
        "          'First_Arraign_Date', 'Remanded_to_Jail_at_Arraign', 'ROR_at_Arraign', 'Bail_Set_and_Posted_at_Arraign', 'Bail_Set_and_Not_Posted_at_Arraign', 'NMR_at_Arraign',\n",
        "          'Partially_Secured_Surety_Bond_Perc', 'Top_Arrest_Law', 'Top_Arraign_Law', 'Top_Arraign_Article_Section', 'Top_Arraign_Attempt_Indicator',\n",
        "          'Top_Charge_at_Arraign', 'Top_Severity_at_Arraign', 'Top_Charge_Weight_at_Arraign', 'Top_Charge_at_Arraign_Violent_Felony_Ind',\n",
        "          'Pretrial_Supervision_at_Arraign', 'Contact_Pretrial_Service_Agency', 'Electronic_Monitoring', 'Travel_Restrictions', 'Passport_Surrender',\n",
        "          'No_Firearms_or_Weapons', 'Maintain_Employment', 'Maintain_Housing', 'Maintain_School', 'Placement_in_Mandatory_Program', 'Removal_to_Hospital',\n",
        "          'Obey_Order_of_Protection', 'Obey_Court_Conditions-Family_Offense', 'Other_NMR', 'Order_of_Protection', \"Representation_at_Securing_Order\",\n",
        "          'App_Count_Arraign_to_Dispo_Released', 'App_Count_Arraign_to_Dispo_Detained', 'App_Count_Arraign_to_Dispo_Total', 'Top_Arrest_Article_Section',\n",
        "          'Top_Arrest_Attempt_Indicator', 'Top_Charge_Weight_at_Arrest', 'Case_Type', 'Top_Charge_at_Arrest']"
      ],
      "metadata": {
        "id": "B6eCbbamqGMI"
      },
      "execution_count": null,
      "outputs": []
    },
    {
      "cell_type": "code",
      "source": [
        "df = df.drop(labels=remove_col, axis=1)\n",
        "bail_amt = pd.DataFrame(df)"
      ],
      "metadata": {
        "id": "GLk8o5-pqGIo"
      },
      "execution_count": null,
      "outputs": []
    },
    {
      "cell_type": "code",
      "source": [
        "bail_amt.head()"
      ],
      "metadata": {
        "id": "DXWcJdqQu3ZO"
      },
      "execution_count": null,
      "outputs": []
    },
    {
      "cell_type": "code",
      "source": [
        "bail_amt.shape"
      ],
      "metadata": {
        "id": "I5k-n-Nvu3Vz"
      },
      "execution_count": null,
      "outputs": []
    },
    {
      "cell_type": "code",
      "source": [
        "bail_amt.columns"
      ],
      "metadata": {
        "id": "3PDFc5nzu3Tc"
      },
      "execution_count": null,
      "outputs": []
    },
    {
      "cell_type": "code",
      "source": [
        "# Dropping Nans\n",
        "\n",
        "bail_amt = df.dropna(subset=[\"Internal_Case_ID\",\"Gender\",\"Race\",\"Top_Charge_Severity_at_Arrest\"])\n",
        "bail_amt.isna().sum()"
      ],
      "metadata": {
        "id": "Z6AEhYciu3Rc"
      },
      "execution_count": null,
      "outputs": []
    },
    {
      "cell_type": "code",
      "source": [
        "# Replacing spaces with 0's\n",
        "bail_amt.eq(\" \").sum()\n",
        "bail_amt = bail_amt.replace(\" \", 0)\n",
        "bail_amt.eq(\" \").sum()"
      ],
      "metadata": {
        "id": "zBY6IS2vu3PR"
      },
      "execution_count": null,
      "outputs": []
    },
    {
      "cell_type": "code",
      "source": [
        "# Creating a new Column for bail amount\n",
        "\n",
        "bail_amt_cols = ['First_Bail_Set_Cash',\n",
        "       'First_Bail_Set_Credit', 'First_Insurance_Company_Bail_Bond',\n",
        "       'First_Secured_Surety_Bond', 'First_Secured_App_Bond',\n",
        "       'First_Unsecured_Surety_Bond', 'First_Unsecured_App_Bond',\n",
        "       'First_Partially_Secured_Surety_Bond',\n",
        "       'First_Partially_Secured_App_Bond']"
      ],
      "metadata": {
        "id": "bRCGqiAloM61"
      },
      "execution_count": null,
      "outputs": []
    },
    {
      "cell_type": "code",
      "source": [
        "for c in bail_amt_cols:\n",
        "    s = bail_amt[c].str.strip()\n",
        "    bail_amt[c] = pd.to_numeric(s)"
      ],
      "metadata": {
        "id": "w-IBoJ6goO9l"
      },
      "execution_count": null,
      "outputs": []
    },
    {
      "cell_type": "code",
      "source": [
        "for c in bail_amt_cols:\n",
        "    bail_amt[c].fillna(value=0, inplace=True)"
      ],
      "metadata": {
        "id": "t2OwKV3NoozM"
      },
      "execution_count": null,
      "outputs": []
    },
    {
      "cell_type": "code",
      "source": [
        "bail_amt[\"Bail_Amount\"] = bail_amt[bail_amt_cols].max(axis=1)\n",
        "\n",
        "# Replacing Nan values with max value"
      ],
      "metadata": {
        "id": "lBKJspg9p5i1"
      },
      "execution_count": null,
      "outputs": []
    },
    {
      "cell_type": "code",
      "source": [
        "bail_amt = bail_amt.drop(bail_amt_cols, axis=1)"
      ],
      "metadata": {
        "id": "jtwoKa3BDODj"
      },
      "execution_count": null,
      "outputs": []
    },
    {
      "cell_type": "code",
      "source": [
        "# Creating a column for Age\n",
        "bail_amt[\"Age\"] = bail_amt[[\"Age_at_Crime\", \"Age_at_Arrest\"]].max(axis=1)"
      ],
      "metadata": {
        "id": "slOwPR6wDSjH"
      },
      "execution_count": null,
      "outputs": []
    },
    {
      "cell_type": "code",
      "source": [
        "# Converting Gender into Boolean\n",
        "# Dropping \"unknown\" gender\n",
        "gender_filter = (bail_amt[\"Gender\"]!=\"Unknown\")\n",
        "bail_amt = bail_amt[gender_filter]\n",
        "\n",
        "bail_amt[\"Gender\"] = np.where(bail_amt[\"Gender\"] == \"male\", 0, 1)"
      ],
      "metadata": {
        "id": "CsV2ObG-DapZ"
      },
      "execution_count": null,
      "outputs": []
    },
    {
      "cell_type": "code",
      "source": [
        "# Converting violent felony into Boolean\n",
        "bail_amt[\"Violent_Fel\"] = np.where(bail_amt[\"Top_Charge_at_Arrest_Violent_Felony_Ind\"] == \"N\", 0, 1)"
      ],
      "metadata": {
        "id": "WmaJAnoNDlDI"
      },
      "execution_count": null,
      "outputs": []
    },
    {
      "cell_type": "code",
      "source": [
        "# Dropping Internal case ID column\n",
        "bail_amt = bail_amt.drop([\"Internal_Case_ID\"],axis=1)"
      ],
      "metadata": {
        "id": "GVSc_VzdDo9X"
      },
      "execution_count": null,
      "outputs": []
    },
    {
      "cell_type": "code",
      "source": [
        "from google.colab import drive\n",
        "drive.mount('/content/drive')"
      ],
      "metadata": {
        "id": "5sztl38a8L2K"
      },
      "execution_count": null,
      "outputs": []
    },
    {
      "cell_type": "code",
      "source": [
        "# Bail Filter ( Only want to include cases where bail was assigned)\n",
        "bail_filter = (bail_amt[\"Release Decision at Arraign\"] == \"Bail-set\")\n",
        "bail_amt = bail_amt[bail_filter]"
      ],
      "metadata": {
        "id": "bP0t5cOpDvbD"
      },
      "execution_count": null,
      "outputs": []
    },
    {
      "cell_type": "code",
      "source": [
        "# Select years between 2018-2021\n",
        "bail_amt[\"Arrest_Date\"] = pd.to_datetime(bail_amt[\"Arrest_Date\"], format='%m/%d/%Y')\n",
        "bail_amt[\"Offense_Date\"] = pd.to_datetime(bail_amt[\"Arrest_Date\"], format='%m/%d/%Y')\n",
        "\n",
        "bail_amt[\"Arrest_Date\"] = pd.DatetimeIndex(bail_amt[\"Arrest_Date\"]).year\n",
        "bail_amt[\"Offense_Date\"] = pd.DatetimeIndex(bail_amt[\"Offense_Date\"]).year\n"
      ],
      "metadata": {
        "id": "u2dGVzOCEsa9"
      },
      "execution_count": null,
      "outputs": []
    },
    {
      "cell_type": "code",
      "source": [
        "dates = [\"Arrest_Date\",\"Offense_Date\"]"
      ],
      "metadata": {
        "id": "0xJ7ZCgyE1GT"
      },
      "execution_count": null,
      "outputs": []
    },
    {
      "cell_type": "code",
      "source": [
        "bail_amt[\"Year\"] = bail_amt[dates].max(axis=1)"
      ],
      "metadata": {
        "id": "tX_KUAkEFFyJ"
      },
      "execution_count": null,
      "outputs": []
    },
    {
      "cell_type": "code",
      "source": [
        "bail_amt = bail_amt.dropna()"
      ],
      "metadata": {
        "id": "fz73PbKuFMZ8"
      },
      "execution_count": null,
      "outputs": []
    },
    {
      "cell_type": "code",
      "source": [
        "year_filter = (bail_amt[\"Year\"]>=2018)\n",
        "bail_amt = bail_amt[year_filter]"
      ],
      "metadata": {
        "id": "-H5ipsctFR55"
      },
      "execution_count": null,
      "outputs": []
    },
    {
      "cell_type": "code",
      "source": [
        "bail_amt = bail_amt.drop([\"Arrest_Date\",\"Offense_Date\"],axis=1)"
      ],
      "metadata": {
        "id": "MH5UG-frFZiK"
      },
      "execution_count": null,
      "outputs": []
    },
    {
      "cell_type": "code",
      "source": [
        "final_bail_amt = pd.DataFrame(bail_amt)"
      ],
      "metadata": {
        "id": "_1prpLmBFkBj"
      },
      "execution_count": null,
      "outputs": []
    },
    {
      "cell_type": "code",
      "source": [
        "final_bail_amt.columns"
      ],
      "metadata": {
        "id": "CpmHzrGTFqIx"
      },
      "execution_count": null,
      "outputs": []
    },
    {
      "cell_type": "code",
      "source": [
        "plt.figure(figsize=(20, 10))\n",
        "plt.rcParams.update({'font.size': 6})\n",
        "sns.barplot(data=final_bail_amt, y=\"Arraign Charge Category\", x=\"Bail_Amount\")\n",
        "plt.xlabel(\"Arraign Charge Category\")\n",
        "plt.ylabel(\"Bail Amount\")\n",
        "plt.title(\"Bail Amount by Arraign Charge Category\")\n",
        "plt.show()"
      ],
      "metadata": {
        "id": "9svBEWTFFtOg"
      },
      "execution_count": null,
      "outputs": []
    },
    {
      "cell_type": "code",
      "source": [
        "crime = final_bail_amt[[\"Bail_Amount\",\"Arraign Charge Category\"]]"
      ],
      "metadata": {
        "id": "30fTkWSpIBI1"
      },
      "execution_count": null,
      "outputs": []
    },
    {
      "cell_type": "code",
      "source": [
        "crime.groupby([\"Arraign Charge Category\"]).agg([\"count\",\"min\",\"median\",\"max\",\"mean\",\"std\"])"
      ],
      "metadata": {
        "id": "3r1YEpuiJjxA"
      },
      "execution_count": null,
      "outputs": []
    },
    {
      "cell_type": "code",
      "source": [
        "final_bail_amt.describe()"
      ],
      "metadata": {
        "id": "buWIQGF2JmeF"
      },
      "execution_count": null,
      "outputs": []
    },
    {
      "cell_type": "code",
      "source": [
        "final_bail_amt.groupby(['Violent_Fel']).mean()"
      ],
      "metadata": {
        "id": "2zlhFd9EJxAI"
      },
      "execution_count": null,
      "outputs": []
    },
    {
      "cell_type": "code",
      "source": [
        "final_bail_amt.groupby(['Violent_Fel']).median()"
      ],
      "metadata": {
        "id": "rjQxtplNJ-BF"
      },
      "execution_count": null,
      "outputs": []
    },
    {
      "cell_type": "code",
      "source": [
        "final_bail_amt[\"Top_Charge_Severity_at_Arrest\"].value_counts()"
      ],
      "metadata": {
        "id": "ad5X5RuqKvWG"
      },
      "execution_count": null,
      "outputs": []
    },
    {
      "cell_type": "code",
      "source": [
        "ax = sns.countplot(x=\"Top_Charge_Severity_at_Arrest\",\n",
        "                   data=final_bail_amt)"
      ],
      "metadata": {
        "id": "SUl2ntq1Ky9X"
      },
      "execution_count": null,
      "outputs": []
    },
    {
      "cell_type": "code",
      "source": [
        "std_value = final_bail_amt[\"Bail_Amount\"].std()\n",
        "mean_value = final_bail_amt[\"Bail_Amount\"].mean()"
      ],
      "metadata": {
        "id": "K0O9IE3hMG45"
      },
      "execution_count": null,
      "outputs": []
    },
    {
      "cell_type": "code",
      "source": [
        "add = (2*std_value) + mean_value\n",
        "minus = mean_value - (2*std_value)"
      ],
      "metadata": {
        "id": "-WlP_Bs7Mlem"
      },
      "execution_count": null,
      "outputs": []
    },
    {
      "cell_type": "code",
      "source": [
        "add_outlier_filter = (final_bail_amt[\"Bail_Amount\"]<=add)\n",
        "minus_outlier_filter = (final_bail_amt[\"Bail_Amount\"]>=minus)\n",
        "\n",
        "final_bail_amt = final_bail_amt[add_outlier_filter]\n",
        "final_bail_amt = final_bail_amt[minus_outlier_filter]"
      ],
      "metadata": {
        "id": "ZrxokDQ5OMJj"
      },
      "execution_count": null,
      "outputs": []
    },
    {
      "cell_type": "code",
      "source": [
        "final_bail_amt.agg([\"max\", \"min\",\"median\"])"
      ],
      "metadata": {
        "id": "3eZClSw0OePg"
      },
      "execution_count": null,
      "outputs": []
    },
    {
      "cell_type": "code",
      "source": [
        "ax = sns.countplot(x=\"Bail_Amount\", data=final_bail_amt)"
      ],
      "metadata": {
        "id": "lSmngM1xOkHX"
      },
      "execution_count": null,
      "outputs": []
    },
    {
      "cell_type": "code",
      "source": [],
      "metadata": {
        "id": "AUamsVwLECPW"
      },
      "execution_count": null,
      "outputs": []
    }
  ]
}