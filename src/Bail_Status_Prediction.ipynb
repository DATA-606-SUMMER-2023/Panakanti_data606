{
  "nbformat": 4,
  "nbformat_minor": 0,
  "metadata": {
    "colab": {
      "provenance": []
    },
    "kernelspec": {
      "name": "python3",
      "display_name": "Python 3"
    },
    "language_info": {
      "name": "python"
    }
  },
  "cells": [
    {
      "cell_type": "markdown",
      "source": [
        "# DATA 606 Capstone Project\n",
        "\n",
        "## Part 1: Bail Status Prediction\n",
        "\n",
        "**Author:** Snigdha Panakanti\n",
        "\n",
        "**Term:** Summer 2023"
      ],
      "metadata": {
        "id": "hWx8QPqbPCDo"
      }
    },
    {
      "cell_type": "markdown",
      "source": [
        "Importing required libraries:"
      ],
      "metadata": {
        "id": "5TMUiZQrN__7"
      }
    },
    {
      "cell_type": "code",
      "execution_count": 1,
      "metadata": {
        "id": "XpvhWQCJO9Hq"
      },
      "outputs": [],
      "source": [
        "import pandas as pd\n",
        "import numpy as np\n",
        "import matplotlib.pyplot as plt\n",
        "import seaborn as sns\n",
        "import matplotlib.ticker as ticker"
      ]
    },
    {
      "cell_type": "markdown",
      "source": [
        "Loading the dataset:"
      ],
      "metadata": {
        "id": "VJuAjZr6OEuf"
      }
    },
    {
      "cell_type": "code",
      "source": [
        "df = pd.read_csv('/content/PretrialReleaseDataExtractWeb.csv')"
      ],
      "metadata": {
        "id": "ek_0mbh1dmiI"
      },
      "execution_count": 2,
      "outputs": []
    },
    {
      "cell_type": "code",
      "source": [
        "df.head()"
      ],
      "metadata": {
        "colab": {
          "base_uri": "https://localhost:8080/",
          "height": 394
        },
        "id": "_gzuT8vCPHW2",
        "outputId": "791061b7-7e69-45dd-be84-c4854407d806"
      },
      "execution_count": 3,
      "outputs": [
        {
          "output_type": "execute_result",
          "data": {
            "text/plain": [
              "                                    Internal_Case_ID   Gender     Race  \\\n",
              "0  0x866BC1A9D02C2D5D8C5E012A1263CBCB186AAD4EC432...   Female    White   \n",
              "1  0x19CE12EEBB600591525A623342A703545C8217AECBED...     Male    Black   \n",
              "2  0xF7CC1FA4C28B406C23DB333B96623EE4B85C447CA524...     Male  Unknown   \n",
              "3  0x6D65E9BD03FE9F08760481FD325804F8F74FF2C874E1...  Unknown  Unknown   \n",
              "4  0xB9F29E48ABC1069053C191061BB6B3B0792DBCD96FD1...     Male    White   \n",
              "\n",
              "      Ethnicity  Age_at_Crime  Age_at_Arrest               Court_Name  \\\n",
              "0       Unknown          32.0            0.0    Queens Criminal Court   \n",
              "1  Non Hispanic          38.0           38.0  New York Criminal Court   \n",
              "2       Unknown          31.0           31.0      Syracuse City Court   \n",
              "3       Unknown          28.0           28.0          Rome City Court   \n",
              "4  Non Hispanic          36.0           36.0  New York Criminal Court   \n",
              "\n",
              "   Court_ORI County_Name     District  ... prior_misd_cnt pend_vfo  \\\n",
              "0  NY040033J      Queens  District 11  ...            0.0      0.0   \n",
              "1  NY030033J    New York   District 1  ...            0.0      0.0   \n",
              "2  NY033011J    Onondaga   District 5  ...            NaN      NaN   \n",
              "3  NY032011J      Oneida   District 5  ...            NaN      NaN   \n",
              "4  NY030033J    New York   District 1  ...           10.0      0.0   \n",
              "\n",
              "  pend_nonvfo pend_misd supervision     rearrest rearrest_date  \\\n",
              "0         0.0       0.0         0.0    No Arrest           NaN   \n",
              "1         0.0       0.0         0.0    No Arrest           NaN   \n",
              "2         NaN       NaN         NaN          NaN           NaN   \n",
              "3         NaN       NaN         NaN          NaN           NaN   \n",
              "4         1.0       1.0         0.0  Misdemeanor      1/1/2020   \n",
              "\n",
              "  rearrest_firearm rearrest_date_firearm arr_cycle_id  \n",
              "0              0.0                   NaN          NaN  \n",
              "1              0.0                   NaN     325544.0  \n",
              "2              NaN                   NaN          NaN  \n",
              "3              NaN                   NaN          NaN  \n",
              "4              0.0                   NaN     355075.0  \n",
              "\n",
              "[5 rows x 108 columns]"
            ],
            "text/html": [
              "\n",
              "  <div id=\"df-b987d16c-3de7-4ac7-afe1-0d49f25f6bd0\" class=\"colab-df-container\">\n",
              "    <div>\n",
              "<style scoped>\n",
              "    .dataframe tbody tr th:only-of-type {\n",
              "        vertical-align: middle;\n",
              "    }\n",
              "\n",
              "    .dataframe tbody tr th {\n",
              "        vertical-align: top;\n",
              "    }\n",
              "\n",
              "    .dataframe thead th {\n",
              "        text-align: right;\n",
              "    }\n",
              "</style>\n",
              "<table border=\"1\" class=\"dataframe\">\n",
              "  <thead>\n",
              "    <tr style=\"text-align: right;\">\n",
              "      <th></th>\n",
              "      <th>Internal_Case_ID</th>\n",
              "      <th>Gender</th>\n",
              "      <th>Race</th>\n",
              "      <th>Ethnicity</th>\n",
              "      <th>Age_at_Crime</th>\n",
              "      <th>Age_at_Arrest</th>\n",
              "      <th>Court_Name</th>\n",
              "      <th>Court_ORI</th>\n",
              "      <th>County_Name</th>\n",
              "      <th>District</th>\n",
              "      <th>...</th>\n",
              "      <th>prior_misd_cnt</th>\n",
              "      <th>pend_vfo</th>\n",
              "      <th>pend_nonvfo</th>\n",
              "      <th>pend_misd</th>\n",
              "      <th>supervision</th>\n",
              "      <th>rearrest</th>\n",
              "      <th>rearrest_date</th>\n",
              "      <th>rearrest_firearm</th>\n",
              "      <th>rearrest_date_firearm</th>\n",
              "      <th>arr_cycle_id</th>\n",
              "    </tr>\n",
              "  </thead>\n",
              "  <tbody>\n",
              "    <tr>\n",
              "      <th>0</th>\n",
              "      <td>0x866BC1A9D02C2D5D8C5E012A1263CBCB186AAD4EC432...</td>\n",
              "      <td>Female</td>\n",
              "      <td>White</td>\n",
              "      <td>Unknown</td>\n",
              "      <td>32.0</td>\n",
              "      <td>0.0</td>\n",
              "      <td>Queens Criminal Court</td>\n",
              "      <td>NY040033J</td>\n",
              "      <td>Queens</td>\n",
              "      <td>District 11</td>\n",
              "      <td>...</td>\n",
              "      <td>0.0</td>\n",
              "      <td>0.0</td>\n",
              "      <td>0.0</td>\n",
              "      <td>0.0</td>\n",
              "      <td>0.0</td>\n",
              "      <td>No Arrest</td>\n",
              "      <td>NaN</td>\n",
              "      <td>0.0</td>\n",
              "      <td>NaN</td>\n",
              "      <td>NaN</td>\n",
              "    </tr>\n",
              "    <tr>\n",
              "      <th>1</th>\n",
              "      <td>0x19CE12EEBB600591525A623342A703545C8217AECBED...</td>\n",
              "      <td>Male</td>\n",
              "      <td>Black</td>\n",
              "      <td>Non Hispanic</td>\n",
              "      <td>38.0</td>\n",
              "      <td>38.0</td>\n",
              "      <td>New York Criminal Court</td>\n",
              "      <td>NY030033J</td>\n",
              "      <td>New York</td>\n",
              "      <td>District 1</td>\n",
              "      <td>...</td>\n",
              "      <td>0.0</td>\n",
              "      <td>0.0</td>\n",
              "      <td>0.0</td>\n",
              "      <td>0.0</td>\n",
              "      <td>0.0</td>\n",
              "      <td>No Arrest</td>\n",
              "      <td>NaN</td>\n",
              "      <td>0.0</td>\n",
              "      <td>NaN</td>\n",
              "      <td>325544.0</td>\n",
              "    </tr>\n",
              "    <tr>\n",
              "      <th>2</th>\n",
              "      <td>0xF7CC1FA4C28B406C23DB333B96623EE4B85C447CA524...</td>\n",
              "      <td>Male</td>\n",
              "      <td>Unknown</td>\n",
              "      <td>Unknown</td>\n",
              "      <td>31.0</td>\n",
              "      <td>31.0</td>\n",
              "      <td>Syracuse City Court</td>\n",
              "      <td>NY033011J</td>\n",
              "      <td>Onondaga</td>\n",
              "      <td>District 5</td>\n",
              "      <td>...</td>\n",
              "      <td>NaN</td>\n",
              "      <td>NaN</td>\n",
              "      <td>NaN</td>\n",
              "      <td>NaN</td>\n",
              "      <td>NaN</td>\n",
              "      <td>NaN</td>\n",
              "      <td>NaN</td>\n",
              "      <td>NaN</td>\n",
              "      <td>NaN</td>\n",
              "      <td>NaN</td>\n",
              "    </tr>\n",
              "    <tr>\n",
              "      <th>3</th>\n",
              "      <td>0x6D65E9BD03FE9F08760481FD325804F8F74FF2C874E1...</td>\n",
              "      <td>Unknown</td>\n",
              "      <td>Unknown</td>\n",
              "      <td>Unknown</td>\n",
              "      <td>28.0</td>\n",
              "      <td>28.0</td>\n",
              "      <td>Rome City Court</td>\n",
              "      <td>NY032011J</td>\n",
              "      <td>Oneida</td>\n",
              "      <td>District 5</td>\n",
              "      <td>...</td>\n",
              "      <td>NaN</td>\n",
              "      <td>NaN</td>\n",
              "      <td>NaN</td>\n",
              "      <td>NaN</td>\n",
              "      <td>NaN</td>\n",
              "      <td>NaN</td>\n",
              "      <td>NaN</td>\n",
              "      <td>NaN</td>\n",
              "      <td>NaN</td>\n",
              "      <td>NaN</td>\n",
              "    </tr>\n",
              "    <tr>\n",
              "      <th>4</th>\n",
              "      <td>0xB9F29E48ABC1069053C191061BB6B3B0792DBCD96FD1...</td>\n",
              "      <td>Male</td>\n",
              "      <td>White</td>\n",
              "      <td>Non Hispanic</td>\n",
              "      <td>36.0</td>\n",
              "      <td>36.0</td>\n",
              "      <td>New York Criminal Court</td>\n",
              "      <td>NY030033J</td>\n",
              "      <td>New York</td>\n",
              "      <td>District 1</td>\n",
              "      <td>...</td>\n",
              "      <td>10.0</td>\n",
              "      <td>0.0</td>\n",
              "      <td>1.0</td>\n",
              "      <td>1.0</td>\n",
              "      <td>0.0</td>\n",
              "      <td>Misdemeanor</td>\n",
              "      <td>1/1/2020</td>\n",
              "      <td>0.0</td>\n",
              "      <td>NaN</td>\n",
              "      <td>355075.0</td>\n",
              "    </tr>\n",
              "  </tbody>\n",
              "</table>\n",
              "<p>5 rows × 108 columns</p>\n",
              "</div>\n",
              "    <div class=\"colab-df-buttons\">\n",
              "\n",
              "  <div class=\"colab-df-container\">\n",
              "    <button class=\"colab-df-convert\" onclick=\"convertToInteractive('df-b987d16c-3de7-4ac7-afe1-0d49f25f6bd0')\"\n",
              "            title=\"Convert this dataframe to an interactive table.\"\n",
              "            style=\"display:none;\">\n",
              "\n",
              "  <svg xmlns=\"http://www.w3.org/2000/svg\" height=\"24px\" viewBox=\"0 -960 960 960\">\n",
              "    <path d=\"M120-120v-720h720v720H120Zm60-500h600v-160H180v160Zm220 220h160v-160H400v160Zm0 220h160v-160H400v160ZM180-400h160v-160H180v160Zm440 0h160v-160H620v160ZM180-180h160v-160H180v160Zm440 0h160v-160H620v160Z\"/>\n",
              "  </svg>\n",
              "    </button>\n",
              "\n",
              "  <style>\n",
              "    .colab-df-container {\n",
              "      display:flex;\n",
              "      gap: 12px;\n",
              "    }\n",
              "\n",
              "    .colab-df-convert {\n",
              "      background-color: #E8F0FE;\n",
              "      border: none;\n",
              "      border-radius: 50%;\n",
              "      cursor: pointer;\n",
              "      display: none;\n",
              "      fill: #1967D2;\n",
              "      height: 32px;\n",
              "      padding: 0 0 0 0;\n",
              "      width: 32px;\n",
              "    }\n",
              "\n",
              "    .colab-df-convert:hover {\n",
              "      background-color: #E2EBFA;\n",
              "      box-shadow: 0px 1px 2px rgba(60, 64, 67, 0.3), 0px 1px 3px 1px rgba(60, 64, 67, 0.15);\n",
              "      fill: #174EA6;\n",
              "    }\n",
              "\n",
              "    .colab-df-buttons div {\n",
              "      margin-bottom: 4px;\n",
              "    }\n",
              "\n",
              "    [theme=dark] .colab-df-convert {\n",
              "      background-color: #3B4455;\n",
              "      fill: #D2E3FC;\n",
              "    }\n",
              "\n",
              "    [theme=dark] .colab-df-convert:hover {\n",
              "      background-color: #434B5C;\n",
              "      box-shadow: 0px 1px 3px 1px rgba(0, 0, 0, 0.15);\n",
              "      filter: drop-shadow(0px 1px 2px rgba(0, 0, 0, 0.3));\n",
              "      fill: #FFFFFF;\n",
              "    }\n",
              "  </style>\n",
              "\n",
              "    <script>\n",
              "      const buttonEl =\n",
              "        document.querySelector('#df-b987d16c-3de7-4ac7-afe1-0d49f25f6bd0 button.colab-df-convert');\n",
              "      buttonEl.style.display =\n",
              "        google.colab.kernel.accessAllowed ? 'block' : 'none';\n",
              "\n",
              "      async function convertToInteractive(key) {\n",
              "        const element = document.querySelector('#df-b987d16c-3de7-4ac7-afe1-0d49f25f6bd0');\n",
              "        const dataTable =\n",
              "          await google.colab.kernel.invokeFunction('convertToInteractive',\n",
              "                                                    [key], {});\n",
              "        if (!dataTable) return;\n",
              "\n",
              "        const docLinkHtml = 'Like what you see? Visit the ' +\n",
              "          '<a target=\"_blank\" href=https://colab.research.google.com/notebooks/data_table.ipynb>data table notebook</a>'\n",
              "          + ' to learn more about interactive tables.';\n",
              "        element.innerHTML = '';\n",
              "        dataTable['output_type'] = 'display_data';\n",
              "        await google.colab.output.renderOutput(dataTable, element);\n",
              "        const docLink = document.createElement('div');\n",
              "        docLink.innerHTML = docLinkHtml;\n",
              "        element.appendChild(docLink);\n",
              "      }\n",
              "    </script>\n",
              "  </div>\n",
              "\n",
              "\n",
              "<div id=\"df-7f677aae-6801-4fa3-8e92-c6dfdec1eace\">\n",
              "  <button class=\"colab-df-quickchart\" onclick=\"quickchart('df-7f677aae-6801-4fa3-8e92-c6dfdec1eace')\"\n",
              "            title=\"Suggest charts.\"\n",
              "            style=\"display:none;\">\n",
              "\n",
              "<svg xmlns=\"http://www.w3.org/2000/svg\" height=\"24px\"viewBox=\"0 0 24 24\"\n",
              "     width=\"24px\">\n",
              "    <g>\n",
              "        <path d=\"M19 3H5c-1.1 0-2 .9-2 2v14c0 1.1.9 2 2 2h14c1.1 0 2-.9 2-2V5c0-1.1-.9-2-2-2zM9 17H7v-7h2v7zm4 0h-2V7h2v10zm4 0h-2v-4h2v4z\"/>\n",
              "    </g>\n",
              "</svg>\n",
              "  </button>\n",
              "\n",
              "<style>\n",
              "  .colab-df-quickchart {\n",
              "    background-color: #E8F0FE;\n",
              "    border: none;\n",
              "    border-radius: 50%;\n",
              "    cursor: pointer;\n",
              "    display: none;\n",
              "    fill: #1967D2;\n",
              "    height: 32px;\n",
              "    padding: 0 0 0 0;\n",
              "    width: 32px;\n",
              "  }\n",
              "\n",
              "  .colab-df-quickchart:hover {\n",
              "    background-color: #E2EBFA;\n",
              "    box-shadow: 0px 1px 2px rgba(60, 64, 67, 0.3), 0px 1px 3px 1px rgba(60, 64, 67, 0.15);\n",
              "    fill: #174EA6;\n",
              "  }\n",
              "\n",
              "  [theme=dark] .colab-df-quickchart {\n",
              "    background-color: #3B4455;\n",
              "    fill: #D2E3FC;\n",
              "  }\n",
              "\n",
              "  [theme=dark] .colab-df-quickchart:hover {\n",
              "    background-color: #434B5C;\n",
              "    box-shadow: 0px 1px 3px 1px rgba(0, 0, 0, 0.15);\n",
              "    filter: drop-shadow(0px 1px 2px rgba(0, 0, 0, 0.3));\n",
              "    fill: #FFFFFF;\n",
              "  }\n",
              "</style>\n",
              "\n",
              "  <script>\n",
              "    async function quickchart(key) {\n",
              "      const charts = await google.colab.kernel.invokeFunction(\n",
              "          'suggestCharts', [key], {});\n",
              "    }\n",
              "    (() => {\n",
              "      let quickchartButtonEl =\n",
              "        document.querySelector('#df-7f677aae-6801-4fa3-8e92-c6dfdec1eace button');\n",
              "      quickchartButtonEl.style.display =\n",
              "        google.colab.kernel.accessAllowed ? 'block' : 'none';\n",
              "    })();\n",
              "  </script>\n",
              "</div>\n",
              "    </div>\n",
              "  </div>\n"
            ]
          },
          "metadata": {},
          "execution_count": 3
        }
      ]
    },
    {
      "cell_type": "code",
      "source": [
        "df.columns"
      ],
      "metadata": {
        "colab": {
          "base_uri": "https://localhost:8080/"
        },
        "id": "EVp53B56RycJ",
        "outputId": "d9541491-87de-49b6-f989-3a1c65e945dd"
      },
      "execution_count": 4,
      "outputs": [
        {
          "output_type": "execute_result",
          "data": {
            "text/plain": [
              "Index(['Internal_Case_ID', 'Gender', 'Race', 'Ethnicity', 'Age_at_Crime',\n",
              "       'Age_at_Arrest', 'Court_Name', 'Court_ORI', 'County_Name', 'District',\n",
              "       ...\n",
              "       'prior_misd_cnt', 'pend_vfo', 'pend_nonvfo', 'pend_misd', 'supervision',\n",
              "       'rearrest', 'rearrest_date', 'rearrest_firearm',\n",
              "       'rearrest_date_firearm', 'arr_cycle_id'],\n",
              "      dtype='object', length=108)"
            ]
          },
          "metadata": {},
          "execution_count": 4
        }
      ]
    },
    {
      "cell_type": "code",
      "source": [
        "req_column = ['Gender', 'Age_at_Crime', 'Race','Ethnicity','Offense_Date', 'Arraign Charge Category', 'Representation_Type','Release Decision at Arraign','County_Name']"
      ],
      "metadata": {
        "id": "5V9RMSbjR6QR"
      },
      "execution_count": 5,
      "outputs": []
    },
    {
      "cell_type": "code",
      "source": [
        "bail_status = df.filter(req_column)"
      ],
      "metadata": {
        "id": "qY56G-9USMGB"
      },
      "execution_count": 6,
      "outputs": []
    },
    {
      "cell_type": "code",
      "source": [
        "bail_status.head()"
      ],
      "metadata": {
        "colab": {
          "base_uri": "https://localhost:8080/",
          "height": 206
        },
        "id": "fP0Umvg3SPj2",
        "outputId": "084d1eb0-8901-4395-8dcc-f86d0c773926"
      },
      "execution_count": 7,
      "outputs": [
        {
          "output_type": "execute_result",
          "data": {
            "text/plain": [
              "    Gender  Age_at_Crime     Race     Ethnicity Offense_Date  \\\n",
              "0   Female          32.0    White       Unknown          NaN   \n",
              "1     Male          38.0    Black  Non Hispanic    11/1/2019   \n",
              "2     Male          31.0  Unknown       Unknown     4/1/2017   \n",
              "3  Unknown          28.0  Unknown       Unknown     4/1/2017   \n",
              "4     Male          36.0    White  Non Hispanic     1/1/2020   \n",
              "\n",
              "  Arraign Charge Category     Representation_Type Release Decision at Arraign  \\\n",
              "0       Criminal Contempt               Legal Aid                         ROR   \n",
              "1                 Assault         Public Defender                         ROR   \n",
              "2    Unlicensed Operation  18B (Assigned Counsel)                         ROR   \n",
              "3    Unlicensed Operation         Public Defender         Disposed at arraign   \n",
              "4                 Larceny               Legal Aid         Nonmonetary release   \n",
              "\n",
              "  County_Name  \n",
              "0      Queens  \n",
              "1    New York  \n",
              "2    Onondaga  \n",
              "3      Oneida  \n",
              "4    New York  "
            ],
            "text/html": [
              "\n",
              "  <div id=\"df-43885bea-ce50-453f-91a5-8e18e8eac90b\" class=\"colab-df-container\">\n",
              "    <div>\n",
              "<style scoped>\n",
              "    .dataframe tbody tr th:only-of-type {\n",
              "        vertical-align: middle;\n",
              "    }\n",
              "\n",
              "    .dataframe tbody tr th {\n",
              "        vertical-align: top;\n",
              "    }\n",
              "\n",
              "    .dataframe thead th {\n",
              "        text-align: right;\n",
              "    }\n",
              "</style>\n",
              "<table border=\"1\" class=\"dataframe\">\n",
              "  <thead>\n",
              "    <tr style=\"text-align: right;\">\n",
              "      <th></th>\n",
              "      <th>Gender</th>\n",
              "      <th>Age_at_Crime</th>\n",
              "      <th>Race</th>\n",
              "      <th>Ethnicity</th>\n",
              "      <th>Offense_Date</th>\n",
              "      <th>Arraign Charge Category</th>\n",
              "      <th>Representation_Type</th>\n",
              "      <th>Release Decision at Arraign</th>\n",
              "      <th>County_Name</th>\n",
              "    </tr>\n",
              "  </thead>\n",
              "  <tbody>\n",
              "    <tr>\n",
              "      <th>0</th>\n",
              "      <td>Female</td>\n",
              "      <td>32.0</td>\n",
              "      <td>White</td>\n",
              "      <td>Unknown</td>\n",
              "      <td>NaN</td>\n",
              "      <td>Criminal Contempt</td>\n",
              "      <td>Legal Aid</td>\n",
              "      <td>ROR</td>\n",
              "      <td>Queens</td>\n",
              "    </tr>\n",
              "    <tr>\n",
              "      <th>1</th>\n",
              "      <td>Male</td>\n",
              "      <td>38.0</td>\n",
              "      <td>Black</td>\n",
              "      <td>Non Hispanic</td>\n",
              "      <td>11/1/2019</td>\n",
              "      <td>Assault</td>\n",
              "      <td>Public Defender</td>\n",
              "      <td>ROR</td>\n",
              "      <td>New York</td>\n",
              "    </tr>\n",
              "    <tr>\n",
              "      <th>2</th>\n",
              "      <td>Male</td>\n",
              "      <td>31.0</td>\n",
              "      <td>Unknown</td>\n",
              "      <td>Unknown</td>\n",
              "      <td>4/1/2017</td>\n",
              "      <td>Unlicensed Operation</td>\n",
              "      <td>18B (Assigned Counsel)</td>\n",
              "      <td>ROR</td>\n",
              "      <td>Onondaga</td>\n",
              "    </tr>\n",
              "    <tr>\n",
              "      <th>3</th>\n",
              "      <td>Unknown</td>\n",
              "      <td>28.0</td>\n",
              "      <td>Unknown</td>\n",
              "      <td>Unknown</td>\n",
              "      <td>4/1/2017</td>\n",
              "      <td>Unlicensed Operation</td>\n",
              "      <td>Public Defender</td>\n",
              "      <td>Disposed at arraign</td>\n",
              "      <td>Oneida</td>\n",
              "    </tr>\n",
              "    <tr>\n",
              "      <th>4</th>\n",
              "      <td>Male</td>\n",
              "      <td>36.0</td>\n",
              "      <td>White</td>\n",
              "      <td>Non Hispanic</td>\n",
              "      <td>1/1/2020</td>\n",
              "      <td>Larceny</td>\n",
              "      <td>Legal Aid</td>\n",
              "      <td>Nonmonetary release</td>\n",
              "      <td>New York</td>\n",
              "    </tr>\n",
              "  </tbody>\n",
              "</table>\n",
              "</div>\n",
              "    <div class=\"colab-df-buttons\">\n",
              "\n",
              "  <div class=\"colab-df-container\">\n",
              "    <button class=\"colab-df-convert\" onclick=\"convertToInteractive('df-43885bea-ce50-453f-91a5-8e18e8eac90b')\"\n",
              "            title=\"Convert this dataframe to an interactive table.\"\n",
              "            style=\"display:none;\">\n",
              "\n",
              "  <svg xmlns=\"http://www.w3.org/2000/svg\" height=\"24px\" viewBox=\"0 -960 960 960\">\n",
              "    <path d=\"M120-120v-720h720v720H120Zm60-500h600v-160H180v160Zm220 220h160v-160H400v160Zm0 220h160v-160H400v160ZM180-400h160v-160H180v160Zm440 0h160v-160H620v160ZM180-180h160v-160H180v160Zm440 0h160v-160H620v160Z\"/>\n",
              "  </svg>\n",
              "    </button>\n",
              "\n",
              "  <style>\n",
              "    .colab-df-container {\n",
              "      display:flex;\n",
              "      gap: 12px;\n",
              "    }\n",
              "\n",
              "    .colab-df-convert {\n",
              "      background-color: #E8F0FE;\n",
              "      border: none;\n",
              "      border-radius: 50%;\n",
              "      cursor: pointer;\n",
              "      display: none;\n",
              "      fill: #1967D2;\n",
              "      height: 32px;\n",
              "      padding: 0 0 0 0;\n",
              "      width: 32px;\n",
              "    }\n",
              "\n",
              "    .colab-df-convert:hover {\n",
              "      background-color: #E2EBFA;\n",
              "      box-shadow: 0px 1px 2px rgba(60, 64, 67, 0.3), 0px 1px 3px 1px rgba(60, 64, 67, 0.15);\n",
              "      fill: #174EA6;\n",
              "    }\n",
              "\n",
              "    .colab-df-buttons div {\n",
              "      margin-bottom: 4px;\n",
              "    }\n",
              "\n",
              "    [theme=dark] .colab-df-convert {\n",
              "      background-color: #3B4455;\n",
              "      fill: #D2E3FC;\n",
              "    }\n",
              "\n",
              "    [theme=dark] .colab-df-convert:hover {\n",
              "      background-color: #434B5C;\n",
              "      box-shadow: 0px 1px 3px 1px rgba(0, 0, 0, 0.15);\n",
              "      filter: drop-shadow(0px 1px 2px rgba(0, 0, 0, 0.3));\n",
              "      fill: #FFFFFF;\n",
              "    }\n",
              "  </style>\n",
              "\n",
              "    <script>\n",
              "      const buttonEl =\n",
              "        document.querySelector('#df-43885bea-ce50-453f-91a5-8e18e8eac90b button.colab-df-convert');\n",
              "      buttonEl.style.display =\n",
              "        google.colab.kernel.accessAllowed ? 'block' : 'none';\n",
              "\n",
              "      async function convertToInteractive(key) {\n",
              "        const element = document.querySelector('#df-43885bea-ce50-453f-91a5-8e18e8eac90b');\n",
              "        const dataTable =\n",
              "          await google.colab.kernel.invokeFunction('convertToInteractive',\n",
              "                                                    [key], {});\n",
              "        if (!dataTable) return;\n",
              "\n",
              "        const docLinkHtml = 'Like what you see? Visit the ' +\n",
              "          '<a target=\"_blank\" href=https://colab.research.google.com/notebooks/data_table.ipynb>data table notebook</a>'\n",
              "          + ' to learn more about interactive tables.';\n",
              "        element.innerHTML = '';\n",
              "        dataTable['output_type'] = 'display_data';\n",
              "        await google.colab.output.renderOutput(dataTable, element);\n",
              "        const docLink = document.createElement('div');\n",
              "        docLink.innerHTML = docLinkHtml;\n",
              "        element.appendChild(docLink);\n",
              "      }\n",
              "    </script>\n",
              "  </div>\n",
              "\n",
              "\n",
              "<div id=\"df-95ac9f0b-2187-4bbf-99e6-e0d56928a83f\">\n",
              "  <button class=\"colab-df-quickchart\" onclick=\"quickchart('df-95ac9f0b-2187-4bbf-99e6-e0d56928a83f')\"\n",
              "            title=\"Suggest charts.\"\n",
              "            style=\"display:none;\">\n",
              "\n",
              "<svg xmlns=\"http://www.w3.org/2000/svg\" height=\"24px\"viewBox=\"0 0 24 24\"\n",
              "     width=\"24px\">\n",
              "    <g>\n",
              "        <path d=\"M19 3H5c-1.1 0-2 .9-2 2v14c0 1.1.9 2 2 2h14c1.1 0 2-.9 2-2V5c0-1.1-.9-2-2-2zM9 17H7v-7h2v7zm4 0h-2V7h2v10zm4 0h-2v-4h2v4z\"/>\n",
              "    </g>\n",
              "</svg>\n",
              "  </button>\n",
              "\n",
              "<style>\n",
              "  .colab-df-quickchart {\n",
              "    background-color: #E8F0FE;\n",
              "    border: none;\n",
              "    border-radius: 50%;\n",
              "    cursor: pointer;\n",
              "    display: none;\n",
              "    fill: #1967D2;\n",
              "    height: 32px;\n",
              "    padding: 0 0 0 0;\n",
              "    width: 32px;\n",
              "  }\n",
              "\n",
              "  .colab-df-quickchart:hover {\n",
              "    background-color: #E2EBFA;\n",
              "    box-shadow: 0px 1px 2px rgba(60, 64, 67, 0.3), 0px 1px 3px 1px rgba(60, 64, 67, 0.15);\n",
              "    fill: #174EA6;\n",
              "  }\n",
              "\n",
              "  [theme=dark] .colab-df-quickchart {\n",
              "    background-color: #3B4455;\n",
              "    fill: #D2E3FC;\n",
              "  }\n",
              "\n",
              "  [theme=dark] .colab-df-quickchart:hover {\n",
              "    background-color: #434B5C;\n",
              "    box-shadow: 0px 1px 3px 1px rgba(0, 0, 0, 0.15);\n",
              "    filter: drop-shadow(0px 1px 2px rgba(0, 0, 0, 0.3));\n",
              "    fill: #FFFFFF;\n",
              "  }\n",
              "</style>\n",
              "\n",
              "  <script>\n",
              "    async function quickchart(key) {\n",
              "      const charts = await google.colab.kernel.invokeFunction(\n",
              "          'suggestCharts', [key], {});\n",
              "    }\n",
              "    (() => {\n",
              "      let quickchartButtonEl =\n",
              "        document.querySelector('#df-95ac9f0b-2187-4bbf-99e6-e0d56928a83f button');\n",
              "      quickchartButtonEl.style.display =\n",
              "        google.colab.kernel.accessAllowed ? 'block' : 'none';\n",
              "    })();\n",
              "  </script>\n",
              "</div>\n",
              "    </div>\n",
              "  </div>\n"
            ]
          },
          "metadata": {},
          "execution_count": 7
        }
      ]
    },
    {
      "cell_type": "code",
      "source": [
        "bail_status.isnull().sum()"
      ],
      "metadata": {
        "colab": {
          "base_uri": "https://localhost:8080/"
        },
        "id": "RRfuQqfYSSHU",
        "outputId": "71898aa7-292e-4510-a72e-a66996b4622a"
      },
      "execution_count": 8,
      "outputs": [
        {
          "output_type": "execute_result",
          "data": {
            "text/plain": [
              "Gender                             2\n",
              "Age_at_Crime                       2\n",
              "Race                               2\n",
              "Ethnicity                          2\n",
              "Offense_Date                    1409\n",
              "Arraign Charge Category            2\n",
              "Representation_Type            16814\n",
              "Release Decision at Arraign        2\n",
              "County_Name                        2\n",
              "dtype: int64"
            ]
          },
          "metadata": {},
          "execution_count": 8
        }
      ]
    },
    {
      "cell_type": "code",
      "source": [
        "bail_status.info()"
      ],
      "metadata": {
        "colab": {
          "base_uri": "https://localhost:8080/"
        },
        "id": "GAkyf-VfSWBV",
        "outputId": "a3a1337b-8ad1-443d-b8ca-13ab9215289f"
      },
      "execution_count": 9,
      "outputs": [
        {
          "output_type": "stream",
          "name": "stdout",
          "text": [
            "<class 'pandas.core.frame.DataFrame'>\n",
            "RangeIndex: 284098 entries, 0 to 284097\n",
            "Data columns (total 9 columns):\n",
            " #   Column                       Non-Null Count   Dtype  \n",
            "---  ------                       --------------   -----  \n",
            " 0   Gender                       284096 non-null  object \n",
            " 1   Age_at_Crime                 284096 non-null  float64\n",
            " 2   Race                         284096 non-null  object \n",
            " 3   Ethnicity                    284096 non-null  object \n",
            " 4   Offense_Date                 282689 non-null  object \n",
            " 5   Arraign Charge Category      284096 non-null  object \n",
            " 6   Representation_Type          267284 non-null  object \n",
            " 7   Release Decision at Arraign  284096 non-null  object \n",
            " 8   County_Name                  284096 non-null  object \n",
            "dtypes: float64(1), object(8)\n",
            "memory usage: 19.5+ MB\n"
          ]
        }
      ]
    },
    {
      "cell_type": "code",
      "source": [
        "bail_status['Offense_Date']= pd.to_datetime(bail_status['Offense_Date'])\n",
        "bail_status['Offense_Date'].replace(np.nan, bail_status['Offense_Date'].mode().iloc[0],inplace=True)"
      ],
      "metadata": {
        "id": "wRlY31LUSbFA"
      },
      "execution_count": 10,
      "outputs": []
    },
    {
      "cell_type": "code",
      "source": [
        "bail_status['Age_at_Crime'].fillna(int(bail_status['Age_at_Crime'].mode()), inplace=True)"
      ],
      "metadata": {
        "id": "8Zdj3AOkSlAX"
      },
      "execution_count": 11,
      "outputs": []
    },
    {
      "cell_type": "code",
      "source": [
        "bail_status['Representation_Type'].fillna(bail_status['Representation_Type'].mode().iloc[0], inplace=True)"
      ],
      "metadata": {
        "id": "OyuilbpySmmE"
      },
      "execution_count": 12,
      "outputs": []
    },
    {
      "cell_type": "code",
      "source": [
        "bail_status = bail_status.dropna()"
      ],
      "metadata": {
        "id": "IJcYrY2LSoBR"
      },
      "execution_count": 13,
      "outputs": []
    },
    {
      "cell_type": "code",
      "source": [
        "bail_status.isnull().sum()"
      ],
      "metadata": {
        "colab": {
          "base_uri": "https://localhost:8080/"
        },
        "id": "94fc048ASptX",
        "outputId": "4080bec7-4f05-4781-d5e3-9de5c73a1ae3"
      },
      "execution_count": 14,
      "outputs": [
        {
          "output_type": "execute_result",
          "data": {
            "text/plain": [
              "Gender                         0\n",
              "Age_at_Crime                   0\n",
              "Race                           0\n",
              "Ethnicity                      0\n",
              "Offense_Date                   0\n",
              "Arraign Charge Category        0\n",
              "Representation_Type            0\n",
              "Release Decision at Arraign    0\n",
              "County_Name                    0\n",
              "dtype: int64"
            ]
          },
          "metadata": {},
          "execution_count": 14
        }
      ]
    },
    {
      "cell_type": "markdown",
      "source": [
        "Converting the categorical values to numerical data based on each column as it will be needed to provide inputs to Machine Learning models."
      ],
      "metadata": {
        "id": "MpSyTxrBSv57"
      }
    },
    {
      "cell_type": "code",
      "source": [
        "bail_status.loc[bail_status['Age_at_Crime'] <= 20, 'age_group'] = 0\n",
        "bail_status.loc[bail_status['Age_at_Crime'].between(21,35), 'age_group'] = 1\n",
        "bail_status.loc[bail_status['Age_at_Crime'].between(36,50), 'age_group'] = 2\n",
        "bail_status.loc[bail_status['Age_at_Crime'] >= 50, 'age_group'] = 3"
      ],
      "metadata": {
        "id": "KeQ_iNATSrSR"
      },
      "execution_count": 15,
      "outputs": []
    },
    {
      "cell_type": "code",
      "source": [
        "bail_status['offense_year'] = pd.to_datetime(bail_status['Offense_Date']).dt.strftime('%Y')"
      ],
      "metadata": {
        "id": "VHt0U_p2SyGR"
      },
      "execution_count": 16,
      "outputs": []
    },
    {
      "cell_type": "code",
      "source": [
        "bail_status['offense_year'] = bail_status['offense_year'].astype(float)"
      ],
      "metadata": {
        "id": "atVI_5dDSz42"
      },
      "execution_count": 17,
      "outputs": []
    },
    {
      "cell_type": "code",
      "source": [
        "bail_status.loc[bail_status['offense_year'] <= 2010, 'offense_timeperiod'] = '0'\n",
        "bail_status.loc[bail_status['offense_year'].between(2010,2019), 'offense_timeperiod'] = '1'\n",
        "bail_status.loc[bail_status['offense_year'] == 2020, 'offense_timeperiod'] = '3'\n",
        "bail_status.loc[bail_status['offense_year'] > 2020, 'offense_timeperiod'] = '4'"
      ],
      "metadata": {
        "id": "5FgClrYoS1B4"
      },
      "execution_count": 18,
      "outputs": []
    },
    {
      "cell_type": "code",
      "source": [
        "bail_status.loc[bail_status['Release Decision at Arraign'] == 'Bail-set', 'Bail_status'] = 1\n",
        "bail_status.loc[bail_status['Release Decision at Arraign'] == 'Disposed at arraign', 'Bail_status'] = 0\n",
        "bail_status.loc[bail_status['Release Decision at Arraign'] == 'ROR', 'Bail_status'] = 1\n",
        "bail_status.loc[bail_status['Release Decision at Arraign'] == 'Nonmonetary release', 'Bail_status'] = 0\n",
        "bail_status.loc[bail_status['Release Decision at Arraign'] == 'Remanded', 'Bail_status'] = 0\n",
        "bail_status.loc[bail_status['Release Decision at Arraign'] == 'Unknown', 'Bail_status'] = 0"
      ],
      "metadata": {
        "id": "m4an5GMgS2bt"
      },
      "execution_count": 19,
      "outputs": []
    },
    {
      "cell_type": "code",
      "source": [
        "bail_status.head()"
      ],
      "metadata": {
        "colab": {
          "base_uri": "https://localhost:8080/",
          "height": 327
        },
        "id": "thv87zN_S4Jg",
        "outputId": "7085e2dc-036c-4514-f15b-d03a9952eab8"
      },
      "execution_count": 20,
      "outputs": [
        {
          "output_type": "execute_result",
          "data": {
            "text/plain": [
              "    Gender  Age_at_Crime     Race     Ethnicity Offense_Date  \\\n",
              "0   Female          32.0    White       Unknown   2020-01-01   \n",
              "1     Male          38.0    Black  Non Hispanic   2019-11-01   \n",
              "2     Male          31.0  Unknown       Unknown   2017-04-01   \n",
              "3  Unknown          28.0  Unknown       Unknown   2017-04-01   \n",
              "4     Male          36.0    White  Non Hispanic   2020-01-01   \n",
              "\n",
              "  Arraign Charge Category     Representation_Type Release Decision at Arraign  \\\n",
              "0       Criminal Contempt               Legal Aid                         ROR   \n",
              "1                 Assault         Public Defender                         ROR   \n",
              "2    Unlicensed Operation  18B (Assigned Counsel)                         ROR   \n",
              "3    Unlicensed Operation         Public Defender         Disposed at arraign   \n",
              "4                 Larceny               Legal Aid         Nonmonetary release   \n",
              "\n",
              "  County_Name  age_group  offense_year offense_timeperiod  Bail_status  \n",
              "0      Queens        1.0        2020.0                  3          1.0  \n",
              "1    New York        2.0        2019.0                  1          1.0  \n",
              "2    Onondaga        1.0        2017.0                  1          1.0  \n",
              "3      Oneida        1.0        2017.0                  1          0.0  \n",
              "4    New York        2.0        2020.0                  3          0.0  "
            ],
            "text/html": [
              "\n",
              "  <div id=\"df-900c9bee-b3c6-43a3-b77f-437a7debff84\" class=\"colab-df-container\">\n",
              "    <div>\n",
              "<style scoped>\n",
              "    .dataframe tbody tr th:only-of-type {\n",
              "        vertical-align: middle;\n",
              "    }\n",
              "\n",
              "    .dataframe tbody tr th {\n",
              "        vertical-align: top;\n",
              "    }\n",
              "\n",
              "    .dataframe thead th {\n",
              "        text-align: right;\n",
              "    }\n",
              "</style>\n",
              "<table border=\"1\" class=\"dataframe\">\n",
              "  <thead>\n",
              "    <tr style=\"text-align: right;\">\n",
              "      <th></th>\n",
              "      <th>Gender</th>\n",
              "      <th>Age_at_Crime</th>\n",
              "      <th>Race</th>\n",
              "      <th>Ethnicity</th>\n",
              "      <th>Offense_Date</th>\n",
              "      <th>Arraign Charge Category</th>\n",
              "      <th>Representation_Type</th>\n",
              "      <th>Release Decision at Arraign</th>\n",
              "      <th>County_Name</th>\n",
              "      <th>age_group</th>\n",
              "      <th>offense_year</th>\n",
              "      <th>offense_timeperiod</th>\n",
              "      <th>Bail_status</th>\n",
              "    </tr>\n",
              "  </thead>\n",
              "  <tbody>\n",
              "    <tr>\n",
              "      <th>0</th>\n",
              "      <td>Female</td>\n",
              "      <td>32.0</td>\n",
              "      <td>White</td>\n",
              "      <td>Unknown</td>\n",
              "      <td>2020-01-01</td>\n",
              "      <td>Criminal Contempt</td>\n",
              "      <td>Legal Aid</td>\n",
              "      <td>ROR</td>\n",
              "      <td>Queens</td>\n",
              "      <td>1.0</td>\n",
              "      <td>2020.0</td>\n",
              "      <td>3</td>\n",
              "      <td>1.0</td>\n",
              "    </tr>\n",
              "    <tr>\n",
              "      <th>1</th>\n",
              "      <td>Male</td>\n",
              "      <td>38.0</td>\n",
              "      <td>Black</td>\n",
              "      <td>Non Hispanic</td>\n",
              "      <td>2019-11-01</td>\n",
              "      <td>Assault</td>\n",
              "      <td>Public Defender</td>\n",
              "      <td>ROR</td>\n",
              "      <td>New York</td>\n",
              "      <td>2.0</td>\n",
              "      <td>2019.0</td>\n",
              "      <td>1</td>\n",
              "      <td>1.0</td>\n",
              "    </tr>\n",
              "    <tr>\n",
              "      <th>2</th>\n",
              "      <td>Male</td>\n",
              "      <td>31.0</td>\n",
              "      <td>Unknown</td>\n",
              "      <td>Unknown</td>\n",
              "      <td>2017-04-01</td>\n",
              "      <td>Unlicensed Operation</td>\n",
              "      <td>18B (Assigned Counsel)</td>\n",
              "      <td>ROR</td>\n",
              "      <td>Onondaga</td>\n",
              "      <td>1.0</td>\n",
              "      <td>2017.0</td>\n",
              "      <td>1</td>\n",
              "      <td>1.0</td>\n",
              "    </tr>\n",
              "    <tr>\n",
              "      <th>3</th>\n",
              "      <td>Unknown</td>\n",
              "      <td>28.0</td>\n",
              "      <td>Unknown</td>\n",
              "      <td>Unknown</td>\n",
              "      <td>2017-04-01</td>\n",
              "      <td>Unlicensed Operation</td>\n",
              "      <td>Public Defender</td>\n",
              "      <td>Disposed at arraign</td>\n",
              "      <td>Oneida</td>\n",
              "      <td>1.0</td>\n",
              "      <td>2017.0</td>\n",
              "      <td>1</td>\n",
              "      <td>0.0</td>\n",
              "    </tr>\n",
              "    <tr>\n",
              "      <th>4</th>\n",
              "      <td>Male</td>\n",
              "      <td>36.0</td>\n",
              "      <td>White</td>\n",
              "      <td>Non Hispanic</td>\n",
              "      <td>2020-01-01</td>\n",
              "      <td>Larceny</td>\n",
              "      <td>Legal Aid</td>\n",
              "      <td>Nonmonetary release</td>\n",
              "      <td>New York</td>\n",
              "      <td>2.0</td>\n",
              "      <td>2020.0</td>\n",
              "      <td>3</td>\n",
              "      <td>0.0</td>\n",
              "    </tr>\n",
              "  </tbody>\n",
              "</table>\n",
              "</div>\n",
              "    <div class=\"colab-df-buttons\">\n",
              "\n",
              "  <div class=\"colab-df-container\">\n",
              "    <button class=\"colab-df-convert\" onclick=\"convertToInteractive('df-900c9bee-b3c6-43a3-b77f-437a7debff84')\"\n",
              "            title=\"Convert this dataframe to an interactive table.\"\n",
              "            style=\"display:none;\">\n",
              "\n",
              "  <svg xmlns=\"http://www.w3.org/2000/svg\" height=\"24px\" viewBox=\"0 -960 960 960\">\n",
              "    <path d=\"M120-120v-720h720v720H120Zm60-500h600v-160H180v160Zm220 220h160v-160H400v160Zm0 220h160v-160H400v160ZM180-400h160v-160H180v160Zm440 0h160v-160H620v160ZM180-180h160v-160H180v160Zm440 0h160v-160H620v160Z\"/>\n",
              "  </svg>\n",
              "    </button>\n",
              "\n",
              "  <style>\n",
              "    .colab-df-container {\n",
              "      display:flex;\n",
              "      gap: 12px;\n",
              "    }\n",
              "\n",
              "    .colab-df-convert {\n",
              "      background-color: #E8F0FE;\n",
              "      border: none;\n",
              "      border-radius: 50%;\n",
              "      cursor: pointer;\n",
              "      display: none;\n",
              "      fill: #1967D2;\n",
              "      height: 32px;\n",
              "      padding: 0 0 0 0;\n",
              "      width: 32px;\n",
              "    }\n",
              "\n",
              "    .colab-df-convert:hover {\n",
              "      background-color: #E2EBFA;\n",
              "      box-shadow: 0px 1px 2px rgba(60, 64, 67, 0.3), 0px 1px 3px 1px rgba(60, 64, 67, 0.15);\n",
              "      fill: #174EA6;\n",
              "    }\n",
              "\n",
              "    .colab-df-buttons div {\n",
              "      margin-bottom: 4px;\n",
              "    }\n",
              "\n",
              "    [theme=dark] .colab-df-convert {\n",
              "      background-color: #3B4455;\n",
              "      fill: #D2E3FC;\n",
              "    }\n",
              "\n",
              "    [theme=dark] .colab-df-convert:hover {\n",
              "      background-color: #434B5C;\n",
              "      box-shadow: 0px 1px 3px 1px rgba(0, 0, 0, 0.15);\n",
              "      filter: drop-shadow(0px 1px 2px rgba(0, 0, 0, 0.3));\n",
              "      fill: #FFFFFF;\n",
              "    }\n",
              "  </style>\n",
              "\n",
              "    <script>\n",
              "      const buttonEl =\n",
              "        document.querySelector('#df-900c9bee-b3c6-43a3-b77f-437a7debff84 button.colab-df-convert');\n",
              "      buttonEl.style.display =\n",
              "        google.colab.kernel.accessAllowed ? 'block' : 'none';\n",
              "\n",
              "      async function convertToInteractive(key) {\n",
              "        const element = document.querySelector('#df-900c9bee-b3c6-43a3-b77f-437a7debff84');\n",
              "        const dataTable =\n",
              "          await google.colab.kernel.invokeFunction('convertToInteractive',\n",
              "                                                    [key], {});\n",
              "        if (!dataTable) return;\n",
              "\n",
              "        const docLinkHtml = 'Like what you see? Visit the ' +\n",
              "          '<a target=\"_blank\" href=https://colab.research.google.com/notebooks/data_table.ipynb>data table notebook</a>'\n",
              "          + ' to learn more about interactive tables.';\n",
              "        element.innerHTML = '';\n",
              "        dataTable['output_type'] = 'display_data';\n",
              "        await google.colab.output.renderOutput(dataTable, element);\n",
              "        const docLink = document.createElement('div');\n",
              "        docLink.innerHTML = docLinkHtml;\n",
              "        element.appendChild(docLink);\n",
              "      }\n",
              "    </script>\n",
              "  </div>\n",
              "\n",
              "\n",
              "<div id=\"df-e592f88c-7972-4eae-aef4-2d0c53f4c039\">\n",
              "  <button class=\"colab-df-quickchart\" onclick=\"quickchart('df-e592f88c-7972-4eae-aef4-2d0c53f4c039')\"\n",
              "            title=\"Suggest charts.\"\n",
              "            style=\"display:none;\">\n",
              "\n",
              "<svg xmlns=\"http://www.w3.org/2000/svg\" height=\"24px\"viewBox=\"0 0 24 24\"\n",
              "     width=\"24px\">\n",
              "    <g>\n",
              "        <path d=\"M19 3H5c-1.1 0-2 .9-2 2v14c0 1.1.9 2 2 2h14c1.1 0 2-.9 2-2V5c0-1.1-.9-2-2-2zM9 17H7v-7h2v7zm4 0h-2V7h2v10zm4 0h-2v-4h2v4z\"/>\n",
              "    </g>\n",
              "</svg>\n",
              "  </button>\n",
              "\n",
              "<style>\n",
              "  .colab-df-quickchart {\n",
              "    background-color: #E8F0FE;\n",
              "    border: none;\n",
              "    border-radius: 50%;\n",
              "    cursor: pointer;\n",
              "    display: none;\n",
              "    fill: #1967D2;\n",
              "    height: 32px;\n",
              "    padding: 0 0 0 0;\n",
              "    width: 32px;\n",
              "  }\n",
              "\n",
              "  .colab-df-quickchart:hover {\n",
              "    background-color: #E2EBFA;\n",
              "    box-shadow: 0px 1px 2px rgba(60, 64, 67, 0.3), 0px 1px 3px 1px rgba(60, 64, 67, 0.15);\n",
              "    fill: #174EA6;\n",
              "  }\n",
              "\n",
              "  [theme=dark] .colab-df-quickchart {\n",
              "    background-color: #3B4455;\n",
              "    fill: #D2E3FC;\n",
              "  }\n",
              "\n",
              "  [theme=dark] .colab-df-quickchart:hover {\n",
              "    background-color: #434B5C;\n",
              "    box-shadow: 0px 1px 3px 1px rgba(0, 0, 0, 0.15);\n",
              "    filter: drop-shadow(0px 1px 2px rgba(0, 0, 0, 0.3));\n",
              "    fill: #FFFFFF;\n",
              "  }\n",
              "</style>\n",
              "\n",
              "  <script>\n",
              "    async function quickchart(key) {\n",
              "      const charts = await google.colab.kernel.invokeFunction(\n",
              "          'suggestCharts', [key], {});\n",
              "    }\n",
              "    (() => {\n",
              "      let quickchartButtonEl =\n",
              "        document.querySelector('#df-e592f88c-7972-4eae-aef4-2d0c53f4c039 button');\n",
              "      quickchartButtonEl.style.display =\n",
              "        google.colab.kernel.accessAllowed ? 'block' : 'none';\n",
              "    })();\n",
              "  </script>\n",
              "</div>\n",
              "    </div>\n",
              "  </div>\n"
            ]
          },
          "metadata": {},
          "execution_count": 20
        }
      ]
    },
    {
      "cell_type": "code",
      "source": [
        "# Visualizing the age distribution at crime\n",
        "sns.set_theme(style=\"darkgrid\")\n",
        "plt.figure(figsize=(10,4))\n",
        "ax = sns.countplot(x=\"Age_at_Crime\", data=bail_status)\n",
        "ax.xaxis.set_major_locator(ticker.MultipleLocator(5))"
      ],
      "metadata": {
        "colab": {
          "base_uri": "https://localhost:8080/",
          "height": 397
        },
        "id": "aW5E_aVgS5_0",
        "outputId": "7a373add-032f-4f86-f661-5fc04d594759"
      },
      "execution_count": 21,
      "outputs": [
        {
          "output_type": "display_data",
          "data": {
            "text/plain": [
              "<Figure size 1000x400 with 1 Axes>"
            ],
            "image/png": "[encoded data removed]"
          },
          "metadata": {}
        }
      ]
    },
    {
      "cell_type": "code",
      "source": [
        "plt.figure(figsize=(8,4))\n",
        "sns.histplot(data=bail_status, x='Age_at_Crime', bins=20)\n",
        "plt.xlabel('Age at Crime')\n",
        "plt.ylabel('Count')\n",
        "plt.title('Age Distribution at Crime')\n",
        "plt.show()"
      ],
      "metadata": {
        "colab": {
          "base_uri": "https://localhost:8080/",
          "height": 419
        },
        "id": "tujXmGgIS-W_",
        "outputId": "d940a146-d8d7-45b2-b0e3-a081775b7dec"
      },
      "execution_count": 22,
      "outputs": [
        {
          "output_type": "display_data",
          "data": {
            "text/plain": [
              "<Figure size 800x400 with 1 Axes>"
            ],
            "image/png": "[encoded data removed]"
          },
          "metadata": {}
        }
      ]
    },
    {
      "cell_type": "code",
      "source": [
        "# Creating a stacked bar plot to compare the counts of release decisions at arraign based on gender and race\n",
        "cross_table = pd.crosstab(bail_status['Gender'], bail_status['Release Decision at Arraign'], normalize='index')\n",
        "cross_table.plot(kind='bar', stacked=True, figsize=(10, 6))\n",
        "plt.xlabel('Gender')\n",
        "plt.ylabel('Proportion')\n",
        "plt.title('Proportion of Release Decisions by Gender')\n",
        "plt.legend(title='Release Decision', bbox_to_anchor=(1.3, 1), loc='upper right')\n",
        "plt.show()"
      ],
      "metadata": {
        "colab": {
          "base_uri": "https://localhost:8080/",
          "height": 628
        },
        "id": "mJ6CizYBTJDx",
        "outputId": "d0c692b4-dc49-42c2-e91e-aae227132312"
      },
      "execution_count": 23,
      "outputs": [
        {
          "output_type": "display_data",
          "data": {
            "text/plain": [
              "<Figure size 1000x600 with 1 Axes>"
            ],
            "image/png": "[encoded data removed]"
          },
          "metadata": {}
        }
      ]
    },
    {
      "cell_type": "markdown",
      "source": [
        "Used Encoding to convert Categorical to Numerical Values"
      ],
      "metadata": {
        "id": "KvlUlmILTQPr"
      }
    },
    {
      "cell_type": "code",
      "source": [
        "!pip install category_encoders\n",
        "from category_encoders import LeaveOneOutEncoder\n",
        "use_col = ['Gender','Race','Ethnicity', 'Age_at_Crime','Arraign Charge Category', 'offense_timeperiod','Representation_Type','County_Name']\n",
        "\n",
        "enc = LeaveOneOutEncoder(cols = ['Gender','Race','Ethnicity', 'Age_at_Crime','Arraign Charge Category', 'offense_timeperiod','Representation_Type','County_Name'])"
      ],
      "metadata": {
        "colab": {
          "base_uri": "https://localhost:8080/"
        },
        "id": "jZIS6V39TNcW",
        "outputId": "1a517508-b18d-49c3-9099-d3d8cf1fe8f0"
      },
      "execution_count": 24,
      "outputs": [
        {
          "output_type": "stream",
          "name": "stdout",
          "text": [
            "Collecting category_encoders\n",
            "  Downloading category_encoders-2.6.2-py2.py3-none-any.whl (81 kB)\n",
            "\u001b[2K     \u001b[90m━━━━━━━━━━━━━━━━━━━━━━━━━━━━━━━━━━━━━━━━\u001b[0m \u001b[32m81.8/81.8 kB\u001b[0m \u001b[31m1.6 MB/s\u001b[0m eta \u001b[36m0:00:00\u001b[0m\n",
            "\u001b[?25hRequirement already satisfied: numpy>=1.14.0 in /usr/local/lib/python3.10/dist-packages (from category_encoders) (1.23.5)\n",
            "Requirement already satisfied: scikit-learn>=0.20.0 in /usr/local/lib/python3.10/dist-packages (from category_encoders) (1.2.2)\n",
            "Requirement already satisfied: scipy>=1.0.0 in /usr/local/lib/python3.10/dist-packages (from category_encoders) (1.10.1)\n",
            "Requirement already satisfied: statsmodels>=0.9.0 in /usr/local/lib/python3.10/dist-packages (from category_encoders) (0.14.0)\n",
            "Requirement already satisfied: pandas>=1.0.5 in /usr/local/lib/python3.10/dist-packages (from category_encoders) (1.5.3)\n",
            "Requirement already satisfied: patsy>=0.5.1 in /usr/local/lib/python3.10/dist-packages (from category_encoders) (0.5.3)\n",
            "Requirement already satisfied: python-dateutil>=2.8.1 in /usr/local/lib/python3.10/dist-packages (from pandas>=1.0.5->category_encoders) (2.8.2)\n",
            "Requirement already satisfied: pytz>=2020.1 in /usr/local/lib/python3.10/dist-packages (from pandas>=1.0.5->category_encoders) (2023.3)\n",
            "Requirement already satisfied: six in /usr/local/lib/python3.10/dist-packages (from patsy>=0.5.1->category_encoders) (1.16.0)\n",
            "Requirement already satisfied: joblib>=1.1.1 in /usr/local/lib/python3.10/dist-packages (from scikit-learn>=0.20.0->category_encoders) (1.3.2)\n",
            "Requirement already satisfied: threadpoolctl>=2.0.0 in /usr/local/lib/python3.10/dist-packages (from scikit-learn>=0.20.0->category_encoders) (3.2.0)\n",
            "Requirement already satisfied: packaging>=21.3 in /usr/local/lib/python3.10/dist-packages (from statsmodels>=0.9.0->category_encoders) (23.1)\n",
            "Installing collected packages: category_encoders\n",
            "Successfully installed category_encoders-2.6.2\n"
          ]
        }
      ]
    },
    {
      "cell_type": "code",
      "source": [
        "labels = bail_status['Bail_status'].copy()\n",
        "final_bail_status = enc.fit_transform(bail_status,labels)"
      ],
      "metadata": {
        "id": "8Ht6M1b-TR0i"
      },
      "execution_count": 25,
      "outputs": []
    },
    {
      "cell_type": "code",
      "source": [
        "final_bail_status.head()"
      ],
      "metadata": {
        "colab": {
          "base_uri": "https://localhost:8080/",
          "height": 275
        },
        "id": "wv_AjD3mTVe7",
        "outputId": "f2098d68-4f69-4c40-9ed4-52c02119397c"
      },
      "execution_count": 26,
      "outputs": [
        {
          "output_type": "execute_result",
          "data": {
            "text/plain": [
              "     Gender  Age_at_Crime      Race  Ethnicity Offense_Date  \\\n",
              "0  0.711921      0.723255  0.735374   0.616387   2020-01-01   \n",
              "1  0.712475      0.715505  0.730907   0.728691   2019-11-01   \n",
              "2  0.712475      0.717453  0.634109   0.616387   2017-04-01   \n",
              "3  0.328316      0.723993  0.634125   0.616404   2017-04-01   \n",
              "4  0.712479      0.712733  0.735384   0.728697   2020-01-01   \n",
              "\n",
              "   Arraign Charge Category  Representation_Type Release Decision at Arraign  \\\n",
              "0                 0.729436             0.680847                         ROR   \n",
              "1                 0.845037             0.715048                         ROR   \n",
              "2                 0.563324             0.730284                         ROR   \n",
              "3                 0.563357             0.715060         Disposed at arraign   \n",
              "4                 0.655735             0.680857         Nonmonetary release   \n",
              "\n",
              "   County_Name  age_group  offense_year  offense_timeperiod  Bail_status  \n",
              "0     0.761671        1.0        2020.0            0.720971          1.0  \n",
              "1     0.683107        2.0        2019.0            0.629621          1.0  \n",
              "2     0.696621        1.0        2017.0            0.629621          1.0  \n",
              "3     0.657394        1.0        2017.0            0.629654          0.0  \n",
              "4     0.683138        2.0        2020.0            0.720977          0.0  "
            ],
            "text/html": [
              "\n",
              "  <div id=\"df-ab395f4c-c09e-40f4-82e6-be96c06ac00d\" class=\"colab-df-container\">\n",
              "    <div>\n",
              "<style scoped>\n",
              "    .dataframe tbody tr th:only-of-type {\n",
              "        vertical-align: middle;\n",
              "    }\n",
              "\n",
              "    .dataframe tbody tr th {\n",
              "        vertical-align: top;\n",
              "    }\n",
              "\n",
              "    .dataframe thead th {\n",
              "        text-align: right;\n",
              "    }\n",
              "</style>\n",
              "<table border=\"1\" class=\"dataframe\">\n",
              "  <thead>\n",
              "    <tr style=\"text-align: right;\">\n",
              "      <th></th>\n",
              "      <th>Gender</th>\n",
              "      <th>Age_at_Crime</th>\n",
              "      <th>Race</th>\n",
              "      <th>Ethnicity</th>\n",
              "      <th>Offense_Date</th>\n",
              "      <th>Arraign Charge Category</th>\n",
              "      <th>Representation_Type</th>\n",
              "      <th>Release Decision at Arraign</th>\n",
              "      <th>County_Name</th>\n",
              "      <th>age_group</th>\n",
              "      <th>offense_year</th>\n",
              "      <th>offense_timeperiod</th>\n",
              "      <th>Bail_status</th>\n",
              "    </tr>\n",
              "  </thead>\n",
              "  <tbody>\n",
              "    <tr>\n",
              "      <th>0</th>\n",
              "      <td>0.711921</td>\n",
              "      <td>0.723255</td>\n",
              "      <td>0.735374</td>\n",
              "      <td>0.616387</td>\n",
              "      <td>2020-01-01</td>\n",
              "      <td>0.729436</td>\n",
              "      <td>0.680847</td>\n",
              "      <td>ROR</td>\n",
              "      <td>0.761671</td>\n",
              "      <td>1.0</td>\n",
              "      <td>2020.0</td>\n",
              "      <td>0.720971</td>\n",
              "      <td>1.0</td>\n",
              "    </tr>\n",
              "    <tr>\n",
              "      <th>1</th>\n",
              "      <td>0.712475</td>\n",
              "      <td>0.715505</td>\n",
              "      <td>0.730907</td>\n",
              "      <td>0.728691</td>\n",
              "      <td>2019-11-01</td>\n",
              "      <td>0.845037</td>\n",
              "      <td>0.715048</td>\n",
              "      <td>ROR</td>\n",
              "      <td>0.683107</td>\n",
              "      <td>2.0</td>\n",
              "      <td>2019.0</td>\n",
              "      <td>0.629621</td>\n",
              "      <td>1.0</td>\n",
              "    </tr>\n",
              "    <tr>\n",
              "      <th>2</th>\n",
              "      <td>0.712475</td>\n",
              "      <td>0.717453</td>\n",
              "      <td>0.634109</td>\n",
              "      <td>0.616387</td>\n",
              "      <td>2017-04-01</td>\n",
              "      <td>0.563324</td>\n",
              "      <td>0.730284</td>\n",
              "      <td>ROR</td>\n",
              "      <td>0.696621</td>\n",
              "      <td>1.0</td>\n",
              "      <td>2017.0</td>\n",
              "      <td>0.629621</td>\n",
              "      <td>1.0</td>\n",
              "    </tr>\n",
              "    <tr>\n",
              "      <th>3</th>\n",
              "      <td>0.328316</td>\n",
              "      <td>0.723993</td>\n",
              "      <td>0.634125</td>\n",
              "      <td>0.616404</td>\n",
              "      <td>2017-04-01</td>\n",
              "      <td>0.563357</td>\n",
              "      <td>0.715060</td>\n",
              "      <td>Disposed at arraign</td>\n",
              "      <td>0.657394</td>\n",
              "      <td>1.0</td>\n",
              "      <td>2017.0</td>\n",
              "      <td>0.629654</td>\n",
              "      <td>0.0</td>\n",
              "    </tr>\n",
              "    <tr>\n",
              "      <th>4</th>\n",
              "      <td>0.712479</td>\n",
              "      <td>0.712733</td>\n",
              "      <td>0.735384</td>\n",
              "      <td>0.728697</td>\n",
              "      <td>2020-01-01</td>\n",
              "      <td>0.655735</td>\n",
              "      <td>0.680857</td>\n",
              "      <td>Nonmonetary release</td>\n",
              "      <td>0.683138</td>\n",
              "      <td>2.0</td>\n",
              "      <td>2020.0</td>\n",
              "      <td>0.720977</td>\n",
              "      <td>0.0</td>\n",
              "    </tr>\n",
              "  </tbody>\n",
              "</table>\n",
              "</div>\n",
              "    <div class=\"colab-df-buttons\">\n",
              "\n",
              "  <div class=\"colab-df-container\">\n",
              "    <button class=\"colab-df-convert\" onclick=\"convertToInteractive('df-ab395f4c-c09e-40f4-82e6-be96c06ac00d')\"\n",
              "            title=\"Convert this dataframe to an interactive table.\"\n",
              "            style=\"display:none;\">\n",
              "\n",
              "  <svg xmlns=\"http://www.w3.org/2000/svg\" height=\"24px\" viewBox=\"0 -960 960 960\">\n",
              "    <path d=\"M120-120v-720h720v720H120Zm60-500h600v-160H180v160Zm220 220h160v-160H400v160Zm0 220h160v-160H400v160ZM180-400h160v-160H180v160Zm440 0h160v-160H620v160ZM180-180h160v-160H180v160Zm440 0h160v-160H620v160Z\"/>\n",
              "  </svg>\n",
              "    </button>\n",
              "\n",
              "  <style>\n",
              "    .colab-df-container {\n",
              "      display:flex;\n",
              "      gap: 12px;\n",
              "    }\n",
              "\n",
              "    .colab-df-convert {\n",
              "      background-color: #E8F0FE;\n",
              "      border: none;\n",
              "      border-radius: 50%;\n",
              "      cursor: pointer;\n",
              "      display: none;\n",
              "      fill: #1967D2;\n",
              "      height: 32px;\n",
              "      padding: 0 0 0 0;\n",
              "      width: 32px;\n",
              "    }\n",
              "\n",
              "    .colab-df-convert:hover {\n",
              "      background-color: #E2EBFA;\n",
              "      box-shadow: 0px 1px 2px rgba(60, 64, 67, 0.3), 0px 1px 3px 1px rgba(60, 64, 67, 0.15);\n",
              "      fill: #174EA6;\n",
              "    }\n",
              "\n",
              "    .colab-df-buttons div {\n",
              "      margin-bottom: 4px;\n",
              "    }\n",
              "\n",
              "    [theme=dark] .colab-df-convert {\n",
              "      background-color: #3B4455;\n",
              "      fill: #D2E3FC;\n",
              "    }\n",
              "\n",
              "    [theme=dark] .colab-df-convert:hover {\n",
              "      background-color: #434B5C;\n",
              "      box-shadow: 0px 1px 3px 1px rgba(0, 0, 0, 0.15);\n",
              "      filter: drop-shadow(0px 1px 2px rgba(0, 0, 0, 0.3));\n",
              "      fill: #FFFFFF;\n",
              "    }\n",
              "  </style>\n",
              "\n",
              "    <script>\n",
              "      const buttonEl =\n",
              "        document.querySelector('#df-ab395f4c-c09e-40f4-82e6-be96c06ac00d button.colab-df-convert');\n",
              "      buttonEl.style.display =\n",
              "        google.colab.kernel.accessAllowed ? 'block' : 'none';\n",
              "\n",
              "      async function convertToInteractive(key) {\n",
              "        const element = document.querySelector('#df-ab395f4c-c09e-40f4-82e6-be96c06ac00d');\n",
              "        const dataTable =\n",
              "          await google.colab.kernel.invokeFunction('convertToInteractive',\n",
              "                                                    [key], {});\n",
              "        if (!dataTable) return;\n",
              "\n",
              "        const docLinkHtml = 'Like what you see? Visit the ' +\n",
              "          '<a target=\"_blank\" href=https://colab.research.google.com/notebooks/data_table.ipynb>data table notebook</a>'\n",
              "          + ' to learn more about interactive tables.';\n",
              "        element.innerHTML = '';\n",
              "        dataTable['output_type'] = 'display_data';\n",
              "        await google.colab.output.renderOutput(dataTable, element);\n",
              "        const docLink = document.createElement('div');\n",
              "        docLink.innerHTML = docLinkHtml;\n",
              "        element.appendChild(docLink);\n",
              "      }\n",
              "    </script>\n",
              "  </div>\n",
              "\n",
              "\n",
              "<div id=\"df-b0cf9be1-4a38-49dd-ba17-930668e6d0e2\">\n",
              "  <button class=\"colab-df-quickchart\" onclick=\"quickchart('df-b0cf9be1-4a38-49dd-ba17-930668e6d0e2')\"\n",
              "            title=\"Suggest charts.\"\n",
              "            style=\"display:none;\">\n",
              "\n",
              "<svg xmlns=\"http://www.w3.org/2000/svg\" height=\"24px\"viewBox=\"0 0 24 24\"\n",
              "     width=\"24px\">\n",
              "    <g>\n",
              "        <path d=\"M19 3H5c-1.1 0-2 .9-2 2v14c0 1.1.9 2 2 2h14c1.1 0 2-.9 2-2V5c0-1.1-.9-2-2-2zM9 17H7v-7h2v7zm4 0h-2V7h2v10zm4 0h-2v-4h2v4z\"/>\n",
              "    </g>\n",
              "</svg>\n",
              "  </button>\n",
              "\n",
              "<style>\n",
              "  .colab-df-quickchart {\n",
              "    background-color: #E8F0FE;\n",
              "    border: none;\n",
              "    border-radius: 50%;\n",
              "    cursor: pointer;\n",
              "    display: none;\n",
              "    fill: #1967D2;\n",
              "    height: 32px;\n",
              "    padding: 0 0 0 0;\n",
              "    width: 32px;\n",
              "  }\n",
              "\n",
              "  .colab-df-quickchart:hover {\n",
              "    background-color: #E2EBFA;\n",
              "    box-shadow: 0px 1px 2px rgba(60, 64, 67, 0.3), 0px 1px 3px 1px rgba(60, 64, 67, 0.15);\n",
              "    fill: #174EA6;\n",
              "  }\n",
              "\n",
              "  [theme=dark] .colab-df-quickchart {\n",
              "    background-color: #3B4455;\n",
              "    fill: #D2E3FC;\n",
              "  }\n",
              "\n",
              "  [theme=dark] .colab-df-quickchart:hover {\n",
              "    background-color: #434B5C;\n",
              "    box-shadow: 0px 1px 3px 1px rgba(0, 0, 0, 0.15);\n",
              "    filter: drop-shadow(0px 1px 2px rgba(0, 0, 0, 0.3));\n",
              "    fill: #FFFFFF;\n",
              "  }\n",
              "</style>\n",
              "\n",
              "  <script>\n",
              "    async function quickchart(key) {\n",
              "      const charts = await google.colab.kernel.invokeFunction(\n",
              "          'suggestCharts', [key], {});\n",
              "    }\n",
              "    (() => {\n",
              "      let quickchartButtonEl =\n",
              "        document.querySelector('#df-b0cf9be1-4a38-49dd-ba17-930668e6d0e2 button');\n",
              "      quickchartButtonEl.style.display =\n",
              "        google.colab.kernel.accessAllowed ? 'block' : 'none';\n",
              "    })();\n",
              "  </script>\n",
              "</div>\n",
              "    </div>\n",
              "  </div>\n"
            ]
          },
          "metadata": {},
          "execution_count": 26
        }
      ]
    },
    {
      "cell_type": "code",
      "source": [
        "final_bail_status = final_bail_status.drop(columns = ['Offense_Date','age_group','offense_year','Release Decision at Arraign'])"
      ],
      "metadata": {
        "id": "VONXsZkUTXff"
      },
      "execution_count": 27,
      "outputs": []
    },
    {
      "cell_type": "code",
      "source": [
        "final_bail_status.head()"
      ],
      "metadata": {
        "colab": {
          "base_uri": "https://localhost:8080/",
          "height": 206
        },
        "id": "IjHu-Z3NTZmy",
        "outputId": "8ab0ba44-79f9-4098-99c2-94dc524df391"
      },
      "execution_count": 28,
      "outputs": [
        {
          "output_type": "execute_result",
          "data": {
            "text/plain": [
              "     Gender  Age_at_Crime      Race  Ethnicity  Arraign Charge Category  \\\n",
              "0  0.711921      0.723255  0.735374   0.616387                 0.729436   \n",
              "1  0.712475      0.715505  0.730907   0.728691                 0.845037   \n",
              "2  0.712475      0.717453  0.634109   0.616387                 0.563324   \n",
              "3  0.328316      0.723993  0.634125   0.616404                 0.563357   \n",
              "4  0.712479      0.712733  0.735384   0.728697                 0.655735   \n",
              "\n",
              "   Representation_Type  County_Name  offense_timeperiod  Bail_status  \n",
              "0             0.680847     0.761671            0.720971          1.0  \n",
              "1             0.715048     0.683107            0.629621          1.0  \n",
              "2             0.730284     0.696621            0.629621          1.0  \n",
              "3             0.715060     0.657394            0.629654          0.0  \n",
              "4             0.680857     0.683138            0.720977          0.0  "
            ],
            "text/html": [
              "\n",
              "  <div id=\"df-b91e6d0f-5d54-4e58-b5ca-a65eccdacb76\" class=\"colab-df-container\">\n",
              "    <div>\n",
              "<style scoped>\n",
              "    .dataframe tbody tr th:only-of-type {\n",
              "        vertical-align: middle;\n",
              "    }\n",
              "\n",
              "    .dataframe tbody tr th {\n",
              "        vertical-align: top;\n",
              "    }\n",
              "\n",
              "    .dataframe thead th {\n",
              "        text-align: right;\n",
              "    }\n",
              "</style>\n",
              "<table border=\"1\" class=\"dataframe\">\n",
              "  <thead>\n",
              "    <tr style=\"text-align: right;\">\n",
              "      <th></th>\n",
              "      <th>Gender</th>\n",
              "      <th>Age_at_Crime</th>\n",
              "      <th>Race</th>\n",
              "      <th>Ethnicity</th>\n",
              "      <th>Arraign Charge Category</th>\n",
              "      <th>Representation_Type</th>\n",
              "      <th>County_Name</th>\n",
              "      <th>offense_timeperiod</th>\n",
              "      <th>Bail_status</th>\n",
              "    </tr>\n",
              "  </thead>\n",
              "  <tbody>\n",
              "    <tr>\n",
              "      <th>0</th>\n",
              "      <td>0.711921</td>\n",
              "      <td>0.723255</td>\n",
              "      <td>0.735374</td>\n",
              "      <td>0.616387</td>\n",
              "      <td>0.729436</td>\n",
              "      <td>0.680847</td>\n",
              "      <td>0.761671</td>\n",
              "      <td>0.720971</td>\n",
              "      <td>1.0</td>\n",
              "    </tr>\n",
              "    <tr>\n",
              "      <th>1</th>\n",
              "      <td>0.712475</td>\n",
              "      <td>0.715505</td>\n",
              "      <td>0.730907</td>\n",
              "      <td>0.728691</td>\n",
              "      <td>0.845037</td>\n",
              "      <td>0.715048</td>\n",
              "      <td>0.683107</td>\n",
              "      <td>0.629621</td>\n",
              "      <td>1.0</td>\n",
              "    </tr>\n",
              "    <tr>\n",
              "      <th>2</th>\n",
              "      <td>0.712475</td>\n",
              "      <td>0.717453</td>\n",
              "      <td>0.634109</td>\n",
              "      <td>0.616387</td>\n",
              "      <td>0.563324</td>\n",
              "      <td>0.730284</td>\n",
              "      <td>0.696621</td>\n",
              "      <td>0.629621</td>\n",
              "      <td>1.0</td>\n",
              "    </tr>\n",
              "    <tr>\n",
              "      <th>3</th>\n",
              "      <td>0.328316</td>\n",
              "      <td>0.723993</td>\n",
              "      <td>0.634125</td>\n",
              "      <td>0.616404</td>\n",
              "      <td>0.563357</td>\n",
              "      <td>0.715060</td>\n",
              "      <td>0.657394</td>\n",
              "      <td>0.629654</td>\n",
              "      <td>0.0</td>\n",
              "    </tr>\n",
              "    <tr>\n",
              "      <th>4</th>\n",
              "      <td>0.712479</td>\n",
              "      <td>0.712733</td>\n",
              "      <td>0.735384</td>\n",
              "      <td>0.728697</td>\n",
              "      <td>0.655735</td>\n",
              "      <td>0.680857</td>\n",
              "      <td>0.683138</td>\n",
              "      <td>0.720977</td>\n",
              "      <td>0.0</td>\n",
              "    </tr>\n",
              "  </tbody>\n",
              "</table>\n",
              "</div>\n",
              "    <div class=\"colab-df-buttons\">\n",
              "\n",
              "  <div class=\"colab-df-container\">\n",
              "    <button class=\"colab-df-convert\" onclick=\"convertToInteractive('df-b91e6d0f-5d54-4e58-b5ca-a65eccdacb76')\"\n",
              "            title=\"Convert this dataframe to an interactive table.\"\n",
              "            style=\"display:none;\">\n",
              "\n",
              "  <svg xmlns=\"http://www.w3.org/2000/svg\" height=\"24px\" viewBox=\"0 -960 960 960\">\n",
              "    <path d=\"M120-120v-720h720v720H120Zm60-500h600v-160H180v160Zm220 220h160v-160H400v160Zm0 220h160v-160H400v160ZM180-400h160v-160H180v160Zm440 0h160v-160H620v160ZM180-180h160v-160H180v160Zm440 0h160v-160H620v160Z\"/>\n",
              "  </svg>\n",
              "    </button>\n",
              "\n",
              "  <style>\n",
              "    .colab-df-container {\n",
              "      display:flex;\n",
              "      gap: 12px;\n",
              "    }\n",
              "\n",
              "    .colab-df-convert {\n",
              "      background-color: #E8F0FE;\n",
              "      border: none;\n",
              "      border-radius: 50%;\n",
              "      cursor: pointer;\n",
              "      display: none;\n",
              "      fill: #1967D2;\n",
              "      height: 32px;\n",
              "      padding: 0 0 0 0;\n",
              "      width: 32px;\n",
              "    }\n",
              "\n",
              "    .colab-df-convert:hover {\n",
              "      background-color: #E2EBFA;\n",
              "      box-shadow: 0px 1px 2px rgba(60, 64, 67, 0.3), 0px 1px 3px 1px rgba(60, 64, 67, 0.15);\n",
              "      fill: #174EA6;\n",
              "    }\n",
              "\n",
              "    .colab-df-buttons div {\n",
              "      margin-bottom: 4px;\n",
              "    }\n",
              "\n",
              "    [theme=dark] .colab-df-convert {\n",
              "      background-color: #3B4455;\n",
              "      fill: #D2E3FC;\n",
              "    }\n",
              "\n",
              "    [theme=dark] .colab-df-convert:hover {\n",
              "      background-color: #434B5C;\n",
              "      box-shadow: 0px 1px 3px 1px rgba(0, 0, 0, 0.15);\n",
              "      filter: drop-shadow(0px 1px 2px rgba(0, 0, 0, 0.3));\n",
              "      fill: #FFFFFF;\n",
              "    }\n",
              "  </style>\n",
              "\n",
              "    <script>\n",
              "      const buttonEl =\n",
              "        document.querySelector('#df-b91e6d0f-5d54-4e58-b5ca-a65eccdacb76 button.colab-df-convert');\n",
              "      buttonEl.style.display =\n",
              "        google.colab.kernel.accessAllowed ? 'block' : 'none';\n",
              "\n",
              "      async function convertToInteractive(key) {\n",
              "        const element = document.querySelector('#df-b91e6d0f-5d54-4e58-b5ca-a65eccdacb76');\n",
              "        const dataTable =\n",
              "          await google.colab.kernel.invokeFunction('convertToInteractive',\n",
              "                                                    [key], {});\n",
              "        if (!dataTable) return;\n",
              "\n",
              "        const docLinkHtml = 'Like what you see? Visit the ' +\n",
              "          '<a target=\"_blank\" href=https://colab.research.google.com/notebooks/data_table.ipynb>data table notebook</a>'\n",
              "          + ' to learn more about interactive tables.';\n",
              "        element.innerHTML = '';\n",
              "        dataTable['output_type'] = 'display_data';\n",
              "        await google.colab.output.renderOutput(dataTable, element);\n",
              "        const docLink = document.createElement('div');\n",
              "        docLink.innerHTML = docLinkHtml;\n",
              "        element.appendChild(docLink);\n",
              "      }\n",
              "    </script>\n",
              "  </div>\n",
              "\n",
              "\n",
              "<div id=\"df-7a83dc64-1ee4-44ed-b6d3-d8c0b992d7e9\">\n",
              "  <button class=\"colab-df-quickchart\" onclick=\"quickchart('df-7a83dc64-1ee4-44ed-b6d3-d8c0b992d7e9')\"\n",
              "            title=\"Suggest charts.\"\n",
              "            style=\"display:none;\">\n",
              "\n",
              "<svg xmlns=\"http://www.w3.org/2000/svg\" height=\"24px\"viewBox=\"0 0 24 24\"\n",
              "     width=\"24px\">\n",
              "    <g>\n",
              "        <path d=\"M19 3H5c-1.1 0-2 .9-2 2v14c0 1.1.9 2 2 2h14c1.1 0 2-.9 2-2V5c0-1.1-.9-2-2-2zM9 17H7v-7h2v7zm4 0h-2V7h2v10zm4 0h-2v-4h2v4z\"/>\n",
              "    </g>\n",
              "</svg>\n",
              "  </button>\n",
              "\n",
              "<style>\n",
              "  .colab-df-quickchart {\n",
              "    background-color: #E8F0FE;\n",
              "    border: none;\n",
              "    border-radius: 50%;\n",
              "    cursor: pointer;\n",
              "    display: none;\n",
              "    fill: #1967D2;\n",
              "    height: 32px;\n",
              "    padding: 0 0 0 0;\n",
              "    width: 32px;\n",
              "  }\n",
              "\n",
              "  .colab-df-quickchart:hover {\n",
              "    background-color: #E2EBFA;\n",
              "    box-shadow: 0px 1px 2px rgba(60, 64, 67, 0.3), 0px 1px 3px 1px rgba(60, 64, 67, 0.15);\n",
              "    fill: #174EA6;\n",
              "  }\n",
              "\n",
              "  [theme=dark] .colab-df-quickchart {\n",
              "    background-color: #3B4455;\n",
              "    fill: #D2E3FC;\n",
              "  }\n",
              "\n",
              "  [theme=dark] .colab-df-quickchart:hover {\n",
              "    background-color: #434B5C;\n",
              "    box-shadow: 0px 1px 3px 1px rgba(0, 0, 0, 0.15);\n",
              "    filter: drop-shadow(0px 1px 2px rgba(0, 0, 0, 0.3));\n",
              "    fill: #FFFFFF;\n",
              "  }\n",
              "</style>\n",
              "\n",
              "  <script>\n",
              "    async function quickchart(key) {\n",
              "      const charts = await google.colab.kernel.invokeFunction(\n",
              "          'suggestCharts', [key], {});\n",
              "    }\n",
              "    (() => {\n",
              "      let quickchartButtonEl =\n",
              "        document.querySelector('#df-7a83dc64-1ee4-44ed-b6d3-d8c0b992d7e9 button');\n",
              "      quickchartButtonEl.style.display =\n",
              "        google.colab.kernel.accessAllowed ? 'block' : 'none';\n",
              "    })();\n",
              "  </script>\n",
              "</div>\n",
              "    </div>\n",
              "  </div>\n"
            ]
          },
          "metadata": {},
          "execution_count": 28
        }
      ]
    },
    {
      "cell_type": "code",
      "source": [
        "sns.countplot(x='Bail_status',data = final_bail_status)\n",
        "plt.title('Bail_set distribution')\n",
        "position = (1,0)\n",
        "labels = (\"Bail Set\", \" Bail Not Set\")\n",
        "plt.xticks(position,labels)\n",
        "plt.show()"
      ],
      "metadata": {
        "colab": {
          "base_uri": "https://localhost:8080/",
          "height": 480
        },
        "id": "_J2_WBSmTa9H",
        "outputId": "40a859e1-0866-47fd-a7ad-fcd537ae6eb8"
      },
      "execution_count": 29,
      "outputs": [
        {
          "output_type": "display_data",
          "data": {
            "text/plain": [
              "<Figure size 640x480 with 1 Axes>"
            ],
            "image/png": "[encoded data removed]"
          },
          "metadata": {}
        }
      ]
    },
    {
      "cell_type": "code",
      "source": [
        "#Heatmap of the correlation of features\n",
        "plt.figure(figsize=(8,8))\n",
        "sns.heatmap(final_bail_status.corr(), annot=True);"
      ],
      "metadata": {
        "colab": {
          "base_uri": "https://localhost:8080/",
          "height": 862
        },
        "id": "OnGctlAOTjmc",
        "outputId": "7c411479-fe26-4c5f-9ca7-628a580bd70e"
      },
      "execution_count": 30,
      "outputs": [
        {
          "output_type": "display_data",
          "data": {
            "text/plain": [
              "<Figure size 800x800 with 2 Axes>"
            ],
            "image/png": "[encoded data removed]"
          },
          "metadata": {}
        }
      ]
    },
    {
      "cell_type": "code",
      "source": [],
      "metadata": {
        "id": "0hN6oPeRUCT9"
      },
      "execution_count": 30,
      "outputs": []
    },
    {
      "cell_type": "code",
      "source": [
        "from sklearn.model_selection import train_test_split\n",
        "from sklearn.preprocessing import MinMaxScaler\n",
        "from sklearn.model_selection import cross_val_score\n",
        "from sklearn.svm import SVC\n",
        "from sklearn.metrics import confusion_matrix\n",
        "from sklearn.linear_model import LogisticRegression\n",
        "import sklearn.metrics as metrics\n",
        "from sklearn.metrics import confusion_matrix, accuracy_score\n",
        "from sklearn.metrics import classification_report\n",
        "from sklearn.naive_bayes import GaussianNB\n",
        "from sklearn.tree import DecisionTreeClassifier\n",
        "from sklearn.ensemble import RandomForestClassifier\n",
        "from sklearn.neighbors import KNeighborsClassifier\n",
        "from sklearn.naive_bayes import MultinomialNB\n",
        "from sklearn.linear_model import LinearRegression\n",
        "from sklearn.svm import SVC"
      ],
      "metadata": {
        "id": "APeOfSypyyXs"
      },
      "execution_count": 31,
      "outputs": []
    },
    {
      "cell_type": "code",
      "source": [
        "#Normalizing the final data to test and train in models\n",
        "scaler = MinMaxScaler(feature_range = (0,1))\n",
        "normalized_data = scaler.fit_transform(final_bail_status)\n",
        "columns = ['Gender', 'Race', 'Ethnicity', 'Arraign Charge Category','Representation_Type', 'age_group', 'offense_timeperiod','County_Name','Bail_status']\n",
        "normalized_df = pd.DataFrame(normalized_data, columns=columns)\n",
        "normalized_df.head()"
      ],
      "metadata": {
        "colab": {
          "base_uri": "https://localhost:8080/",
          "height": 206
        },
        "id": "3lqvaMUXUCzc",
        "outputId": "542aa241-65ca-4039-f2b2-fcb09a3eea33"
      },
      "execution_count": 32,
      "outputs": [
        {
          "output_type": "execute_result",
          "data": {
            "text/plain": [
              "     Gender      Race  Ethnicity  Arraign Charge Category  \\\n",
              "0  0.998549  0.723255   0.876771                 0.000000   \n",
              "1  0.999988  0.715505   0.838098                 0.813469   \n",
              "2  0.999988  0.717453   0.000000                 0.000000   \n",
              "3  0.002443  0.723993   0.000137                 0.000124   \n",
              "4  1.000000  0.712733   0.876857                 0.813513   \n",
              "\n",
              "   Representation_Type  age_group  offense_timeperiod  County_Name  \\\n",
              "0             0.731797   0.361693            0.673252     0.999116   \n",
              "1             0.998815   0.430096            0.494913     0.695540   \n",
              "2             0.348107   0.460568            0.525589     0.695540   \n",
              "3             0.348182   0.430121            0.436545     0.695650   \n",
              "4             0.561560   0.361713            0.494983     0.999134   \n",
              "\n",
              "   Bail_status  \n",
              "0          1.0  \n",
              "1          1.0  \n",
              "2          1.0  \n",
              "3          0.0  \n",
              "4          0.0  "
            ],
            "text/html": [
              "\n",
              "  <div id=\"df-4047dd1c-706c-496b-aa7b-1331b2b2e0bc\" class=\"colab-df-container\">\n",
              "    <div>\n",
              "<style scoped>\n",
              "    .dataframe tbody tr th:only-of-type {\n",
              "        vertical-align: middle;\n",
              "    }\n",
              "\n",
              "    .dataframe tbody tr th {\n",
              "        vertical-align: top;\n",
              "    }\n",
              "\n",
              "    .dataframe thead th {\n",
              "        text-align: right;\n",
              "    }\n",
              "</style>\n",
              "<table border=\"1\" class=\"dataframe\">\n",
              "  <thead>\n",
              "    <tr style=\"text-align: right;\">\n",
              "      <th></th>\n",
              "      <th>Gender</th>\n",
              "      <th>Race</th>\n",
              "      <th>Ethnicity</th>\n",
              "      <th>Arraign Charge Category</th>\n",
              "      <th>Representation_Type</th>\n",
              "      <th>age_group</th>\n",
              "      <th>offense_timeperiod</th>\n",
              "      <th>County_Name</th>\n",
              "      <th>Bail_status</th>\n",
              "    </tr>\n",
              "  </thead>\n",
              "  <tbody>\n",
              "    <tr>\n",
              "      <th>0</th>\n",
              "      <td>0.998549</td>\n",
              "      <td>0.723255</td>\n",
              "      <td>0.876771</td>\n",
              "      <td>0.000000</td>\n",
              "      <td>0.731797</td>\n",
              "      <td>0.361693</td>\n",
              "      <td>0.673252</td>\n",
              "      <td>0.999116</td>\n",
              "      <td>1.0</td>\n",
              "    </tr>\n",
              "    <tr>\n",
              "      <th>1</th>\n",
              "      <td>0.999988</td>\n",
              "      <td>0.715505</td>\n",
              "      <td>0.838098</td>\n",
              "      <td>0.813469</td>\n",
              "      <td>0.998815</td>\n",
              "      <td>0.430096</td>\n",
              "      <td>0.494913</td>\n",
              "      <td>0.695540</td>\n",
              "      <td>1.0</td>\n",
              "    </tr>\n",
              "    <tr>\n",
              "      <th>2</th>\n",
              "      <td>0.999988</td>\n",
              "      <td>0.717453</td>\n",
              "      <td>0.000000</td>\n",
              "      <td>0.000000</td>\n",
              "      <td>0.348107</td>\n",
              "      <td>0.460568</td>\n",
              "      <td>0.525589</td>\n",
              "      <td>0.695540</td>\n",
              "      <td>1.0</td>\n",
              "    </tr>\n",
              "    <tr>\n",
              "      <th>3</th>\n",
              "      <td>0.002443</td>\n",
              "      <td>0.723993</td>\n",
              "      <td>0.000137</td>\n",
              "      <td>0.000124</td>\n",
              "      <td>0.348182</td>\n",
              "      <td>0.430121</td>\n",
              "      <td>0.436545</td>\n",
              "      <td>0.695650</td>\n",
              "      <td>0.0</td>\n",
              "    </tr>\n",
              "    <tr>\n",
              "      <th>4</th>\n",
              "      <td>1.000000</td>\n",
              "      <td>0.712733</td>\n",
              "      <td>0.876857</td>\n",
              "      <td>0.813513</td>\n",
              "      <td>0.561560</td>\n",
              "      <td>0.361713</td>\n",
              "      <td>0.494983</td>\n",
              "      <td>0.999134</td>\n",
              "      <td>0.0</td>\n",
              "    </tr>\n",
              "  </tbody>\n",
              "</table>\n",
              "</div>\n",
              "    <div class=\"colab-df-buttons\">\n",
              "\n",
              "  <div class=\"colab-df-container\">\n",
              "    <button class=\"colab-df-convert\" onclick=\"convertToInteractive('df-4047dd1c-706c-496b-aa7b-1331b2b2e0bc')\"\n",
              "            title=\"Convert this dataframe to an interactive table.\"\n",
              "            style=\"display:none;\">\n",
              "\n",
              "  <svg xmlns=\"http://www.w3.org/2000/svg\" height=\"24px\" viewBox=\"0 -960 960 960\">\n",
              "    <path d=\"M120-120v-720h720v720H120Zm60-500h600v-160H180v160Zm220 220h160v-160H400v160Zm0 220h160v-160H400v160ZM180-400h160v-160H180v160Zm440 0h160v-160H620v160ZM180-180h160v-160H180v160Zm440 0h160v-160H620v160Z\"/>\n",
              "  </svg>\n",
              "    </button>\n",
              "\n",
              "  <style>\n",
              "    .colab-df-container {\n",
              "      display:flex;\n",
              "      gap: 12px;\n",
              "    }\n",
              "\n",
              "    .colab-df-convert {\n",
              "      background-color: #E8F0FE;\n",
              "      border: none;\n",
              "      border-radius: 50%;\n",
              "      cursor: pointer;\n",
              "      display: none;\n",
              "      fill: #1967D2;\n",
              "      height: 32px;\n",
              "      padding: 0 0 0 0;\n",
              "      width: 32px;\n",
              "    }\n",
              "\n",
              "    .colab-df-convert:hover {\n",
              "      background-color: #E2EBFA;\n",
              "      box-shadow: 0px 1px 2px rgba(60, 64, 67, 0.3), 0px 1px 3px 1px rgba(60, 64, 67, 0.15);\n",
              "      fill: #174EA6;\n",
              "    }\n",
              "\n",
              "    .colab-df-buttons div {\n",
              "      margin-bottom: 4px;\n",
              "    }\n",
              "\n",
              "    [theme=dark] .colab-df-convert {\n",
              "      background-color: #3B4455;\n",
              "      fill: #D2E3FC;\n",
              "    }\n",
              "\n",
              "    [theme=dark] .colab-df-convert:hover {\n",
              "      background-color: #434B5C;\n",
              "      box-shadow: 0px 1px 3px 1px rgba(0, 0, 0, 0.15);\n",
              "      filter: drop-shadow(0px 1px 2px rgba(0, 0, 0, 0.3));\n",
              "      fill: #FFFFFF;\n",
              "    }\n",
              "  </style>\n",
              "\n",
              "    <script>\n",
              "      const buttonEl =\n",
              "        document.querySelector('#df-4047dd1c-706c-496b-aa7b-1331b2b2e0bc button.colab-df-convert');\n",
              "      buttonEl.style.display =\n",
              "        google.colab.kernel.accessAllowed ? 'block' : 'none';\n",
              "\n",
              "      async function convertToInteractive(key) {\n",
              "        const element = document.querySelector('#df-4047dd1c-706c-496b-aa7b-1331b2b2e0bc');\n",
              "        const dataTable =\n",
              "          await google.colab.kernel.invokeFunction('convertToInteractive',\n",
              "                                                    [key], {});\n",
              "        if (!dataTable) return;\n",
              "\n",
              "        const docLinkHtml = 'Like what you see? Visit the ' +\n",
              "          '<a target=\"_blank\" href=https://colab.research.google.com/notebooks/data_table.ipynb>data table notebook</a>'\n",
              "          + ' to learn more about interactive tables.';\n",
              "        element.innerHTML = '';\n",
              "        dataTable['output_type'] = 'display_data';\n",
              "        await google.colab.output.renderOutput(dataTable, element);\n",
              "        const docLink = document.createElement('div');\n",
              "        docLink.innerHTML = docLinkHtml;\n",
              "        element.appendChild(docLink);\n",
              "      }\n",
              "    </script>\n",
              "  </div>\n",
              "\n",
              "\n",
              "<div id=\"df-bbe9d1a1-c7dc-4dcc-bdfa-2f60709c2084\">\n",
              "  <button class=\"colab-df-quickchart\" onclick=\"quickchart('df-bbe9d1a1-c7dc-4dcc-bdfa-2f60709c2084')\"\n",
              "            title=\"Suggest charts.\"\n",
              "            style=\"display:none;\">\n",
              "\n",
              "<svg xmlns=\"http://www.w3.org/2000/svg\" height=\"24px\"viewBox=\"0 0 24 24\"\n",
              "     width=\"24px\">\n",
              "    <g>\n",
              "        <path d=\"M19 3H5c-1.1 0-2 .9-2 2v14c0 1.1.9 2 2 2h14c1.1 0 2-.9 2-2V5c0-1.1-.9-2-2-2zM9 17H7v-7h2v7zm4 0h-2V7h2v10zm4 0h-2v-4h2v4z\"/>\n",
              "    </g>\n",
              "</svg>\n",
              "  </button>\n",
              "\n",
              "<style>\n",
              "  .colab-df-quickchart {\n",
              "    background-color: #E8F0FE;\n",
              "    border: none;\n",
              "    border-radius: 50%;\n",
              "    cursor: pointer;\n",
              "    display: none;\n",
              "    fill: #1967D2;\n",
              "    height: 32px;\n",
              "    padding: 0 0 0 0;\n",
              "    width: 32px;\n",
              "  }\n",
              "\n",
              "  .colab-df-quickchart:hover {\n",
              "    background-color: #E2EBFA;\n",
              "    box-shadow: 0px 1px 2px rgba(60, 64, 67, 0.3), 0px 1px 3px 1px rgba(60, 64, 67, 0.15);\n",
              "    fill: #174EA6;\n",
              "  }\n",
              "\n",
              "  [theme=dark] .colab-df-quickchart {\n",
              "    background-color: #3B4455;\n",
              "    fill: #D2E3FC;\n",
              "  }\n",
              "\n",
              "  [theme=dark] .colab-df-quickchart:hover {\n",
              "    background-color: #434B5C;\n",
              "    box-shadow: 0px 1px 3px 1px rgba(0, 0, 0, 0.15);\n",
              "    filter: drop-shadow(0px 1px 2px rgba(0, 0, 0, 0.3));\n",
              "    fill: #FFFFFF;\n",
              "  }\n",
              "</style>\n",
              "\n",
              "  <script>\n",
              "    async function quickchart(key) {\n",
              "      const charts = await google.colab.kernel.invokeFunction(\n",
              "          'suggestCharts', [key], {});\n",
              "    }\n",
              "    (() => {\n",
              "      let quickchartButtonEl =\n",
              "        document.querySelector('#df-bbe9d1a1-c7dc-4dcc-bdfa-2f60709c2084 button');\n",
              "      quickchartButtonEl.style.display =\n",
              "        google.colab.kernel.accessAllowed ? 'block' : 'none';\n",
              "    })();\n",
              "  </script>\n",
              "</div>\n",
              "    </div>\n",
              "  </div>\n"
            ]
          },
          "metadata": {},
          "execution_count": 32
        }
      ]
    },
    {
      "cell_type": "code",
      "source": [
        "#Split Test and Train data as 30% and 70% respectively\n",
        "X = normalized_df.iloc[:, :-1]\n",
        "Y = normalized_df.iloc[:, -1]\n",
        "#test  = normalized_df.iloc[56818:, -1]\n",
        "X_train, X_test, Y_train, Y_test = train_test_split(X, Y, test_size = 0.3, random_state = 2)"
      ],
      "metadata": {
        "id": "dAautfP0UFvM"
      },
      "execution_count": 33,
      "outputs": []
    },
    {
      "cell_type": "code",
      "source": [
        "X_train.shape, Y_train.shape\n",
        "X_test.shape,Y_test.shape"
      ],
      "metadata": {
        "colab": {
          "base_uri": "https://localhost:8080/"
        },
        "id": "huF2WhHkUNAP",
        "outputId": "25440af1-be8c-4f8d-fde1-38805504cfa5"
      },
      "execution_count": 34,
      "outputs": [
        {
          "output_type": "execute_result",
          "data": {
            "text/plain": [
              "((85229, 8), (85229,))"
            ]
          },
          "metadata": {},
          "execution_count": 34
        }
      ]
    },
    {
      "cell_type": "code",
      "source": [],
      "metadata": {
        "id": "7DLHZp8oUULV"
      },
      "execution_count": 34,
      "outputs": []
    },
    {
      "cell_type": "markdown",
      "source": [
        "Baseline Model"
      ],
      "metadata": {
        "id": "rv_tVerUUV07"
      }
    },
    {
      "cell_type": "code",
      "source": [
        "from sklearn.dummy import DummyClassifier\n",
        "\n",
        "baseline = DummyClassifier(strategy='most_frequent')\n",
        "baseline.fit(X_train,Y_train)\n",
        "\n",
        "Y_predct_base = baseline.predict(X_test)\n",
        "\n",
        "baseline_acc = metrics.accuracy_score(Y_test,Y_predct_base)\n",
        "print(\"Baseline Accuracy: \", baseline_acc)"
      ],
      "metadata": {
        "colab": {
          "base_uri": "https://localhost:8080/"
        },
        "id": "e-itwgtIUW2u",
        "outputId": "850dbd3a-8ed3-45d6-ed11-a3e67c99592b"
      },
      "execution_count": 35,
      "outputs": [
        {
          "output_type": "stream",
          "name": "stdout",
          "text": [
            "Baseline Accuracy:  0.7111898532189748\n"
          ]
        }
      ]
    },
    {
      "cell_type": "markdown",
      "source": [
        "Logistic Regression Model"
      ],
      "metadata": {
        "id": "44ZuyWV3UZ1F"
      }
    },
    {
      "cell_type": "code",
      "source": [
        "log_reg = LogisticRegression()\n",
        "log_reg.fit(X_train,Y_train)\n",
        "Y_predct_log = log_reg.predict(X_test)\n",
        "\n",
        "log_reg_acc = metrics.accuracy_score(Y_test, Y_predct_log)\n",
        "log_reg_f1 = metrics.f1_score(Y_test, Y_predct_log)\n",
        "log_reg_prec = metrics.precision_score(Y_test, Y_predct_log)\n",
        "log_reg_recall =metrics.recall_score(Y_test, Y_predct_log)\n",
        "\n",
        "print(\"Accuracy:\",log_reg_acc)\n",
        "print(\"F1 Score:\",log_reg_f1)\n",
        "print(\"Precision:\",log_reg_prec)\n",
        "print(\"Recall:\",log_reg_recall)"
      ],
      "metadata": {
        "colab": {
          "base_uri": "https://localhost:8080/"
        },
        "id": "IzU08AxuUYnv",
        "outputId": "b91628be-6804-42b9-dbd4-998c1f88f00a"
      },
      "execution_count": 36,
      "outputs": [
        {
          "output_type": "stream",
          "name": "stdout",
          "text": [
            "Accuracy: 0.7248706426216429\n",
            "F1 Score: 0.8303783916726344\n",
            "Precision: 0.7393757487536874\n",
            "Recall: 0.9469264526347049\n"
          ]
        }
      ]
    },
    {
      "cell_type": "code",
      "source": [
        "y_pred_log_prob = log_reg.predict_proba(X_test)[::,1]\n",
        "fpr_log, tpr_log, _ = metrics.roc_curve(Y_test, y_pred_log_prob)\n",
        "auc_log = metrics.roc_auc_score(Y_test, y_pred_log_prob)"
      ],
      "metadata": {
        "id": "cbHX0aUAUep9"
      },
      "execution_count": 37,
      "outputs": []
    },
    {
      "cell_type": "code",
      "source": [
        "#Confusion Matrix for Logistic Regression Model\n",
        "conf_matrix = confusion_matrix(Y_test, Y_predct_log)\n",
        "print(conf_matrix)"
      ],
      "metadata": {
        "colab": {
          "base_uri": "https://localhost:8080/"
        },
        "id": "jHODyDYYUgfG",
        "outputId": "ce8487c8-4670-4edf-fc47-1204c8769e20"
      },
      "execution_count": 38,
      "outputs": [
        {
          "output_type": "stream",
          "name": "stdout",
          "text": [
            "[[ 4383 20232]\n",
            " [ 3217 57397]]\n"
          ]
        }
      ]
    },
    {
      "cell_type": "markdown",
      "source": [
        "Gaussian Naive Bayes Model"
      ],
      "metadata": {
        "id": "NV72bXGEUnZv"
      }
    },
    {
      "cell_type": "code",
      "source": [
        "nb = GaussianNB()\n",
        "nb.fit(X_train,Y_train)\n",
        "\n",
        "Y_predct_nb = nb.predict(X_test)\n",
        "\n",
        "nb_acc = metrics.accuracy_score(Y_test, Y_predct_nb)\n",
        "nb_f1 = metrics.f1_score(Y_test, Y_predct_nb)\n",
        "nb_prec = metrics.precision_score(Y_test, Y_predct_nb)\n",
        "nb_recall = metrics.recall_score(Y_test, Y_predct_nb)\n",
        "print(\"Accuracy:\",nb_acc)\n",
        "print(\"F1 Score:\",nb_f1)\n",
        "print(\"Precision:\",nb_prec)\n",
        "print(\"Recall:\",nb_recall)"
      ],
      "metadata": {
        "colab": {
          "base_uri": "https://localhost:8080/"
        },
        "id": "PpzsSg-YUjrt",
        "outputId": "3199b354-101b-464a-ca21-35e31b101ddb"
      },
      "execution_count": 39,
      "outputs": [
        {
          "output_type": "stream",
          "name": "stdout",
          "text": [
            "Accuracy: 0.7103333372443652\n",
            "F1 Score: 0.8216339623732046\n",
            "Precision: 0.730892825008355\n",
            "Recall: 0.9381001088857359\n"
          ]
        }
      ]
    },
    {
      "cell_type": "code",
      "source": [
        "y_pred_nb_prob = log_reg.predict_proba(X_test)[::,1]\n",
        "fpr_nb, tpr_nb, _ = metrics.roc_curve(Y_test, y_pred_nb_prob)\n",
        "auc_nb = metrics.roc_auc_score(Y_test, y_pred_nb_prob)"
      ],
      "metadata": {
        "id": "yxXCG4NtUqwf"
      },
      "execution_count": 40,
      "outputs": []
    },
    {
      "cell_type": "code",
      "source": [
        "#Confusion Matrix for Logistic Regression Model\n",
        "conf_matrix = confusion_matrix(Y_test, Y_predct_nb)\n",
        "print(conf_matrix)"
      ],
      "metadata": {
        "colab": {
          "base_uri": "https://localhost:8080/"
        },
        "id": "t5YHFTcLUsvN",
        "outputId": "81d3f53a-af04-409e-c7ef-44b1d714269c"
      },
      "execution_count": 41,
      "outputs": [
        {
          "output_type": "stream",
          "name": "stdout",
          "text": [
            "[[ 3679 20936]\n",
            " [ 3752 56862]]\n"
          ]
        }
      ]
    },
    {
      "cell_type": "markdown",
      "source": [
        "k-Nearest Neighbors (KNN) Classifier Model"
      ],
      "metadata": {
        "id": "6__45Bu4Vv6g"
      }
    },
    {
      "cell_type": "code",
      "source": [
        "knn = KNeighborsClassifier(n_neighbors=7)"
      ],
      "metadata": {
        "id": "Qrr-OwnGUuFi"
      },
      "execution_count": 42,
      "outputs": []
    },
    {
      "cell_type": "code",
      "source": [
        "knn.fit(X_train,Y_train)\n",
        "Y_predct_knn = knn.predict(X_test)"
      ],
      "metadata": {
        "id": "uJwDVteFV8TU"
      },
      "execution_count": 43,
      "outputs": []
    },
    {
      "cell_type": "code",
      "source": [
        "knn_acc = metrics.accuracy_score(Y_test, Y_predct_knn)\n",
        "knn_f1 = metrics.f1_score(Y_test, Y_predct_knn)\n",
        "knn_prec = metrics.precision_score(Y_test, Y_predct_knn)\n",
        "knn_recall = metrics.recall_score(Y_test, Y_predct_knn)\n",
        "print(\"Accuracy:\", knn_acc)\n",
        "print(\"F1 Score:\",knn_f1)\n",
        "print(\"Precision:\",knn_prec)\n",
        "print(\"Recall:\",knn_recall)"
      ],
      "metadata": {
        "colab": {
          "base_uri": "https://localhost:8080/"
        },
        "id": "jKMEdykbV9b9",
        "outputId": "4fd9576f-f7cc-4399-a7bf-906d0bc77ca7"
      },
      "execution_count": 44,
      "outputs": [
        {
          "output_type": "stream",
          "name": "stdout",
          "text": [
            "Accuracy: 0.7668633915685975\n",
            "F1 Score: 0.8457274181276107\n",
            "Precision: 0.7987797723806171\n",
            "Recall: 0.8985382914838156\n"
          ]
        }
      ]
    },
    {
      "cell_type": "code",
      "source": [
        "y_pred_knn_prob = knn.predict_proba(X_test)[::,1]\n",
        "fpr_knn, tpr_knn, _ = metrics.roc_curve(Y_test,y_pred_knn_prob)\n",
        "auc_knn = metrics.roc_auc_score(Y_test, y_pred_knn_prob)"
      ],
      "metadata": {
        "id": "xKkzlJIFV-vA"
      },
      "execution_count": 45,
      "outputs": []
    },
    {
      "cell_type": "code",
      "source": [
        "conf_matrix = confusion_matrix(Y_test, Y_predct_knn)\n",
        "print(conf_matrix)"
      ],
      "metadata": {
        "colab": {
          "base_uri": "https://localhost:8080/"
        },
        "id": "PtZs9HagWAOT",
        "outputId": "923f6566-23e5-4a94-bdc2-c7d8ca9511e8"
      },
      "execution_count": 46,
      "outputs": [
        {
          "output_type": "stream",
          "name": "stdout",
          "text": [
            "[[10895 13720]\n",
            " [ 6150 54464]]\n"
          ]
        }
      ]
    },
    {
      "cell_type": "code",
      "source": [],
      "metadata": {
        "id": "O4elcrfbWBTE"
      },
      "execution_count": 46,
      "outputs": []
    },
    {
      "cell_type": "markdown",
      "source": [
        "Plotting Graph for Model results"
      ],
      "metadata": {
        "id": "nUys4T9wbSc5"
      }
    },
    {
      "cell_type": "code",
      "source": [
        "#https://stackoverflow.com/questions/53182452/python-create-bar-chart-comparing-2-sets-of-data\n",
        "fig, (ax1, ax2) = plt.subplots(1, 2)\n",
        "fig.suptitle('Compare model results', fontsize=16, fontweight='bold')\n",
        "fig.set_figheight(7)\n",
        "fig.set_figwidth(14)\n",
        "fig.set_facecolor('white')\n",
        "\n",
        "barsize = 0.2\n",
        "log_reg_score = [log_reg_acc,log_reg_f1,log_reg_prec,log_reg_recall]\n",
        "nb_score = [nb_acc,nb_f1,nb_prec,nb_recall]\n",
        "knn_score = [knn_acc,knn_f1,knn_prec,knn_recall]\n",
        "\n",
        "a1 = np.arange(len(log_reg_score))\n",
        "a2 = [x + barsize for x in a1]\n",
        "a3 = [x + barsize for x in a2]\n",
        "\n",
        "ax1.bar(a1, log_reg_score, width=barsize, edgecolor='white', label='Logistic Regression')\n",
        "ax1.bar(a2, nb_score, width=barsize, edgecolor='white', label='Naive Bayes')\n",
        "ax1.bar(a3, knn_score, width=barsize, edgecolor='white', label='K-Nearest Neighbors')\n",
        "\n",
        "\n",
        "ax1.set_xlabel('Metrics', fontweight='bold')\n",
        "labels = ['Accuracy', 'F1', 'Precision', 'Recall']\n",
        "ax1.set_xticks([r + (barsize * 1.5) for r in range(len(log_reg_score))], )\n",
        "ax1.set_xticklabels(labels)\n",
        "ax1.set_ylabel('Score', fontweight='bold')\n",
        "ax1.set_ylim(0, 1)\n",
        "\n",
        "ax1.set_title('Score comparision', fontsize=14, fontweight='bold')\n",
        "ax1.legend()\n",
        "\n",
        "ax2.plot(fpr_log, tpr_log, label='Logistic Regression, auc = {:0.5f}'.format(auc_log))\n",
        "ax2.plot(fpr_nb, tpr_nb, label='Naive Bayes, auc = {:0.5f}'.format(auc_nb))\n",
        "ax2.plot(fpr_knn, tpr_knn, label='K-Nearest Neighbors, auc = {:0.5f}'.format(auc_knn))\n",
        "\n",
        "ax2.set_xlabel('False Positive Rate', fontweight='bold')\n",
        "ax2.set_ylabel('True Positive Rate', fontweight='bold')\n",
        "\n",
        "\n",
        "ax2.set_title('ROC Curve', fontsize=14, fontweight='bold')\n",
        "ax2.legend(loc=4)\n",
        "\n",
        "plt.show()\n"
      ],
      "metadata": {
        "colab": {
          "base_uri": "https://localhost:8080/",
          "height": 697
        },
        "id": "O0_LcByXbYGN",
        "outputId": "a9623d8e-a10f-4267-9ed6-46da8884eabe"
      },
      "execution_count": 47,
      "outputs": [
        {
          "output_type": "display_data",
          "data": {
            "text/plain": [
              "<Figure size 1400x700 with 2 Axes>"
            ],
            "image/png": "[encoded data removed]"
          },
          "metadata": {}
        }
      ]
    },
    {
      "cell_type": "markdown",
      "source": [
        "Modifying the K-value in KNN algorithm"
      ],
      "metadata": {
        "id": "77cBOVMebeet"
      }
    },
    {
      "cell_type": "code",
      "source": [
        "knn1 = KNeighborsClassifier(n_neighbors=5)\n",
        "\n",
        "knn1.fit(X_train,Y_train)\n",
        "Y_predct_knn1 = knn1.predict(X_test)"
      ],
      "metadata": {
        "id": "L1X5cJMYbigr"
      },
      "execution_count": 48,
      "outputs": []
    },
    {
      "cell_type": "code",
      "source": [
        "knn1_acc = metrics.accuracy_score(Y_test, Y_predct_knn1)\n",
        "knn1_f1 = metrics.f1_score(Y_test, Y_predct_knn1)\n",
        "knn1_prec = metrics.precision_score(Y_test, Y_predct_knn1)\n",
        "knn1_recall = metrics.recall_score(Y_test, Y_predct_knn1)\n",
        "print(\"Accuracy:\", knn1_acc)\n",
        "print(\"F1 Score:\",knn1_f1)\n",
        "print(\"Precision:\",knn1_prec)\n",
        "print(\"Recall:\",knn1_recall)"
      ],
      "metadata": {
        "colab": {
          "base_uri": "https://localhost:8080/"
        },
        "id": "dJB3rwB1bm4C",
        "outputId": "fe1782f1-c81f-4fea-955d-58441b76172d"
      },
      "execution_count": 49,
      "outputs": [
        {
          "output_type": "stream",
          "name": "stdout",
          "text": [
            "Accuracy: 0.7736451207922186\n",
            "F1 Score: 0.8486474612439592\n",
            "Precision: 0.8090650710545999\n",
            "Recall: 0.8923021084237965\n"
          ]
        }
      ]
    },
    {
      "cell_type": "markdown",
      "source": [
        "Split the Dataset as 20% and 80% for test and train respectively"
      ],
      "metadata": {
        "id": "uZoRueAEbpcv"
      }
    },
    {
      "cell_type": "code",
      "source": [
        "X_train2, X_test2, Y_train2, Y_test2 = train_test_split(X, Y, test_size = 0.2, random_state = 4)"
      ],
      "metadata": {
        "id": "a24i49dIb1TS"
      },
      "execution_count": 50,
      "outputs": []
    },
    {
      "cell_type": "code",
      "source": [
        "knn3 = KNeighborsClassifier(n_neighbors=3,weights=\"distance\")\n",
        "knn3.fit(X_train2,Y_train2)\n",
        "Y_predct_knn3 = knn3.predict(X_test2)"
      ],
      "metadata": {
        "id": "_9FU8iqob2O4"
      },
      "execution_count": 51,
      "outputs": []
    },
    {
      "cell_type": "code",
      "source": [
        "knn3_acc = metrics.accuracy_score(Y_test2, Y_predct_knn3)\n",
        "knn3_f1 = metrics.f1_score(Y_test2, Y_predct_knn3)\n",
        "knn3_prec = metrics.precision_score(Y_test2, Y_predct_knn3)\n",
        "knn3_recall = metrics.recall_score(Y_test2, Y_predct_knn3)\n",
        "print(\"Accuracy:\", knn3_acc)\n",
        "print(\"F1 Score:\",knn3_f1)\n",
        "print(\"Precision:\",knn3_prec)\n",
        "print(\"Recall:\",knn3_recall)"
      ],
      "metadata": {
        "colab": {
          "base_uri": "https://localhost:8080/"
        },
        "id": "Hf7TorqTb5F4",
        "outputId": "d7cbcd16-f43d-4f43-867d-8850a51ffbe1"
      },
      "execution_count": 52,
      "outputs": [
        {
          "output_type": "stream",
          "name": "stdout",
          "text": [
            "Accuracy: 0.8284582893347413\n",
            "F1 Score: 0.8819761457891868\n",
            "Precision: 0.8635210432720806\n",
            "Recall: 0.9012373174956694\n"
          ]
        }
      ]
    }
  ]
}